{
 "cells": [
  {
   "cell_type": "code",
   "execution_count": 3,
   "id": "344af15e",
   "metadata": {},
   "outputs": [
    {
     "name": "stderr",
     "output_type": "stream",
     "text": [
      "C:\\Users\\dlali\\AppData\\Local\\Temp\\ipykernel_19856\\2650430601.py:1: DeprecationWarning: Importing display from IPython.core.display is deprecated since IPython 7.14, please import from IPython display\n",
      "  from IPython.core.display import display, HTML\n"
     ]
    },
    {
     "data": {
      "text/html": [
       "<style>.container { width:75% !important; }</style>"
      ],
      "text/plain": [
       "<IPython.core.display.HTML object>"
      ]
     },
     "metadata": {},
     "output_type": "display_data"
    }
   ],
   "source": [
    "from IPython.core.display import display, HTML\n",
    "display(HTML(\"<style>.container { width:75% !important; }</style>\"))"
   ]
  },
  {
   "cell_type": "code",
   "execution_count": 4,
   "id": "01f7ec1e",
   "metadata": {},
   "outputs": [
    {
     "name": "stderr",
     "output_type": "stream",
     "text": [
      "C:\\Users\\dlali\\AppData\\Local\\Temp\\ipykernel_19856\\3419464487.py:7: DtypeWarning: Columns (9) have mixed types. Specify dtype option on import or set low_memory=False.\n",
      "  comments_list.append(pd.read_csv(comments_path.format(i)))\n",
      "C:\\Users\\dlali\\AppData\\Local\\Temp\\ipykernel_19856\\3419464487.py:7: DtypeWarning: Columns (9) have mixed types. Specify dtype option on import or set low_memory=False.\n",
      "  comments_list.append(pd.read_csv(comments_path.format(i)))\n"
     ]
    },
    {
     "name": "stdout",
     "output_type": "stream",
     "text": [
      "(7242871, 12)\n"
     ]
    }
   ],
   "source": [
    "import pandas as pd\n",
    "import numpy as np\n",
    "\n",
    "comments_path = 'ASM_PZ2_podaci_2122/reddit2008/comments_2008_asm/csv-{}.csv'\n",
    "comments_list = []\n",
    "for i in range(0, 12):\n",
    "    comments_list.append(pd.read_csv(comments_path.format(i)))\n",
    "\n",
    "comments_dtypes = {\n",
    "    \"id\": object,\n",
    "    \"author\": object,\n",
    "    \"link_id\": object,\n",
    "    \"parent_id\": object,\n",
    "    \"created_utc\": int,\n",
    "    \"subreddit\": object,\n",
    "    \"subreddit_id\": object,\n",
    "    \"score\": int,\n",
    "    \"distinguished\": object,\n",
    "    \"gilded\": int,\n",
    "    \"controversiality\": int\n",
    "}\n",
    "#comments_data = comments_data.astype(comments_dtypes)\n",
    "    \n",
    "comments_data = pd.concat(comments_list)\n",
    "comments_list = []\n",
    "comments_data.reset_index(inplace = True, drop = True)\n",
    "\n",
    "print(comments_data.shape)"
   ]
  },
  {
   "cell_type": "code",
   "execution_count": 5,
   "id": "97894e95",
   "metadata": {},
   "outputs": [
    {
     "name": "stderr",
     "output_type": "stream",
     "text": [
      "C:\\Users\\dlali\\AppData\\Local\\Temp\\ipykernel_19856\\2766308442.py:4: DtypeWarning: Columns (11) have mixed types. Specify dtype option on import or set low_memory=False.\n",
      "  submissions_list.append(pd.read_csv(submissions_path.format(i)))\n",
      "C:\\Users\\dlali\\AppData\\Local\\Temp\\ipykernel_19856\\2766308442.py:4: DtypeWarning: Columns (11) have mixed types. Specify dtype option on import or set low_memory=False.\n",
      "  submissions_list.append(pd.read_csv(submissions_path.format(i)))\n"
     ]
    },
    {
     "name": "stdout",
     "output_type": "stream",
     "text": [
      "(2519853, 16)\n"
     ]
    }
   ],
   "source": [
    "submissions_path = 'ASM_PZ2_podaci_2122/reddit2008/submissions_2008_asm/csv-{}.csv'\n",
    "submissions_list = []\n",
    "for i in range(0, 12):\n",
    "    submissions_list.append(pd.read_csv(submissions_path.format(i)))\n",
    "\n",
    "submissions_dtypes = {\n",
    "    \"id\": object,\n",
    "    \"url\": object,\n",
    "    \"permalink\": object,\n",
    "    \"author\": object,\n",
    "    \"created_utc\": int,\n",
    "    \"subreddit\": object,\n",
    "    \"subreddit_id\": object,\n",
    "    \"num_comments\": int,\n",
    "    \"score\": int,\n",
    "    \"over_18\": bool,\n",
    "    \"distinguished\": object,\n",
    "    \"domain\": object,\n",
    "    \"stickied\": bool,\n",
    "    \"locked\": bool,\n",
    "    \"hide_score\": bool\n",
    "}\n",
    "#submissions_data = submissions_data.astype(submissions_dtypes)\n",
    "    \n",
    "submissions_data = pd.concat(submissions_list)\n",
    "submissions_list = []\n",
    "submissions_data.reset_index(inplace = True, drop = True)\n",
    "\n",
    "print(submissions_data.shape)"
   ]
  },
  {
   "cell_type": "markdown",
   "id": "4c2d28b6",
   "metadata": {},
   "source": [
    "# Data Cleansing"
   ]
  },
  {
   "cell_type": "code",
   "execution_count": 6,
   "id": "b4b001e5",
   "metadata": {},
   "outputs": [
    {
     "name": "stdout",
     "output_type": "stream",
     "text": [
      "True\n",
      "True\n",
      "False\n",
      "True\n",
      "\n",
      "          Unnamed: 0   id     author   link_id parent_id  created_utc  \\\n",
      "6422487       29975  NaN  fuzzybunn  t3_7kef0    t1_k7p   1229661971   \n",
      "\n",
      "          subreddit subreddit_id  score distinguished  gilded  \\\n",
      "6422487  reddit.com         t5_6      1           NaN       0   \n",
      "\n",
      "         controversiality  \n",
      "6422487                 0  \n",
      "\n",
      "          Unnamed: 0   id     author   link_id   parent_id  created_utc  \\\n",
      "6422486       29974  nam    ithkuil  t3_7kg1c    t3_7kg1c   1229661962   \n",
      "6422487       29975  NaN  fuzzybunn  t3_7kef0      t1_k7p   1229661971   \n",
      "6422488       29976  nao  [deleted]  t3_77mga  t1_c05wklq   1229661974   \n",
      "\n",
      "          subreddit subreddit_id  score distinguished  gilded  \\\n",
      "6422486   AskReddit     t5_2qh1i     -5           NaN       0   \n",
      "6422487  reddit.com         t5_6      1           NaN       0   \n",
      "6422488       astro     t5_2qh2j      1           NaN       0   \n",
      "\n",
      "         controversiality  \n",
      "6422486                 0  \n",
      "6422487                 0  \n",
      "6422488                 0  \n",
      "\n",
      "After id null fix:\n",
      "          Unnamed: 0   id     author   link_id   parent_id  created_utc  \\\n",
      "6422486       29974  nam    ithkuil  t3_7kg1c    t3_7kg1c   1229661962   \n",
      "6422487       29975  nan  fuzzybunn  t3_7kef0      t1_k7p   1229661971   \n",
      "6422488       29976  nao  [deleted]  t3_77mga  t1_c05wklq   1229661974   \n",
      "\n",
      "          subreddit subreddit_id  score distinguished  gilded  \\\n",
      "6422486   AskReddit     t5_2qh1i     -5           NaN       0   \n",
      "6422487  reddit.com         t5_6      1           NaN       0   \n",
      "6422488       astro     t5_2qh2j      1           NaN       0   \n",
      "\n",
      "         controversiality  \n",
      "6422486                 0  \n",
      "6422487                 0  \n",
      "6422488                 0  \n"
     ]
    }
   ],
   "source": [
    "print(comments_data['id'].isnull().values.any())\n",
    "print(comments_data['id'].is_unique)\n",
    "\n",
    "print(submissions_data['id'].isnull().values.any())\n",
    "print(submissions_data['id'].is_unique)\n",
    "\n",
    "comments_null_id = comments_data[comments_data['id'].isnull()]\n",
    "print(\"\\n\", comments_null_id)\n",
    "\n",
    "print(\"\\n\", comments_data.iloc[6422486:6422489, :])\n",
    "\n",
    "comments_data.loc[comments_data['id'].isnull(), 'id'] = \"nan\"\n",
    "\n",
    "print(\"\\nAfter id null fix:\\n\", comments_data.iloc[6422486:6422489, :])"
   ]
  },
  {
   "cell_type": "code",
   "execution_count": 7,
   "id": "baecf069",
   "metadata": {
    "scrolled": true
   },
   "outputs": [
    {
     "name": "stdout",
     "output_type": "stream",
     "text": [
      "Index(['Unnamed: 0', 'id', 'author', 'link_id', 'parent_id', 'created_utc',\n",
      "       'subreddit', 'subreddit_id', 'score', 'distinguished', 'gilded',\n",
      "       'controversiality'],\n",
      "      dtype='object')\n",
      "0               0\n",
      "1               1\n",
      "2               2\n",
      "3               3\n",
      "4               4\n",
      "            ...  \n",
      "7242866    850354\n",
      "7242867    850355\n",
      "7242868    850356\n",
      "7242869    850357\n",
      "7242870    850358\n",
      "Name: Unnamed: 0, Length: 7242871, dtype: int64\n",
      "\n",
      " Index(['id', 'author', 'link_id', 'parent_id', 'created_utc', 'subreddit',\n",
      "       'subreddit_id', 'score', 'distinguished', 'gilded', 'controversiality'],\n",
      "      dtype='object')\n",
      "\n",
      " Index(['Unnamed: 0', 'id', 'url', 'permalink', 'author', 'created_utc',\n",
      "       'subreddit', 'subreddit_id', 'num_comments', 'score', 'over_18',\n",
      "       'distinguished', 'domain', 'stickied', 'locked', 'hide_score'],\n",
      "      dtype='object')\n",
      "0               0\n",
      "1               1\n",
      "2               2\n",
      "3               3\n",
      "4               4\n",
      "            ...  \n",
      "2519848    283910\n",
      "2519849    283911\n",
      "2519850    283912\n",
      "2519851    283913\n",
      "2519852    283914\n",
      "Name: Unnamed: 0, Length: 2519853, dtype: int64\n",
      "\n",
      " Index(['id', 'url', 'permalink', 'author', 'created_utc', 'subreddit',\n",
      "       'subreddit_id', 'num_comments', 'score', 'over_18', 'distinguished',\n",
      "       'domain', 'stickied', 'locked', 'hide_score'],\n",
      "      dtype='object')\n"
     ]
    }
   ],
   "source": [
    "# Unnamed column COMMENTS\n",
    "print(comments_data.columns)\n",
    "print(comments_data[\"Unnamed: 0\"])\n",
    "\n",
    "comments_data = comments_data.drop(columns=[\"Unnamed: 0\"])\n",
    "\n",
    "print(\"\\n\", comments_data.columns)\n",
    "\n",
    "# Unnamed column SUBMISSIONS\n",
    "print(\"\\n\", submissions_data.columns)\n",
    "print(submissions_data[\"Unnamed: 0\"])\n",
    "\n",
    "submissions_data = submissions_data.drop(columns=[\"Unnamed: 0\"])\n",
    "\n",
    "print(\"\\n\", submissions_data.columns)"
   ]
  },
  {
   "cell_type": "code",
   "execution_count": 8,
   "id": "3c0d49ea",
   "metadata": {
    "scrolled": true
   },
   "outputs": [
    {
     "name": "stdout",
     "output_type": "stream",
     "text": [
      "\n",
      "               id     author   link_id   parent_id  created_utc      subreddit  \\\n",
      "3089851  c04mkk2  [deleted]  t3_6qua7  t1_c04mjzq   1215557409  entertainment   \n",
      "7241967  c06vw3y   nonworse  t3_7k6n5  t1_c06vprb   1229577135      worldnews   \n",
      "\n",
      "        subreddit_id  score distinguished  gilded  controversiality  \n",
      "3089851     t5_2qh0f      0           NaN       0                 1  \n",
      "7241967     t5_2qh13      3           NaN       0                 1  \n"
     ]
    }
   ],
   "source": [
    "comments_contr_not_zero = comments_data[comments_data['controversiality'] != 0]\n",
    "print(\"\\n\", comments_contr_not_zero)"
   ]
  },
  {
   "cell_type": "code",
   "execution_count": 9,
   "id": "beb41aec",
   "metadata": {},
   "outputs": [
    {
     "name": "stdout",
     "output_type": "stream",
     "text": [
      "['distinguished']\n"
     ]
    }
   ],
   "source": [
    "# check for null columns - COMMENTS\n",
    "nan_values = comments_data.isna()\n",
    "nan_columns = nan_values.any()\n",
    "columns_with_nan = comments_data.columns[nan_columns].tolist()\n",
    "print(columns_with_nan)"
   ]
  },
  {
   "cell_type": "code",
   "execution_count": 10,
   "id": "85429d70",
   "metadata": {
    "scrolled": true
   },
   "outputs": [
    {
     "name": "stdout",
     "output_type": "stream",
     "text": [
      "\n",
      " (5, 11)\n"
     ]
    }
   ],
   "source": [
    "comments_dis_not_null = comments_data[comments_data['distinguished'].isnull() == False]\n",
    "print(\"\\n\", comments_dis_not_null.shape)"
   ]
  },
  {
   "cell_type": "code",
   "execution_count": 11,
   "id": "e57fc3a9",
   "metadata": {},
   "outputs": [
    {
     "name": "stdout",
     "output_type": "stream",
     "text": [
      "['distinguished', 'domain']\n"
     ]
    }
   ],
   "source": [
    "# check for null columns - SUBMISSIONS\n",
    "nan_values = submissions_data.isna()\n",
    "nan_columns = nan_values.any()\n",
    "columns_with_nan = submissions_data.columns[nan_columns].tolist()\n",
    "print(columns_with_nan)"
   ]
  },
  {
   "cell_type": "code",
   "execution_count": 12,
   "id": "ac52ad8e",
   "metadata": {},
   "outputs": [
    {
     "name": "stdout",
     "output_type": "stream",
     "text": [
      "\n",
      " (5, 15)\n",
      "\n",
      " (6, 15)\n"
     ]
    }
   ],
   "source": [
    "submissions_dis_not_null = submissions_data[submissions_data['distinguished'].isnull() == False]\n",
    "print(\"\\n\", submissions_dis_not_null.shape)\n",
    "\n",
    "submissions_domain_not_null = submissions_data[submissions_data['domain'].isnull() == True]\n",
    "print(\"\\n\", submissions_domain_not_null.shape)\n",
    "#print(\"\\n\", submissions_domain_not_null)"
   ]
  },
  {
   "cell_type": "code",
   "execution_count": 13,
   "id": "8f08f4e3",
   "metadata": {},
   "outputs": [
    {
     "name": "stdout",
     "output_type": "stream",
     "text": [
      "id                  object\n",
      "author              object\n",
      "link_id             object\n",
      "parent_id           object\n",
      "created_utc          int64\n",
      "subreddit           object\n",
      "subreddit_id        object\n",
      "score                int64\n",
      "distinguished       object\n",
      "gilded               int64\n",
      "controversiality     int64\n",
      "dtype: object \n",
      "\n",
      "id               object\n",
      "url              object\n",
      "permalink        object\n",
      "author           object\n",
      "created_utc       int64\n",
      "subreddit        object\n",
      "subreddit_id     object\n",
      "num_comments      int64\n",
      "score             int64\n",
      "over_18            bool\n",
      "distinguished    object\n",
      "domain           object\n",
      "stickied           bool\n",
      "locked             bool\n",
      "hide_score         bool\n",
      "dtype: object\n"
     ]
    }
   ],
   "source": [
    "# Data types check\n",
    "print(comments_data.dtypes, \"\\n\")\n",
    "print(submissions_data.dtypes)"
   ]
  },
  {
   "cell_type": "markdown",
   "id": "4e8ef835",
   "metadata": {},
   "source": [
    "# Statistička obrada podataka (3.4.1.)"
   ]
  },
  {
   "cell_type": "code",
   "execution_count": 14,
   "id": "b44149fd",
   "metadata": {},
   "outputs": [
    {
     "name": "stdout",
     "output_type": "stream",
     "text": [
      "SUBMISSIONS Subreddits:\n",
      " (4968, 2) \n",
      "\n",
      "COMMENTS Subreddits:\n",
      " (2695, 2) \n",
      "\n",
      "ALL Subreddits:\n",
      " (7663, 2) \n",
      "\n",
      "UNIQUE Subreddit pairs:\n",
      " (5034, 2) \n",
      "\n",
      "\n",
      "CHECK FOR NONUNIQUENESS\n",
      "\n",
      "submissions_data subreddit_id - is unique:  True\n",
      "comments_data subreddit_id - is unique:  True\n",
      "Column subreddit - is unique:  False\n",
      "Column subreddit_id - is unique:  False \n",
      "\n",
      "subreddit_id\n",
      "t5_2qhyl    2\n",
      "t5_2qj0s    2\n",
      "Name: subreddit_id, dtype: int64 \n",
      "\n",
      "            subreddit subreddit_id\n",
      "916759       _Descary     t5_2qj0s\n",
      "2003769  __Journalism     t5_2qhyl\n",
      "2719859       Descary     t5_2qj0s\n",
      "5721529    Journalism     t5_2qhyl \n",
      "\n",
      "COMMENTS data rows with target_match IDs:\n",
      "\n",
      "              id     author   link_id parent_id  created_utc   subreddit  \\\n",
      "2719859  c04emsf  [deleted]  t3_6o2b4  t3_6o2b4   1213881938     Descary   \n",
      "5721529  c0672mk      nopal  t3_7bhv5  t3_7bhv5   1225888381  Journalism   \n",
      "\n",
      "        subreddit_id  score distinguished  gilded  controversiality  \n",
      "2719859     t5_2qj0s      1           NaN       0                 0  \n",
      "5721529     t5_2qhyl      1           NaN       0                 0   \n",
      "\n",
      "SUBMISSIONS data rows with target_match IDs:\n",
      "\n",
      "            id                                                url  \\\n",
      "916759   6o0xa  http://rozier-orleans-diary.blogspot.com/2008/...   \n",
      "2003769  7bhv5  http://www.newseum.org/todaysfrontpages/defaul...   \n",
      "\n",
      "                                                 permalink     author  \\\n",
      "916759   /r/_Descary/comments/6o0xa/france_is_not_the_t...   vnrozier   \n",
      "2003769  /r/__Journalism/comments/7bhv5/front_pages_fro...  [deleted]   \n",
      "\n",
      "         created_utc     subreddit subreddit_id  num_comments  score  over_18  \\\n",
      "916759    1213858603      _Descary     t5_2qj0s             0      0     True   \n",
      "2003769   1225888346  __Journalism     t5_2qhyl             1      1    False   \n",
      "\n",
      "        distinguished                             domain  stickied  locked  \\\n",
      "916759            NaN  rozier-orleans-diary.blogspot.com     False   False   \n",
      "2003769           NaN                        newseum.org     False   False   \n",
      "\n",
      "         hide_score  \n",
      "916759        False  \n",
      "2003769       False  \n"
     ]
    }
   ],
   "source": [
    "\n",
    "# 1) Koliko postoji različitih sabredita koji se pojavljuju u posmatranom periodu? Koji su najvažniji po broju korisnika, a koji po broju komentara? \n",
    "\n",
    "submissions_subreddit_columns = submissions_data.loc[:,'subreddit' : 'subreddit_id']\n",
    "submissions_subreddit_columns = submissions_subreddit_columns.drop_duplicates()\n",
    "print(\"SUBMISSIONS Subreddits:\\n\", submissions_subreddit_columns.shape, \"\\n\")\n",
    "\n",
    "comments_subreddit_columns = comments_data.loc[:, 'subreddit' : 'subreddit_id']\n",
    "comments_subreddit_columns = comments_subreddit_columns.drop_duplicates()\n",
    "print(\"COMMENTS Subreddits:\\n\", comments_subreddit_columns.shape, \"\\n\")\n",
    "\n",
    "subreddit_columns = pd.concat([submissions_subreddit_columns, comments_subreddit_columns])\n",
    "print(\"ALL Subreddits:\\n\", subreddit_columns.shape, \"\\n\")\n",
    "\n",
    "subreddit_columns = subreddit_columns.drop_duplicates()\n",
    "print(\"UNIQUE Subreddit pairs:\\n\", subreddit_columns.shape, \"\\n\")\n",
    "\n",
    "#---------------------------------------------------------------------------------------------\n",
    "\n",
    "# check for nonuniqueness (subreddits, subreddit IDs)\n",
    "print(\"\\nCHECK FOR NONUNIQUENESS\\n\")\n",
    "print(\"submissions_data subreddit_id - is unique: \", submissions_subreddit_columns['subreddit_id'].is_unique)\n",
    "print(\"comments_data subreddit_id - is unique: \", comments_subreddit_columns['subreddit_id'].is_unique)\n",
    "print(\"Column subreddit - is unique: \", subreddit_columns['subreddit'].is_unique)\n",
    "print(\"Column subreddit_id - is unique: \", subreddit_columns['subreddit_id'].is_unique, \"\\n\")\n",
    "\n",
    "data_grouped = subreddit_columns[['subreddit', 'subreddit_id']].groupby('subreddit_id')\n",
    "\n",
    "data_aggregated = data_grouped['subreddit_id'].agg(np.size)\n",
    "#print(data_aggregated, \"\\n\")\n",
    "\n",
    "data_nonunique = data_aggregated[data_aggregated > 1]\n",
    "print(data_nonunique, \"\\n\")\n",
    "\n",
    "target_match_list = data_nonunique.keys()[:]\n",
    "#print(\"Nonunique IDs:\", target_match_list, \"\\n\")\n",
    "\n",
    "data_target = subreddit_columns[subreddit_columns['subreddit_id'].isin(target_match_list)]\n",
    "print(data_target, \"\\n\")\n",
    "\n",
    "print(\"COMMENTS data rows with target_match IDs:\\n\")\n",
    "comments_target_rows = comments_data[comments_data['subreddit_id'].isin(target_match_list)]\n",
    "comments_target_rows = comments_target_rows.drop_duplicates('subreddit_id')\n",
    "print(comments_target_rows, \"\\n\")\n",
    "\n",
    "print(\"SUBMISSIONS data rows with target_match IDs:\\n\")\n",
    "submissions_target_rows = submissions_data[submissions_data['subreddit_id'].isin(target_match_list)]\n",
    "submissions_target_rows = submissions_target_rows.drop_duplicates('subreddit_id')\n",
    "print(submissions_target_rows)\n"
   ]
  },
  {
   "cell_type": "code",
   "execution_count": 15,
   "id": "98d39e56",
   "metadata": {
    "scrolled": true
   },
   "outputs": [
    {
     "name": "stdout",
     "output_type": "stream",
     "text": [
      "Before:\n",
      "               subreddit subreddit_id\n",
      "0            reddit.com         t5_6\n",
      "1               science      t5_mouw\n",
      "2           programming      t5_2fwo\n",
      "4              politics     t5_2cneq\n",
      "14                   ja      t5_22i6\n",
      "...                 ...          ...\n",
      "6621110         Gingers     t5_2qqhd\n",
      "6740095    kultur_sanat     t5_2qmtd\n",
      "6777509          Riddle     t5_2qpb6\n",
      "7029905             com     t5_2qpqb\n",
      "7171025  JailbaitPhotos     t5_2qplw\n",
      "\n",
      "[5034 rows x 2 columns] \n",
      "\n",
      "After:\n",
      "               subreddit subreddit_id\n",
      "0            reddit.com         t5_6\n",
      "1               science      t5_mouw\n",
      "2           programming      t5_2fwo\n",
      "4              politics     t5_2cneq\n",
      "14                   ja      t5_22i6\n",
      "...                 ...          ...\n",
      "6621110         Gingers     t5_2qqhd\n",
      "6740095    kultur_sanat     t5_2qmtd\n",
      "6777509          Riddle     t5_2qpb6\n",
      "7029905             com     t5_2qpqb\n",
      "7171025  JailbaitPhotos     t5_2qplw\n",
      "\n",
      "[5032 rows x 2 columns]\n",
      "            id                                                url  \\\n",
      "916759   6o0xa  http://rozier-orleans-diary.blogspot.com/2008/...   \n",
      "2003769  7bhv5  http://www.newseum.org/todaysfrontpages/defaul...   \n",
      "\n",
      "                                                 permalink     author  \\\n",
      "916759   /r/_Descary/comments/6o0xa/france_is_not_the_t...   vnrozier   \n",
      "2003769  /r/__Journalism/comments/7bhv5/front_pages_fro...  [deleted]   \n",
      "\n",
      "         created_utc   subreddit subreddit_id  num_comments  score  over_18  \\\n",
      "916759    1213858603     Descary     t5_2qj0s             0      0     True   \n",
      "2003769   1225888346  Journalism     t5_2qhyl             1      1    False   \n",
      "\n",
      "        distinguished                             domain  stickied  locked  \\\n",
      "916759            NaN  rozier-orleans-diary.blogspot.com     False   False   \n",
      "2003769           NaN                        newseum.org     False   False   \n",
      "\n",
      "         hide_score  \n",
      "916759        False  \n",
      "2003769       False  \n"
     ]
    }
   ],
   "source": [
    "print(\"Before:\\n\", subreddit_columns, \"\\n\")\n",
    "unique_subreddits_1 = subreddit_columns[~((subreddit_columns['subreddit'] == '_Descary') & (subreddit_columns['subreddit_id'] == 't5_2qj0s'))]\n",
    "unique_subreddits = unique_subreddits_1[~((unique_subreddits_1['subreddit'] == '__Journalism') & (unique_subreddits_1['subreddit_id'] == 't5_2qhyl'))]\n",
    "print(\"After:\\n\", unique_subreddits)\n",
    "\n",
    "# Q: Koliko postoji različitih sabredita koji se pojavljuju u posmatranom periodu? \n",
    "# ANSWER: 5032\n",
    "\n",
    "# Changing subreddit (with same IDs) names from _Name to Name ##### TREBALO BI PROMENITI I permalink\n",
    "submissions_data.loc[submissions_data['subreddit_id'] == 't5_2qj0s', 'subreddit'] = 'Descary'\n",
    "submissions_data.loc[submissions_data['subreddit_id'] == 't5_2qhyl', 'subreddit'] = 'Journalism'\n",
    "\n",
    "submissions_rows = submissions_data[submissions_data['subreddit_id'].isin(target_match_list)]\n",
    "submissions_rows = submissions_rows.drop_duplicates('subreddit_id')\n",
    "print(submissions_rows)"
   ]
  },
  {
   "cell_type": "code",
   "execution_count": 16,
   "id": "c5543d00",
   "metadata": {
    "scrolled": true
   },
   "outputs": [
    {
     "name": "stdout",
     "output_type": "stream",
     "text": [
      "SUBREDDIT WITH MAX NUMBER OF COMMENTS:\n",
      "\n",
      "Subreddits num_comments:\n",
      "                subreddit subreddit_id  num_comments\n",
      "0        10stepstohealth     t5_2qkc6             1\n",
      "1                1111111     t5_2qmqz             1\n",
      "2                   1337     t5_2qmjz             8\n",
      "3     1_Irritated_Mother     t5_2qq2z             1\n",
      "4                 1keral     t5_2qqj4             2\n",
      "...                  ...          ...           ...\n",
      "4963            zoepster     t5_2qkks             1\n",
      "4964             zombies     t5_2qi0e           349\n",
      "4965                zope     t5_2qo2s             1\n",
      "4966                zora     t5_2qhnl             5\n",
      "4967               zubii     t5_2ql58             0\n",
      "\n",
      "[4968 rows x 3 columns] \n",
      "\n",
      "Subreddits with MAX num of comments:\n",
      " subreddit       reddit.com\n",
      "subreddit_id          t5_6\n",
      "num_comments       1768764\n",
      "Name: 4154, dtype: object \n",
      "\n",
      "First 10 subreddits with MAX num of comments:\n",
      "         subreddit subreddit_id  num_comments\n",
      "4154   reddit.com         t5_6       1768764\n",
      "4022     politics     t5_2cneq       1059618\n",
      "4066  programming      t5_2fwo        421137\n",
      "3988         pics     t5_2qh0u        383239\n",
      "4285      science      t5_mouw        340915\n",
      "4891    worldnews     t5_2qh13        311134\n",
      "1962          WTF     t5_2qh61        257815\n",
      "3010        funny     t5_2qh33        237098\n",
      "4555   technology     t5_2qh16        206335\n",
      "162     AskReddit     t5_2qh1i        196314 \n",
      "\n"
     ]
    }
   ],
   "source": [
    "print(\"SUBREDDIT WITH MAX NUMBER OF COMMENTS:\\n\")\n",
    "submissions_num_comments = submissions_data.groupby([\"subreddit\",\"subreddit_id\"]).num_comments.sum().reset_index()\n",
    "print(\"Subreddits num_comments:\\n\", submissions_num_comments, \"\\n\")\n",
    "\n",
    "max_num_comments = submissions_num_comments['num_comments'].idxmax()\n",
    "max_num_comments_row = submissions_num_comments.iloc[max_num_comments]\n",
    "print(\"Subreddits with MAX num of comments:\\n\", max_num_comments_row, \"\\n\")\n",
    "\n",
    "max_num_comments_10_rows = submissions_num_comments.nlargest(10, 'num_comments')\n",
    "print(\"First 10 subreddits with MAX num of comments:\\n\", max_num_comments_10_rows, \"\\n\")\n",
    "\n",
    "# Q: Koji su najvažniji po broju korisnika, a koji po broju komentara?\n",
    "# A: Po broju komentara: reddit.com (1768764), politics(1059618), programming(421137), ...\n"
   ]
  },
  {
   "cell_type": "code",
   "execution_count": 17,
   "id": "e2a7d474",
   "metadata": {},
   "outputs": [
    {
     "name": "stdout",
     "output_type": "stream",
     "text": [
      "SUBREDDIT WITH MAX NUMBER OF USERS:\n",
      "\n",
      "Subreddits authors:\n",
      "            subreddit subreddit_id     author\n",
      "0         reddit.com         t5_6      DITUS\n",
      "1            science      t5_mouw     rmuser\n",
      "2        programming      t5_2fwo  [deleted]\n",
      "3         reddit.com         t5_6      zorno\n",
      "4           politics     t5_2cneq     rmuser\n",
      "...              ...          ...        ...\n",
      "2519848     politics     t5_2cneq   middkidd\n",
      "2519849          ass     t5_2qoil  [deleted]\n",
      "2519850         nsfw       t5_vf2  [deleted]\n",
      "2519851       gaming     t5_2qh03  [deleted]\n",
      "2519852   reddit.com         t5_6     klippa\n",
      "\n",
      "[2519853 rows x 3 columns] \n",
      "\n",
      "Subreddits authors without duplicates:\n",
      "            subreddit subreddit_id            author\n",
      "0         reddit.com         t5_6             DITUS\n",
      "1            science      t5_mouw            rmuser\n",
      "2        programming      t5_2fwo         [deleted]\n",
      "3         reddit.com         t5_6             zorno\n",
      "4           politics     t5_2cneq            rmuser\n",
      "...              ...          ...               ...\n",
      "2519835   reddit.com         t5_6          edlive96\n",
      "2519836   reddit.com         t5_6  TrendyBrandyKids\n",
      "2519840     politics     t5_2cneq      ohstrangeone\n",
      "2519844        funny     t5_2qh33   themightymidget\n",
      "2519852   reddit.com         t5_6            klippa\n",
      "\n",
      "[320123 rows x 3 columns] \n",
      "\n",
      "Subreddit num_authors:\n",
      "                subreddit subreddit_id  author\n",
      "0        10stepstohealth     t5_2qkc6       1\n",
      "1                1111111     t5_2qmqz       1\n",
      "2                   1337     t5_2qmjz       1\n",
      "3     1_Irritated_Mother     t5_2qq2z       2\n",
      "4                 1keral     t5_2qqj4       1\n",
      "...                  ...          ...     ...\n",
      "4963            zoepster     t5_2qkks       1\n",
      "4964             zombies     t5_2qi0e      40\n",
      "4965                zope     t5_2qo2s       2\n",
      "4966                zora     t5_2qhnl       1\n",
      "4967               zubii     t5_2ql58       1\n",
      "\n",
      "[4968 rows x 3 columns] \n",
      "\n",
      "Subreddits with MAX num of authors:\n",
      " subreddit       reddit.com\n",
      "subreddit_id          t5_6\n",
      "author              138153\n",
      "Name: 4154, dtype: object \n",
      "\n",
      "First 10 subreddits with MAX num of authors:\n",
      "           subreddit subreddit_id  author\n",
      "4154     reddit.com         t5_6  138153\n",
      "4022       politics     t5_2cneq   15250\n",
      "2443       business     t5_2qgzg   13009\n",
      "4555     technology     t5_2qh16   13002\n",
      "2852  entertainment     t5_2qh0f   12624 \n",
      "\n"
     ]
    }
   ],
   "source": [
    "print(\"SUBREDDIT WITH MAX NUMBER OF USERS:\\n\")\n",
    "submissions_authors = submissions_data[['subreddit', 'subreddit_id', 'author']]\n",
    "print(\"Subreddits authors:\\n\", submissions_authors, \"\\n\")\n",
    "\n",
    "submissions_authors_unique = submissions_authors.drop_duplicates()\n",
    "print(\"Subreddits authors without duplicates:\\n\", submissions_authors_unique, \"\\n\")\n",
    "\n",
    "submissions_num_authors = submissions_authors_unique.groupby([\"subreddit\",\"subreddit_id\"]).author.count().reset_index()\n",
    "print(\"Subreddit num_authors:\\n\", submissions_num_authors, \"\\n\")\n",
    "\n",
    "max_num_authors = submissions_num_authors['author'].idxmax()\n",
    "max_num_authors_row = submissions_num_authors.iloc[max_num_authors]\n",
    "print(\"Subreddits with MAX num of authors:\\n\", max_num_authors_row, \"\\n\")\n",
    "\n",
    "max_num_authors_10_rows = submissions_num_authors.nlargest(5, 'author')\n",
    "print(\"First 10 subreddits with MAX num of authors:\\n\", max_num_authors_10_rows, \"\\n\")\n",
    "\n",
    "# sta raditi sa celijama gde je author==[deleted] ??\n",
    "\n",
    "# Q: Koji  su najvažniji po broju korisnika, a koji po broju komentara?\n",
    "# A: Po broju korisnika: reddit.com (138153), politics(15250), business(13009), ..."
   ]
  },
  {
   "cell_type": "code",
   "execution_count": 18,
   "id": "12779a8a",
   "metadata": {},
   "outputs": [
    {
     "name": "stdout",
     "output_type": "stream",
     "text": [
      "AUTHORS PER SUBMISSION:\n",
      "\n",
      "Submissions authors:\n",
      "            subreddit subreddit_id     author\n",
      "0         reddit.com         t5_6      DITUS\n",
      "1            science      t5_mouw     rmuser\n",
      "2        programming      t5_2fwo  [deleted]\n",
      "3         reddit.com         t5_6      zorno\n",
      "4           politics     t5_2cneq     rmuser\n",
      "...              ...          ...        ...\n",
      "2519848     politics     t5_2cneq   middkidd\n",
      "2519849          ass     t5_2qoil  [deleted]\n",
      "2519850         nsfw       t5_vf2  [deleted]\n",
      "2519851       gaming     t5_2qh03  [deleted]\n",
      "2519852   reddit.com         t5_6     klippa\n",
      "\n",
      "[2519853 rows x 3 columns] \n",
      "\n",
      "Submissions authors without duplicates:\n",
      "            subreddit subreddit_id            author\n",
      "0         reddit.com         t5_6             DITUS\n",
      "1            science      t5_mouw            rmuser\n",
      "2        programming      t5_2fwo         [deleted]\n",
      "3         reddit.com         t5_6             zorno\n",
      "4           politics     t5_2cneq            rmuser\n",
      "...              ...          ...               ...\n",
      "2519835   reddit.com         t5_6          edlive96\n",
      "2519836   reddit.com         t5_6  TrendyBrandyKids\n",
      "2519840     politics     t5_2cneq      ohstrangeone\n",
      "2519844        funny     t5_2qh33   themightymidget\n",
      "2519852   reddit.com         t5_6            klippa\n",
      "\n",
      "[320123 rows x 3 columns] \n",
      "\n",
      "AUTHORS PER COMMENT:\n",
      "\n",
      "Comments authors:\n",
      "           subreddit subreddit_id          author\n",
      "0        reddit.com         t5_6           Haven\n",
      "1        reddit.com         t5_6       [deleted]\n",
      "2        reddit.com         t5_6        lilmiss2\n",
      "3        reddit.com         t5_6       [deleted]\n",
      "4        reddit.com         t5_6       [deleted]\n",
      "...             ...          ...             ...\n",
      "7242866       Music     t5_2qh1u       [deleted]\n",
      "7242867      comics     t5_2qh0s    Morgin_Black\n",
      "7242868   Economics     t5_2qh1s       [deleted]\n",
      "7242869     atheism     t5_2qh2p  onezerozeroone\n",
      "7242870         WTF     t5_2qh61       vypermann\n",
      "\n",
      "[7242871 rows x 3 columns] \n",
      "\n",
      "Comments authors without duplicates:\n",
      "           subreddit subreddit_id               author\n",
      "0        reddit.com         t5_6                Haven\n",
      "1        reddit.com         t5_6            [deleted]\n",
      "2        reddit.com         t5_6             lilmiss2\n",
      "5          politics     t5_2cneq            [deleted]\n",
      "6        reddit.com         t5_6  EverybodysAnAsshole\n",
      "...             ...          ...                  ...\n",
      "7242690     atheism     t5_2qh2p                snoaj\n",
      "7242749  reddit.com         t5_6             aurora3d\n",
      "7242775  craigslist     t5_2qh5k          Thumperings\n",
      "7242780  technology     t5_2qh16                yentz\n",
      "7242861       Drugs     t5_2qh7l        Altoid_Addict\n",
      "\n",
      "[432197 rows x 3 columns] \n",
      "\n",
      "AUTHORS PER COMMENT AND PER SUBMISSION:\n",
      "(752320, 3) \n",
      "\n",
      "Subreddit authors without duplicates:\n",
      "           subreddit subreddit_id               author\n",
      "0        reddit.com         t5_6                Haven\n",
      "1        reddit.com         t5_6            [deleted]\n",
      "2        reddit.com         t5_6             lilmiss2\n",
      "5          politics     t5_2cneq            [deleted]\n",
      "6        reddit.com         t5_6  EverybodysAnAsshole\n",
      "...             ...          ...                  ...\n",
      "2519814  reddit.com         t5_6             suncodel\n",
      "2519835  reddit.com         t5_6             edlive96\n",
      "2519836  reddit.com         t5_6     TrendyBrandyKids\n",
      "2519844       funny     t5_2qh33      themightymidget\n",
      "2519852  reddit.com         t5_6               klippa\n",
      "\n",
      "[650794 rows x 3 columns] \n",
      "\n",
      "Subreddit num_authors:\n",
      "                subreddit subreddit_id  author\n",
      "0        10stepstohealth     t5_2qkc6       1\n",
      "1                1111111     t5_2qmqz       1\n",
      "2                   1337     t5_2qmjz       3\n",
      "3     1_Irritated_Mother     t5_2qq2z       2\n",
      "4                 1keral     t5_2qqj4       1\n",
      "...                  ...          ...     ...\n",
      "5027            zoepster     t5_2qkks       1\n",
      "5028             zombies     t5_2qi0e     138\n",
      "5029                zope     t5_2qo2s       2\n",
      "5030                zora     t5_2qhnl       2\n",
      "5031               zubii     t5_2ql58       1\n",
      "\n",
      "[5032 rows x 3 columns] \n",
      "\n",
      "Average number of authors per subreddit:\n",
      " 129\n"
     ]
    }
   ],
   "source": [
    "# 2) Kakav je prosečan broj zabeleženih korisnika aktivnih u posmatranom periodu po sabreditu? \n",
    "# Korisnik se smatra aktivnim na sabreditu ako je zabeležen barem jedan komentar ili objava tog korisnika.\n",
    "\n",
    "print(\"AUTHORS PER SUBMISSION:\\n\")\n",
    "submissions_authors = submissions_data[['subreddit', 'subreddit_id', 'author']]\n",
    "print(\"Submissions authors:\\n\", submissions_authors, \"\\n\")\n",
    "\n",
    "submissions_authors_unique = submissions_authors.drop_duplicates()\n",
    "print(\"Submissions authors without duplicates:\\n\", submissions_authors_unique, \"\\n\")\n",
    "\n",
    "print(\"AUTHORS PER COMMENT:\\n\")\n",
    "comments_authors = comments_data[['subreddit', 'subreddit_id', 'author']]\n",
    "print(\"Comments authors:\\n\", comments_authors, \"\\n\")\n",
    "\n",
    "comments_authors_unique = comments_authors.drop_duplicates()\n",
    "print(\"Comments authors without duplicates:\\n\", comments_authors_unique, \"\\n\")\n",
    "\n",
    "print(\"AUTHORS PER COMMENT AND PER SUBMISSION:\")\n",
    "subreddit_authors = pd.concat([comments_authors_unique, submissions_authors_unique])\n",
    "print(subreddit_authors.shape, \"\\n\")\n",
    "\n",
    "subreddit_authors_unique = subreddit_authors.drop_duplicates()\n",
    "print(\"Subreddit authors without duplicates:\\n\", subreddit_authors_unique, \"\\n\")\n",
    "\n",
    "subreddit_num_authors = subreddit_authors_unique.groupby([\"subreddit\",\"subreddit_id\"]).author.count().reset_index()\n",
    "print(\"Subreddit num_authors:\\n\", subreddit_num_authors, \"\\n\")\n",
    "\n",
    "subreddit_sum_authors = subreddit_num_authors['author'].sum()\n",
    "subreddit_authors_num_rows = subreddit_num_authors.shape[0]\n",
    "subreddit_authors_avg = round(subreddit_sum_authors/subreddit_authors_num_rows)\n",
    "print(\"Average number of authors per subreddit:\\n\", subreddit_authors_avg)\n",
    "\n",
    "# Q: Kakav je prosečan broj zabeleženih korisnika aktivnih u posmatranom periodu po sabreditu?\n",
    "# A: 129"
   ]
  },
  {
   "cell_type": "code",
   "execution_count": 19,
   "id": "f5e11222",
   "metadata": {},
   "outputs": [
    {
     "name": "stdout",
     "output_type": "stream",
     "text": [
      "MAX SUBMISSIONS USERS:\n",
      "\n",
      "With deleted:\n",
      " [deleted]           475043\n",
      "gst                  18870\n",
      "qgyh2                12238\n",
      "rmuser                9822\n",
      "twolf1                8597\n",
      "IAmperfectlyCalm      8308\n",
      "Name: author, dtype: int64\n",
      "\n",
      "Users with max_submissions:\n",
      " gst                 18870\n",
      "qgyh2               12238\n",
      "rmuser               9822\n",
      "twolf1               8597\n",
      "IAmperfectlyCalm     8308\n",
      "Name: author, dtype: int64\n",
      "\n",
      "MAX COMMENTS USERS:\n",
      "\n",
      "With deleted:\n",
      " [deleted]          2369181\n",
      "NoMoreNicksLeft      13480\n",
      "malcontent           12159\n",
      "matts2               11672\n",
      "mexicodoug            9169\n",
      "7oby                  9161\n",
      "Name: author, dtype: int64\n",
      "\n",
      "Users with max_comments:\n",
      " NoMoreNicksLeft    13480\n",
      "malcontent         12159\n",
      "matts2             11672\n",
      "mexicodoug          9169\n",
      "7oby                9161\n",
      "Name: author, dtype: int64\n"
     ]
    }
   ],
   "source": [
    "# 3) Ko su korisnici sa najvećim brojem objava, a ko korisnici sa najvećim brojem komentara? \n",
    "\n",
    "print(\"MAX SUBMISSIONS USERS:\\n\")\n",
    "max_submissions_users = submissions_data.author.value_counts()[:6]\n",
    "print(\"With deleted:\\n\", max_submissions_users)\n",
    "max_submissions_users_not_del = max_submissions_users.tail(max_submissions_users.shape[0] - 1)\n",
    "print(\"\\nUsers with max_submissions:\\n\", max_submissions_users_not_del)\n",
    "\n",
    "# Q: Ko su korisnici sa najvećim brojem objava, a ko korisnici sa najvećim brojem komentara? \n",
    "# A: Korisnici sa najvećim brojem objava: gst(18870), qgyh2(12238), ...\n",
    "\n",
    "print(\"\\nMAX COMMENTS USERS:\\n\")\n",
    "max_comments_users = comments_data.author.value_counts()[:6]\n",
    "print(\"With deleted:\\n\", max_comments_users)\n",
    "max_comments_users_not_del = max_comments_users.tail(max_comments_users.shape[0] - 1)\n",
    "print(\"\\nUsers with max_comments:\\n\", max_comments_users_not_del)\n",
    "\n",
    "# Q: Ko su korisnici sa najvećim brojem objava, a ko korisnici sa najvećim brojem komentara? \n",
    "# A: Korisnici sa najvećim brojem komentara: NoMoreNicksLeft(13480), malcontent(12159), ..."
   ]
  },
  {
   "cell_type": "code",
   "execution_count": 20,
   "id": "2f380c1a",
   "metadata": {},
   "outputs": [
    {
     "name": "stdout",
     "output_type": "stream",
     "text": [
      "SUBMISSION AUTHORS PER SUBREDDIT:\n",
      "\n",
      "Submissions authors:\n",
      " (2519853, 3) \n",
      "\n",
      "Submissions authors without duplicates:\n",
      "            subreddit subreddit_id            author\n",
      "0         reddit.com         t5_6             DITUS\n",
      "1            science      t5_mouw            rmuser\n",
      "2        programming      t5_2fwo         [deleted]\n",
      "3         reddit.com         t5_6             zorno\n",
      "4           politics     t5_2cneq            rmuser\n",
      "...              ...          ...               ...\n",
      "2519835   reddit.com         t5_6          edlive96\n",
      "2519836   reddit.com         t5_6  TrendyBrandyKids\n",
      "2519840     politics     t5_2cneq      ohstrangeone\n",
      "2519844        funny     t5_2qh33   themightymidget\n",
      "2519852   reddit.com         t5_6            klippa\n",
      "\n",
      "[320123 rows x 3 columns] \n",
      "\n",
      "COMMENT AUTHORS PER SUBREDDIT:\n",
      "\n",
      "Comments authors:\n",
      " (7242871, 3) \n",
      "\n",
      "Comments authors without duplicates:\n",
      "           subreddit subreddit_id               author\n",
      "0        reddit.com         t5_6                Haven\n",
      "1        reddit.com         t5_6            [deleted]\n",
      "2        reddit.com         t5_6             lilmiss2\n",
      "5          politics     t5_2cneq            [deleted]\n",
      "6        reddit.com         t5_6  EverybodysAnAsshole\n",
      "...             ...          ...                  ...\n",
      "7242690     atheism     t5_2qh2p                snoaj\n",
      "7242749  reddit.com         t5_6             aurora3d\n",
      "7242775  craigslist     t5_2qh5k          Thumperings\n",
      "7242780  technology     t5_2qh16                yentz\n",
      "7242861       Drugs     t5_2qh7l        Altoid_Addict\n",
      "\n",
      "[432197 rows x 3 columns] \n",
      "\n",
      "COMMENT AND SUBMISSION AUTHORS PER SUBREDDIT:\n",
      "(752320, 3) \n",
      "\n",
      "MAX SUBREDDIT USERS:\n",
      "\n",
      "With deleted:\n",
      " [deleted]         3960\n",
      "Escafane           214\n",
      "MrKlaatu           201\n",
      "scientologist2     177\n",
      "krugerlive         164\n",
      "omfgninja          157\n",
      "Name: author, dtype: int64 \n",
      "\n",
      "Users active on max_subreddits:\n",
      " Escafane          214\n",
      "MrKlaatu          201\n",
      "scientologist2    177\n",
      "krugerlive        164\n",
      "omfgninja         157\n",
      "Name: author, dtype: int64\n"
     ]
    }
   ],
   "source": [
    "# 4) Koji korisnici su aktivni na najvećem broju sabredita? Na koliko su sabredita aktivni?\n",
    "\n",
    "print(\"SUBMISSION AUTHORS PER SUBREDDIT:\\n\")\n",
    "submissions_authors_4 = submissions_data[['subreddit', 'subreddit_id', 'author']]\n",
    "print(\"Submissions authors:\\n\", submissions_authors_4.shape, \"\\n\")\n",
    "\n",
    "submissions_authors_unique_4 = submissions_authors_4.drop_duplicates()\n",
    "print(\"Submissions authors without duplicates:\\n\", submissions_authors_unique_4, \"\\n\")\n",
    "\n",
    "print(\"COMMENT AUTHORS PER SUBREDDIT:\\n\")\n",
    "comments_authors_4 = comments_data[['subreddit', 'subreddit_id', 'author']]\n",
    "print(\"Comments authors:\\n\", comments_authors_4.shape, \"\\n\")\n",
    "\n",
    "comments_authors_unique_4 = comments_authors_4.drop_duplicates()\n",
    "print(\"Comments authors without duplicates:\\n\", comments_authors_unique_4, \"\\n\")\n",
    "\n",
    "print(\"COMMENT AND SUBMISSION AUTHORS PER SUBREDDIT:\")\n",
    "subreddit_authors_4 = pd.concat([comments_authors_unique_4, submissions_authors_unique_4])\n",
    "print(subreddit_authors_4.shape, \"\\n\")\n",
    "\n",
    "print(\"MAX SUBREDDIT USERS:\\n\")\n",
    "max_subreddit_users_4 = subreddit_authors_4.author.value_counts()[:6]\n",
    "print(\"With deleted:\\n\", max_subreddit_users_4, \"\\n\")\n",
    "max_subreddit_users_not_del_4 = max_subreddit_users_4.tail(max_subreddit_users_4.shape[0] - 1)\n",
    "print(\"Users active on max_subreddits:\\n\", max_subreddit_users_not_del_4)\n",
    "\n",
    "# Q: Koji korisnici su aktivni na najvećem broju sabredita? Na koliko su sabredita aktivni?\n",
    "# A: MrKlaatu(181), Escafane(154), ..."
   ]
  },
  {
   "cell_type": "code",
   "execution_count": 24,
   "id": "c024ff71",
   "metadata": {},
   "outputs": [
    {
     "name": "stdout",
     "output_type": "stream",
     "text": [
      "MAX SUBMISSIONS USERS:\n",
      "\n",
      "With deleted:\n",
      "                   author  sub_count\n",
      "1                    gst      18870\n",
      "2                  qgyh2      12238\n",
      "3                 rmuser       9822\n",
      "4                 twolf1       8597\n",
      "5       IAmperfectlyCalm       8308\n",
      "...                  ...        ...\n",
      "185347           azulina          1\n",
      "185348           1quawii          1\n",
      "185349       mobilesuite          1\n",
      "185350            botboy          1\n",
      "185351            klippa          1\n",
      "\n",
      "[185351 rows x 2 columns]\n",
      "\n",
      "MAX COMMENTS USERS:\n",
      "\n",
      "With deleted:\n",
      "                 author  com_count\n",
      "1      NoMoreNicksLeft      13480\n",
      "2           malcontent      12159\n",
      "3               matts2      11672\n",
      "4           mexicodoug       9169\n",
      "5                 7oby       9161\n",
      "...                ...        ...\n",
      "88565           trybaj          1\n",
      "88566     Computamatic          1\n",
      "88567              jwg          1\n",
      "88568          ten4dan          1\n",
      "88569            yentz          1\n",
      "\n",
      "[88569 rows x 2 columns]\n",
      "                  author  sub_count  com_count\n",
      "0                    gst      18870        300\n",
      "1                  qgyh2      12238       2618\n",
      "2                 rmuser       9822       3293\n",
      "3                 twolf1       8597        266\n",
      "4       IAmperfectlyCalm       8308         40\n",
      "...                  ...        ...        ...\n",
      "226636            ivesjl          0          1\n",
      "226637           onoodle          0          1\n",
      "226638          cd518711          0          1\n",
      "226639            trybaj          0          1\n",
      "226640      Computamatic          0          1\n",
      "\n",
      "[226641 rows x 3 columns]\n"
     ]
    },
    {
     "data": {
      "image/png": "[encoded data removed]",
      "text/plain": [
       "<Figure size 432x288 with 1 Axes>"
      ]
     },
     "metadata": {
      "needs_background": "light"
     },
     "output_type": "display_data"
    },
    {
     "name": "stdout",
     "output_type": "stream",
     "text": [
      "Pearson correlation coefficient: 0.14608000759904788\n"
     ]
    }
   ],
   "source": [
    "# 5) Kako su korelisani brojevi objava i brojevi komentara korisnika? Odrediti Pirsonov koeficijent korelacije i izvršiti vizuelizaciju.\n",
    "import scipy.stats as sc\n",
    "from matplotlib import pyplot as plt\n",
    "\n",
    "print(\"MAX SUBMISSIONS USERS:\\n\")\n",
    "max_submissions_users = submissions_data.author.value_counts().reset_index()\n",
    "max_submissions_users.columns = ['author', 'sub_count']\n",
    "max_submissions_users = max_submissions_users[max_submissions_users['author'] != '[deleted]']\n",
    "print(\"With deleted:\\n\", max_submissions_users)\n",
    "\n",
    "print(\"\\nMAX COMMENTS USERS:\\n\")\n",
    "max_comments_users = comments_data.author.value_counts().reset_index()\n",
    "max_comments_users.columns = ['author', 'com_count']\n",
    "max_comments_users = max_comments_users[max_comments_users['author'] != '[deleted]']\n",
    "print(\"With deleted:\\n\", max_comments_users)\n",
    "\n",
    "# from pathlib import Path  \n",
    "# filepath = Path('out.csv')\n",
    "# corell.to_csv(filepath)\n",
    "\n",
    "corell = pd.merge(max_submissions_users, max_comments_users, how=\"outer\", on=\"author\")\n",
    "corell = corell.fillna(0)\n",
    "\n",
    "corell_dtypes = {\n",
    "    \"sub_count\": int,\n",
    "    \"author\": object,\n",
    "    \"com_count\": int\n",
    "}\n",
    "corell = corell.astype(corell_dtypes)\n",
    "print(corell)\n",
    "\n",
    "x = corell['sub_count'].to_list()\n",
    "y = corell['com_count'].to_list()\n",
    "\n",
    "plt.plot(x, y, 'o')\n",
    "plt.xlabel(\"submissions\")\n",
    "plt.ylabel(\"comments\")\n",
    "plt.show()\n",
    "\n",
    "p_coeff = sc.pearsonr(x, y)\n",
    "print('Pearson correlation coefficient:', p_coeff[0])"
   ]
  },
  {
   "cell_type": "code",
   "execution_count": 25,
   "id": "2013e079",
   "metadata": {},
   "outputs": [
    {
     "name": "stdout",
     "output_type": "stream",
     "text": [
      "First 10 submissions sorted by number of comments:\n",
      "             id                                                url  \\\n",
      "914332   6nz1k                          http://hundredpushups.com   \n",
      "1871724  78n1v  http://www.time.com/time/nation/article/0,8599...   \n",
      "2427328  7kpe5  https://www.reddit.com/r/AskReddit/comments/7k...   \n",
      "135995   675oj  https://www.reddit.com/r/reddit.com/comments/6...   \n",
      "1999653  7beo2  https://www.reddit.com/r/politics/comments/7be...   \n",
      "699049   6jbc0  https://www.reddit.com/r/reddit.com/comments/6...   \n",
      "1295906  6w7e6  https://www.reddit.com/r/reddit.com/comments/6...   \n",
      "1409047  6yn6t                   http://www.cnbc.com/id/26454655?   \n",
      "2005354  7bj3f  http://www.latimes.com/news/local/la-me-gaymar...   \n",
      "2082790  7d7jm  https://www.reddit.com/r/reddit.com/comments/7...   \n",
      "\n",
      "                                                 permalink        author  \\\n",
      "914332   /r/science/comments/6nz1k/got_six_weeks_try_th...         zekel   \n",
      "1871724  /r/WTF/comments/78n1v/a_black_community_in_oh_...      indorock   \n",
      "2427328  /r/AskReddit/comments/7kpe5/i_am_constantly_wo...     [deleted]   \n",
      "135995   /r/reddit.com/comments/675oj/post_the_funniest...   matiasklein   \n",
      "1999653  /r/politics/comments/7beo2/obama_wins_the_pres...  willjohnston   \n",
      "699049   /r/reddit.com/comments/6jbc0/voice_a_true_yet_...     [deleted]   \n",
      "1295906  /r/reddit.com/comments/6w7e6/just_out_of_curio...     [deleted]   \n",
      "1409047  /r/politics/comments/6yn6t/its_official_sarah_...     [deleted]   \n",
      "2005354  /r/reddit.com/comments/7bj3f/who_else_disguste...     [deleted]   \n",
      "2082790  /r/reddit.com/comments/7d7jm/how_many_redditor...     [deleted]   \n",
      "\n",
      "         created_utc   subreddit subreddit_id  num_comments  score  over_18  \\\n",
      "914332    1213826517     science      t5_mouw         33329   1621    False   \n",
      "1871724   1224677051         WTF     t5_2qh61          3657   1496    False   \n",
      "2427328   1229752197   AskReddit     t5_2qh1i          3467    515    False   \n",
      "135995    1201730171  reddit.com         t5_6          2039   1098    False   \n",
      "1999653   1225857637    politics     t5_2cneq          1934   8538    False   \n",
      "699049    1210747619  reddit.com         t5_6          1808    274    False   \n",
      "1295906   1218660724  reddit.com         t5_6          1724    258    False   \n",
      "1409047   1220020890    politics     t5_2cneq          1668   1073    False   \n",
      "2005354   1225899136  reddit.com         t5_6          1605   5992    False   \n",
      "2082790   1226607540  reddit.com         t5_6          1505   7492    False   \n",
      "\n",
      "        distinguished              domain  stickied  locked  hide_score  \n",
      "914332            NaN  hundredpushups.com     False   False       False  \n",
      "1871724           NaN            time.com     False   False       False  \n",
      "2427328           NaN      self.AskReddit     False   False       False  \n",
      "135995            NaN     self.reddit.com     False   False       False  \n",
      "1999653           NaN       self.politics     False   False       False  \n",
      "699049            NaN     self.reddit.com     False   False       False  \n",
      "1295906           NaN     self.reddit.com     False   False       False  \n",
      "1409047           NaN            cnbc.com     False   False       False  \n",
      "2005354           NaN         latimes.com     False   False       False  \n",
      "2082790           NaN     self.reddit.com     False   False       False   \n",
      "\n",
      "['http://hundredpushups.com', 'http://www.time.com/time/nation/article/0,8599,1822455,00.html', 'https://www.reddit.com/r/AskReddit/comments/7kpe5/i_am_constantly_wondering_what_everyone_on_here/', 'https://www.reddit.com/r/reddit.com/comments/675oj/post_the_funniest_joke_you_know_upmod_the_best_one/', 'https://www.reddit.com/r/politics/comments/7beo2/obama_wins_the_presidency/', 'https://www.reddit.com/r/reddit.com/comments/6jbc0/voice_a_true_yet_unpopular_fact_in_the_comments/', 'https://www.reddit.com/r/reddit.com/comments/6w7e6/just_out_of_curiosity_do_you_have_an_opinion_that/', 'http://www.cnbc.com/id/26454655?', 'http://www.latimes.com/news/local/la-me-gaymarriage5-2008nov05,0,1545381.story', 'https://www.reddit.com/r/reddit.com/comments/7d7jm/how_many_redditors_dont_play_wow/']\n"
     ]
    }
   ],
   "source": [
    "# 6) Koje objave poseduju najveći broj komentara i na kojim su sabreditima postavljene? \n",
    "# Prikazati podatke o tim objavama, uključujući to na kojem su sabreditu postavljene \n",
    "# i šta im je sadržaj (ako je polje objave “over 18” postavljeno na false).\n",
    "\n",
    "submissions_sorted_num_comments = submissions_data.sort_values(by='num_comments', ascending=False)\n",
    "# submissions_sorted_num_comments = submissions_sorted_num_comments[submissions_sorted_num_comments['over_18'] == False]\n",
    "\n",
    "submissions_sorted_num_comments_first10 = submissions_sorted_num_comments[:10] \n",
    "print(\"First 10 submissions sorted by number of comments:\\n\", submissions_sorted_num_comments_first10, \"\\n\")\n",
    "\n",
    "# Q: Koje objave poseduju najveći broj komentara i na kojim su sabreditima postavljene? \n",
    "# A: submission_id(subreddit, num_comments) = 6nz1k(science, 33329), 78n1v(WTF, 3657), ...\n",
    "\n",
    "urls = submissions_sorted_num_comments_first10['url'].to_list()\n",
    "print(urls)"
   ]
  },
  {
   "cell_type": "markdown",
   "id": "d791cf98",
   "metadata": {},
   "source": [
    "### Modelovanje mreže"
   ]
  },
  {
   "cell_type": "code",
   "execution_count": 26,
   "id": "bb9a6e35",
   "metadata": {},
   "outputs": [],
   "source": [
    "import networkx as nx"
   ]
  },
  {
   "cell_type": "code",
   "execution_count": 27,
   "id": "2f274dd1",
   "metadata": {},
   "outputs": [],
   "source": [
    "G = nx.Graph()\n",
    "G.add_nodes_from(set(unique_subreddits['subreddit_id']))"
   ]
  },
  {
   "cell_type": "code",
   "execution_count": 28,
   "id": "f93148e1",
   "metadata": {
    "scrolled": false
   },
   "outputs": [
    {
     "name": "stdout",
     "output_type": "stream",
     "text": [
      "Listing subreddits and authors:\n",
      "\n",
      "        subreddit_id     author\n",
      "0               t5_6      DITUS\n",
      "1            t5_mouw     rmuser\n",
      "2            t5_2fwo  [deleted]\n",
      "3               t5_6      zorno\n",
      "4           t5_2cneq     rmuser\n",
      "...              ...        ...\n",
      "2519848     t5_2cneq   middkidd\n",
      "2519849     t5_2qoil  [deleted]\n",
      "2519850       t5_vf2  [deleted]\n",
      "2519851     t5_2qh03  [deleted]\n",
      "2519852         t5_6     klippa\n",
      "\n",
      "[2519853 rows x 2 columns] \n",
      "\n",
      "        subreddit_id          author\n",
      "0               t5_6           Haven\n",
      "1               t5_6       [deleted]\n",
      "2               t5_6        lilmiss2\n",
      "3               t5_6       [deleted]\n",
      "4               t5_6       [deleted]\n",
      "...              ...             ...\n",
      "7242866     t5_2qh1u       [deleted]\n",
      "7242867     t5_2qh0s    Morgin_Black\n",
      "7242868     t5_2qh1s       [deleted]\n",
      "7242869     t5_2qh2p  onezerozeroone\n",
      "7242870     t5_2qh61       vypermann\n",
      "\n",
      "[7242871 rows x 2 columns] \n",
      "\n",
      "After removed '[deleted]':\n",
      "\n",
      "        subreddit_id           author\n",
      "0               t5_6            DITUS\n",
      "1            t5_mouw           rmuser\n",
      "3               t5_6            zorno\n",
      "4           t5_2cneq           rmuser\n",
      "5               t5_6            zorno\n",
      "...              ...              ...\n",
      "2519844     t5_2qh33  themightymidget\n",
      "2519845     t5_2qh3l            Tom22\n",
      "2519847         t5_6         bixiebix\n",
      "2519848     t5_2cneq         middkidd\n",
      "2519852         t5_6           klippa\n",
      "\n",
      "[2044810 rows x 2 columns] \n",
      "\n",
      "        subreddit_id               author\n",
      "0               t5_6                Haven\n",
      "2               t5_6             lilmiss2\n",
      "6               t5_6  EverybodysAnAsshole\n",
      "7            t5_2fwo             generalk\n",
      "8           t5_2cneq            seeker135\n",
      "...              ...                  ...\n",
      "7242864      t5_2fwo        CommodoreGuff\n",
      "7242865     t5_2qh16             wolfzero\n",
      "7242867     t5_2qh0s         Morgin_Black\n",
      "7242869     t5_2qh2p       onezerozeroone\n",
      "7242870     t5_2qh61            vypermann\n",
      "\n",
      "[4873690 rows x 2 columns] \n",
      "\n",
      "After dropped duplicates:\n",
      "\n",
      "        subreddit_id            author\n",
      "0               t5_6             DITUS\n",
      "1            t5_mouw            rmuser\n",
      "3               t5_6             zorno\n",
      "4           t5_2cneq            rmuser\n",
      "6               t5_6     anteeknetshop\n",
      "...              ...               ...\n",
      "2519835         t5_6          edlive96\n",
      "2519836         t5_6  TrendyBrandyKids\n",
      "2519840     t5_2cneq      ohstrangeone\n",
      "2519844     t5_2qh33   themightymidget\n",
      "2519852         t5_6            klippa\n",
      "\n",
      "[317802 rows x 2 columns] \n",
      "\n",
      "        subreddit_id               author\n",
      "0               t5_6                Haven\n",
      "2               t5_6             lilmiss2\n",
      "6               t5_6  EverybodysAnAsshole\n",
      "7            t5_2fwo             generalk\n",
      "8           t5_2cneq            seeker135\n",
      "...              ...                  ...\n",
      "7242690     t5_2qh2p                snoaj\n",
      "7242749         t5_6             aurora3d\n",
      "7242775     t5_2qh5k          Thumperings\n",
      "7242780     t5_2qh16                yentz\n",
      "7242861     t5_2qh7l        Altoid_Addict\n",
      "\n",
      "[430558 rows x 2 columns] \n",
      "\n",
      "After concationation and dropped duplicates:\n",
      "\n",
      "       subreddit_id         author\n",
      "0              t5_6          DITUS\n",
      "1           t5_mouw         rmuser\n",
      "2              t5_6          zorno\n",
      "3          t5_2cneq         rmuser\n",
      "4              t5_6  anteeknetshop\n",
      "...             ...            ...\n",
      "648026     t5_2qmns        eridius\n",
      "648027     t5_2qh2p          snoaj\n",
      "648028     t5_2qh5k    Thumperings\n",
      "648029     t5_2qh16          yentz\n",
      "648030     t5_2qh7l  Altoid_Addict\n",
      "\n",
      "[648031 rows x 2 columns] \n",
      "\n"
     ]
    }
   ],
   "source": [
    "sub_subreddit_id_author = submissions_data[['subreddit_id', 'author']]\n",
    "com_subreddit_id_author = comments_data[['subreddit_id', 'author']]\n",
    "\n",
    "print(\"Listing subreddits and authors:\\n\")\n",
    "print(sub_subreddit_id_author, '\\n')\n",
    "print(com_subreddit_id_author, '\\n')\n",
    "\n",
    "sub_subreddit_id_author = sub_subreddit_id_author[sub_subreddit_id_author['author'] != '[deleted]']\n",
    "com_subreddit_id_author = com_subreddit_id_author[com_subreddit_id_author['author'] != '[deleted]']\n",
    "\n",
    "print(\"After removed '[deleted]':\\n\")\n",
    "print(sub_subreddit_id_author, '\\n')\n",
    "print(com_subreddit_id_author, '\\n')\n",
    "\n",
    "sub_subreddit_id_author = sub_subreddit_id_author.drop_duplicates()\n",
    "com_subreddit_id_author = com_subreddit_id_author.drop_duplicates()\n",
    "\n",
    "print(\"After dropped duplicates:\\n\")\n",
    "print(sub_subreddit_id_author, '\\n')\n",
    "print(com_subreddit_id_author, '\\n')\n",
    "\n",
    "subreddit_id_author = pd.concat([sub_subreddit_id_author, com_subreddit_id_author])\n",
    "subreddit_id_author = subreddit_id_author.drop_duplicates()\n",
    "subreddit_id_author.reset_index(inplace = True, drop = True)\n",
    "\n",
    "print(\"After concationation and dropped duplicates:\\n\")\n",
    "print(subreddit_id_author, '\\n')"
   ]
  },
  {
   "cell_type": "code",
   "execution_count": 29,
   "id": "67f39e86",
   "metadata": {},
   "outputs": [],
   "source": [
    "grouped_by_author = subreddit_id_author.groupby('author')\n",
    "\n",
    "for _, g in grouped_by_author:\n",
    "    sub_list = list(g.loc[:, 'subreddit_id'])\n",
    "    \n",
    "    if len(sub_list) > 1:\n",
    "        for i in range(len(sub_list) - 1):\n",
    "            for j in range(i + 1, len(sub_list)):\n",
    "                if (sub_list[i], sub_list[j]) in G.edges:\n",
    "                    G.edges[sub_list[i], sub_list[j]]['weight'] += 1\n",
    "                else:\n",
    "                    G.add_edge(sub_list[i], sub_list[j], weight=1)\n",
    "                    "
   ]
  },
  {
   "cell_type": "code",
   "execution_count": 30,
   "id": "17ef421f",
   "metadata": {},
   "outputs": [],
   "source": [
    "output_path = \"models/our_model.gml\"\n",
    "\n",
    "nx.write_gml(G, output_path)"
   ]
  },
  {
   "cell_type": "markdown",
   "id": "19661449",
   "metadata": {},
   "source": [
    "# Osnovna karakterizacija modelovanih mreža (3.4.2.)"
   ]
  },
  {
   "cell_type": "code",
   "execution_count": 31,
   "id": "a113dbf2",
   "metadata": {},
   "outputs": [],
   "source": [
    "input_path = \"models/our_model.gml\"\n",
    "G = nx.read_gml(input_path)"
   ]
  },
  {
   "cell_type": "code",
   "execution_count": 32,
   "id": "124de9ce",
   "metadata": {},
   "outputs": [
    {
     "name": "stdout",
     "output_type": "stream",
     "text": [
      "Graph:  Graph with 5032 nodes and 156966 edges\n",
      "Graph isolates:  1466\n"
     ]
    }
   ],
   "source": [
    "print(\"Graph: \", nx.info(G))\n",
    "print(\"Graph isolates: \", nx.number_of_isolates(G))"
   ]
  },
  {
   "cell_type": "code",
   "execution_count": 33,
   "id": "1dd21335",
   "metadata": {},
   "outputs": [],
   "source": [
    "def get_largest_component(gra):\n",
    "    largest_cc = max(nx.connected_components(gra), key=len)\n",
    "    gra_dom = gra.subgraph(largest_cc).copy()\n",
    "    print(f\"Dominantna komponenta ima {len(gra_dom.nodes())} čvorova i {len(gra_dom.edges())} grana\")\n",
    "    return gra_dom"
   ]
  },
  {
   "cell_type": "markdown",
   "id": "5046f97a",
   "metadata": {},
   "source": [
    "#### Network Density"
   ]
  },
  {
   "cell_type": "code",
   "execution_count": 34,
   "id": "489e2e91",
   "metadata": {},
   "outputs": [
    {
     "name": "stdout",
     "output_type": "stream",
     "text": [
      "Graph Density:  0.012400541128311305\n"
     ]
    }
   ],
   "source": [
    "\n",
    "### 7) Kolika je gustina mreže?\n",
    "\n",
    "# (Gephi) Graph Density: 0.012\n",
    "print(\"Graph Density: \", nx.density(G))"
   ]
  },
  {
   "cell_type": "markdown",
   "id": "47ba25ca",
   "metadata": {},
   "source": [
    "#### Network Shortest Paths"
   ]
  },
  {
   "cell_type": "code",
   "execution_count": 35,
   "id": "c745cd59",
   "metadata": {},
   "outputs": [
    {
     "name": "stdout",
     "output_type": "stream",
     "text": [
      "Dominantna komponenta ima 3525 čvorova i 156941 grana\n",
      "5\n",
      "2.0985643329227748\n"
     ]
    }
   ],
   "source": [
    "\n",
    "### 8) Kolike su prosečne distance u okviru mreže i dijametar mreže?\n",
    "\n",
    "# (Gephi) Average Path length: 2.098559911126496\n",
    "# (Gephi) Network Diameter: 5 \n",
    "\n",
    "Gdom = get_largest_component(G)\n",
    "print(nx.diameter(Gdom)) # NetworkXError: Found infinite path length because the graph is not connected\n",
    "print(nx.average_shortest_path_length(Gdom)) # NetworkXError: Graph is not connected."
   ]
  },
  {
   "cell_type": "code",
   "execution_count": 36,
   "id": "26c05d35",
   "metadata": {},
   "outputs": [
    {
     "name": "stdout",
     "output_type": "stream",
     "text": [
      "Graph - is_connected:  False\n",
      "Number of connected components:  1486\n",
      "Largest connected component:  3525\n",
      "Sorted list of connected components, largest first:\n",
      "[3525, 3, 3, 3, 2, 2, 2, 2, 2, 2, 2, 2, 2, 2, 2, 2, 2, 2, 2, 2, 1, 1, 1, 1, 1, 1, 1, 1, 1, 1, 1, 1, 1, 1, 1, 1, 1, 1, 1, 1, 1, 1, 1, 1, 1, 1, 1, 1, 1, 1, 1, 1, 1, 1, 1, 1, 1, 1, 1, 1, 1, 1, 1, 1, 1, 1, 1, 1, 1, 1, 1, 1, 1, 1, 1, 1, 1, 1, 1, 1, 1, 1, 1, 1, 1, 1, 1, 1, 1, 1, 1, 1, 1, 1, 1, 1, 1, 1, 1, 1, 1, 1, 1, 1, 1, 1, 1, 1, 1, 1, 1, 1, 1, 1, 1, 1, 1, 1, 1, 1, 1, 1, 1, 1, 1, 1, 1, 1, 1, 1, 1, 1, 1, 1, 1, 1, 1, 1, 1, 1, 1, 1, 1, 1, 1, 1, 1, 1, 1, 1, 1, 1, 1, 1, 1, 1, 1, 1, 1, 1, 1, 1, 1, 1, 1, 1, 1, 1, 1, 1, 1, 1, 1, 1, 1, 1, 1, 1, 1, 1, 1, 1, 1, 1, 1, 1, 1, 1, 1, 1, 1, 1, 1, 1, 1, 1, 1, 1, 1, 1, 1, 1, 1, 1, 1, 1, 1, 1, 1, 1, 1, 1, 1, 1, 1, 1, 1, 1, 1, 1, 1, 1, 1, 1, 1, 1, 1, 1, 1, 1, 1, 1, 1, 1, 1, 1, 1, 1, 1, 1, 1, 1, 1, 1, 1, 1, 1, 1, 1, 1, 1, 1, 1, 1, 1, 1, 1, 1, 1, 1, 1, 1, 1, 1, 1, 1, 1, 1, 1, 1, 1, 1, 1, 1, 1, 1, 1, 1, 1, 1, 1, 1, 1, 1, 1, 1, 1, 1, 1, 1, 1, 1, 1, 1, 1, 1, 1, 1, 1, 1, 1, 1, 1, 1, 1, 1, 1, 1, 1, 1, 1, 1, 1, 1, 1, 1, 1, 1, 1, 1, 1, 1, 1, 1, 1, 1, 1, 1, 1, 1, 1, 1, 1, 1, 1, 1, 1, 1, 1, 1, 1, 1, 1, 1, 1, 1, 1, 1, 1, 1, 1, 1, 1, 1, 1, 1, 1, 1, 1, 1, 1, 1, 1, 1, 1, 1, 1, 1, 1, 1, 1, 1, 1, 1, 1, 1, 1, 1, 1, 1, 1, 1, 1, 1, 1, 1, 1, 1, 1, 1, 1, 1, 1, 1, 1, 1, 1, 1, 1, 1, 1, 1, 1, 1, 1, 1, 1, 1, 1, 1, 1, 1, 1, 1, 1, 1, 1, 1, 1, 1, 1, 1, 1, 1, 1, 1, 1, 1, 1, 1, 1, 1, 1, 1, 1, 1, 1, 1, 1, 1, 1, 1, 1, 1, 1, 1, 1, 1, 1, 1, 1, 1, 1, 1, 1, 1, 1, 1, 1, 1, 1, 1, 1, 1, 1, 1, 1, 1, 1, 1, 1, 1, 1, 1, 1, 1, 1, 1, 1, 1, 1, 1, 1, 1, 1, 1, 1, 1, 1, 1, 1, 1, 1, 1, 1, 1, 1, 1, 1, 1, 1, 1, 1, 1, 1, 1, 1, 1, 1, 1, 1, 1, 1, 1, 1, 1, 1, 1, 1, 1, 1, 1, 1, 1, 1, 1, 1, 1, 1, 1, 1, 1, 1, 1, 1, 1, 1, 1, 1, 1, 1, 1, 1, 1, 1, 1, 1, 1, 1, 1, 1, 1, 1, 1, 1, 1, 1, 1, 1, 1, 1, 1, 1, 1, 1, 1, 1, 1, 1, 1, 1, 1, 1, 1, 1, 1, 1, 1, 1, 1, 1, 1, 1, 1, 1, 1, 1, 1, 1, 1, 1, 1, 1, 1, 1, 1, 1, 1, 1, 1, 1, 1, 1, 1, 1, 1, 1, 1, 1, 1, 1, 1, 1, 1, 1, 1, 1, 1, 1, 1, 1, 1, 1, 1, 1, 1, 1, 1, 1, 1, 1, 1, 1, 1, 1, 1, 1, 1, 1, 1, 1, 1, 1, 1, 1, 1, 1, 1, 1, 1, 1, 1, 1, 1, 1, 1, 1, 1, 1, 1, 1, 1, 1, 1, 1, 1, 1, 1, 1, 1, 1, 1, 1, 1, 1, 1, 1, 1, 1, 1, 1, 1, 1, 1, 1, 1, 1, 1, 1, 1, 1, 1, 1, 1, 1, 1, 1, 1, 1, 1, 1, 1, 1, 1, 1, 1, 1, 1, 1, 1, 1, 1, 1, 1, 1, 1, 1, 1, 1, 1, 1, 1, 1, 1, 1, 1, 1, 1, 1, 1, 1, 1, 1, 1, 1, 1, 1, 1, 1, 1, 1, 1, 1, 1, 1, 1, 1, 1, 1, 1, 1, 1, 1, 1, 1, 1, 1, 1, 1, 1, 1, 1, 1, 1, 1, 1, 1, 1, 1, 1, 1, 1, 1, 1, 1, 1, 1, 1, 1, 1, 1, 1, 1, 1, 1, 1, 1, 1, 1, 1, 1, 1, 1, 1, 1, 1, 1, 1, 1, 1, 1, 1, 1, 1, 1, 1, 1, 1, 1, 1, 1, 1, 1, 1, 1, 1, 1, 1, 1, 1, 1, 1, 1, 1, 1, 1, 1, 1, 1, 1, 1, 1, 1, 1, 1, 1, 1, 1, 1, 1, 1, 1, 1, 1, 1, 1, 1, 1, 1, 1, 1, 1, 1, 1, 1, 1, 1, 1, 1, 1, 1, 1, 1, 1, 1, 1, 1, 1, 1, 1, 1, 1, 1, 1, 1, 1, 1, 1, 1, 1, 1, 1, 1, 1, 1, 1, 1, 1, 1, 1, 1, 1, 1, 1, 1, 1, 1, 1, 1, 1, 1, 1, 1, 1, 1, 1, 1, 1, 1, 1, 1, 1, 1, 1, 1, 1, 1, 1, 1, 1, 1, 1, 1, 1, 1, 1, 1, 1, 1, 1, 1, 1, 1, 1, 1, 1, 1, 1, 1, 1, 1, 1, 1, 1, 1, 1, 1, 1, 1, 1, 1, 1, 1, 1, 1, 1, 1, 1, 1, 1, 1, 1, 1, 1, 1, 1, 1, 1, 1, 1, 1, 1, 1, 1, 1, 1, 1, 1, 1, 1, 1, 1, 1, 1, 1, 1, 1, 1, 1, 1, 1, 1, 1, 1, 1, 1, 1, 1, 1, 1, 1, 1, 1, 1, 1, 1, 1, 1, 1, 1, 1, 1, 1, 1, 1, 1, 1, 1, 1, 1, 1, 1, 1, 1, 1, 1, 1, 1, 1, 1, 1, 1, 1, 1, 1, 1, 1, 1, 1, 1, 1, 1, 1, 1, 1, 1, 1, 1, 1, 1, 1, 1, 1, 1, 1, 1, 1, 1, 1, 1, 1, 1, 1, 1, 1, 1, 1, 1, 1, 1, 1, 1, 1, 1, 1, 1, 1, 1, 1, 1, 1, 1, 1, 1, 1, 1, 1, 1, 1, 1, 1, 1, 1, 1, 1, 1, 1, 1, 1, 1, 1, 1, 1, 1, 1, 1, 1, 1, 1, 1, 1, 1, 1, 1, 1, 1, 1, 1, 1, 1, 1, 1, 1, 1, 1, 1, 1, 1, 1, 1, 1, 1, 1, 1, 1, 1, 1, 1, 1, 1, 1, 1, 1, 1, 1, 1, 1, 1, 1, 1, 1, 1, 1, 1, 1, 1, 1, 1, 1, 1, 1, 1, 1, 1, 1, 1, 1, 1, 1, 1, 1, 1, 1, 1, 1, 1, 1, 1, 1, 1, 1, 1, 1, 1, 1, 1, 1, 1, 1, 1, 1, 1, 1, 1, 1, 1, 1, 1, 1, 1, 1, 1, 1, 1, 1, 1, 1, 1, 1, 1, 1, 1, 1, 1, 1, 1, 1, 1, 1, 1, 1, 1, 1, 1, 1, 1, 1, 1, 1, 1, 1, 1, 1, 1, 1, 1, 1, 1, 1, 1, 1, 1, 1, 1, 1, 1, 1, 1, 1, 1, 1, 1, 1, 1, 1, 1, 1, 1, 1, 1, 1, 1, 1, 1, 1, 1, 1, 1, 1, 1, 1, 1, 1, 1, 1, 1, 1, 1, 1, 1, 1, 1, 1, 1, 1, 1, 1, 1, 1, 1, 1, 1, 1, 1, 1, 1, 1, 1, 1, 1, 1, 1, 1, 1, 1, 1, 1, 1, 1, 1, 1, 1, 1, 1, 1, 1, 1, 1, 1, 1, 1, 1, 1, 1, 1, 1, 1, 1, 1, 1, 1, 1, 1, 1, 1, 1, 1, 1, 1, 1, 1, 1, 1, 1, 1, 1, 1, 1, 1, 1, 1, 1, 1, 1, 1, 1, 1, 1, 1, 1, 1, 1, 1, 1, 1, 1, 1, 1, 1, 1, 1, 1, 1, 1, 1, 1, 1, 1, 1, 1, 1, 1, 1, 1, 1, 1, 1, 1, 1, 1, 1, 1, 1, 1, 1, 1, 1, 1, 1, 1, 1, 1, 1, 1, 1, 1, 1, 1, 1, 1, 1, 1, 1, 1, 1, 1, 1, 1, 1, 1, 1, 1, 1, 1, 1, 1, 1, 1, 1, 1, 1, 1, 1, 1, 1, 1, 1, 1, 1, 1, 1, 1, 1, 1, 1, 1, 1, 1, 1, 1, 1, 1, 1, 1, 1, 1, 1, 1, 1, 1, 1, 1, 1, 1, 1, 1, 1, 1, 1, 1, 1, 1, 1, 1, 1, 1, 1, 1, 1, 1, 1, 1, 1, 1, 1, 1]\n"
     ]
    }
   ],
   "source": [
    "\n",
    "### 9) U kojoj meri je mreža povezana i centralizovana? \n",
    "# Navesti broj i veličine povezanih komponenata i proceniti da li postoji gigantska komponenta. \n",
    "\n",
    "# Broj povezanih komponenata\n",
    "\n",
    "# (Gephi) Number of Weakly Connected Components: 1486\n",
    "print(\"Graph - is_connected: \", nx.is_connected(G))\n",
    "print(\"Number of connected components: \", nx.number_connected_components(G))\n",
    "\n",
    "# Veličine povezanih komponenata\n",
    "\n",
    "print(\"Largest connected component: \", len(max(nx.connected_components(G), key=len)))\n",
    "print(\"Sorted list of connected components, largest first:\")\n",
    "com_list = [len(c) for c in sorted(nx.connected_components(G), key=len, reverse=True)]\n",
    "print(com_list)\n",
    "# Postoji gigantska komponenta."
   ]
  },
  {
   "cell_type": "markdown",
   "id": "53b841f1",
   "metadata": {},
   "source": [
    "#### Network Clustering"
   ]
  },
  {
   "cell_type": "code",
   "execution_count": 37,
   "id": "373c7542",
   "metadata": {},
   "outputs": [],
   "source": [
    "### 10) Koliki je prosečni, a koliki globalni koeficijent klasterizacije mreže? \n",
    "# Kakva je raspodela lokalnog koeficijenta klasterizacije njenih čvorova? \n",
    "# Da li je klasterisanje izraženo ili ne? Odgovor dati upoređivanjem sa slučajno generisanom Erdos-Renyi mrežom istih dimenzija. "
   ]
  },
  {
   "cell_type": "code",
   "execution_count": 38,
   "id": "90d7eaa1",
   "metadata": {},
   "outputs": [
    {
     "name": "stdout",
     "output_type": "stream",
     "text": [
      "Global clustering coefficient: 0.2672694490180987\n"
     ]
    }
   ],
   "source": [
    "# Global clustering coefficient\n",
    "\n",
    "# The global clustering coefficient is based on triplets of nodes.\n",
    "# A triplet is three nodes that are connected by either two (open triplet) or three (closed triplet) undirected ties.\n",
    "# The global clustering coefficient is the number of closed triplets (or 3 x triangles) over the total number of triplets (both open and closed). \n",
    "# global_cc = (number of closed triplets) / (number of all triplets)\n",
    "\n",
    "# Compute graph transitivity, the fraction of all possible triangles present in G.\n",
    "# Possible triangles are identified by the number of \"triads\" (two edges with a shared vertex).\n",
    "# The transitivity is:  T = 3*(triangles/triads)\n",
    "\n",
    "tr = nx.transitivity(G)\n",
    "print(f\"Global clustering coefficient: {tr}\")"
   ]
  },
  {
   "cell_type": "code",
   "execution_count": 39,
   "id": "84cc09be",
   "metadata": {},
   "outputs": [
    {
     "name": "stdout",
     "output_type": "stream",
     "text": [
      "Average clustering coefficient:  0.5416133006255551\n",
      "Average clustering coefficient dominant:  0.7706093982263245\n",
      "Average clustering coefficient:  0.9081633218086615\n",
      "Average clustering coefficient dominant:  0.9078870751162412\n"
     ]
    }
   ],
   "source": [
    "# Average clustering coefficient\n",
    "\n",
    "# (Gephi) Average Clustering Coefficient: 0.907\n",
    "# (Gephi) Dominant Component Average Clustering Coefficient: 0.907\n",
    "print(\"Average clustering coefficient: \", nx.average_clustering(G))\n",
    "print(\"Average clustering coefficient dominant: \", nx.average_clustering(Gdom))\n",
    "\n",
    "print(\"Average clustering coefficient: \", nx.average_clustering(G, count_zeros = False))\n",
    "print(\"Average clustering coefficient dominant: \", nx.average_clustering(Gdom, count_zeros = False))"
   ]
  },
  {
   "cell_type": "code",
   "execution_count": 40,
   "id": "d07f43db",
   "metadata": {
    "scrolled": true
   },
   "outputs": [
    {
     "name": "stdout",
     "output_type": "stream",
     "text": [
      "Max local clustering coefficient:  0.0011328032608737847\n",
      "Local clustering coefficients != 0 :\n",
      "            id        cc\n",
      "60    t5_2qlnz  0.000011\n",
      "2923  t5_2qmtd  0.000011\n",
      "641   t5_2qizn  0.000016\n",
      "632   t5_2qn7k  0.000032\n",
      "2315  t5_2qjuf  0.000033\n",
      "...        ...       ...\n",
      "1411  t5_2qjf5  0.001038\n",
      "1682  t5_2qq7p  0.001054\n",
      "2385  t5_2qomf  0.001077\n",
      "2213  t5_2qp1e  0.001091\n",
      "2615  t5_2qnxt  0.001133\n",
      "\n",
      "[3001 rows x 2 columns]\n"
     ]
    }
   ],
   "source": [
    "# Local clustering coefficient\n",
    "\n",
    "subreddit_id, clustering_coef = zip(*nx.clustering(G, weight = \"weight\").items())\n",
    "\n",
    "notZero = [(sub_id, cc)  for sub_id, cc in zip(subreddit_id, clustering_coef) if cc > 0]\n",
    "\n",
    "df = pd.DataFrame(notZero, columns = [\"id\", \"cc\"])\n",
    "df.sort_values('cc', inplace = True)\n",
    "\n",
    "print(\"Max local clustering coefficient: \", max(clustering_coef))\n",
    "print(\"Local clustering coefficients != 0 :\") \n",
    "print(df)\n",
    "\n",
    "# raspodela lokalnog koeficijenta klasterizacije ???\n",
    "\n"
   ]
  },
  {
   "cell_type": "code",
   "execution_count": 41,
   "id": "91fdf7a5",
   "metadata": {},
   "outputs": [
    {
     "data": {
      "image/png": "[encoded data removed]",
      "text/plain": [
       "<Figure size 432x288 with 1 Axes>"
      ]
     },
     "metadata": {
      "needs_background": "light"
     },
     "output_type": "display_data"
    }
   ],
   "source": [
    "df.sort_values('cc', inplace=True, ascending=False)\n",
    "y = df['cc'].to_list()\n",
    "plt.xlabel(\"Број чворова\")\n",
    "plt.ylabel(\"Коефицијент кластеризације\")\n",
    "plt.plot(y)\n",
    "plt.show()"
   ]
  },
  {
   "cell_type": "markdown",
   "id": "5dbfea6a",
   "metadata": {},
   "source": [
    "###### Erdos-Renyi"
   ]
  },
  {
   "cell_type": "code",
   "execution_count": 42,
   "id": "ca1bd12a",
   "metadata": {},
   "outputs": [],
   "source": [
    "n = G.number_of_nodes()\n",
    "m = G.number_of_edges()\n",
    "p = ( 2*float(m) ) / ( n* (n-1) )\n",
    "\n",
    "er_network = nx.erdos_renyi_graph(n,p)"
   ]
  },
  {
   "cell_type": "code",
   "execution_count": 43,
   "id": "61a18131",
   "metadata": {},
   "outputs": [
    {
     "name": "stdout",
     "output_type": "stream",
     "text": [
      "Erdos-Renyi Average cc 0.012515803899298222\n",
      "Erdos-Renyi Global cc 0.01251892405596871\n"
     ]
    }
   ],
   "source": [
    "# Da li je klasterisanje izraženo ili ne?\n",
    "\n",
    "print(\"Erdos-Renyi Average cc\", nx.average_clustering(er_network, count_zeros = False))\n",
    "print(\"Erdos-Renyi Global cc\", nx.transitivity(er_network))\n",
    "\n",
    "# A: Izrazenije nego u er mrezi: Da"
   ]
  },
  {
   "cell_type": "markdown",
   "id": "92ea280d",
   "metadata": {},
   "source": [
    "#### Small World Network"
   ]
  },
  {
   "cell_type": "code",
   "execution_count": 44,
   "id": "62b32e54",
   "metadata": {},
   "outputs": [],
   "source": [
    "### 11) Na osnovu odgovora na pitanja 8 i 10, proceniti da li mreža iskazuje osobine malog sveta.\n",
    "\n",
    "# A small-world network is a type of mathematical graph in which most nodes are not neighbors of one another, but \n",
    "# the neighbors of any given node are likely to be neighbors of each other and most nodes can be reached \n",
    "# from every other node by a small number of hops or steps.\n",
    "\n",
    "# A small world network is characterized by a small average shortest path length, and a large clustering coefficient\n",
    "# Small-worldness is commonly measured with the coefficient sigma or omega.\n",
    "# Both coefficients compare the average clustering coefficient and shortest path length of a given graph \n",
    "# against the same quantities for an equivalent random or lattice graph. (watts_strogatz_graph)\n",
    "\n",
    "# if sigma > 1 network is small-world. \n",
    "#nx.sigma(G) # forever\n",
    "\n",
    "# Erdos-Renyi network:\n",
    "# nx.average_shortest_path_length(er_network) # result: 2.444373264140706\n",
    "# Erdos-Renyi Average cc 0.012376659911008338\n",
    "\n",
    "# ANSWER:\n",
    "# (Gephi) Average Path length: 2.098559911126496\n",
    "# Average clustering coefficient:  0.907\n",
    "\n",
    "# Da. (Visok koef. klasterizacije i mala prosecna distanca)"
   ]
  },
  {
   "cell_type": "markdown",
   "id": "8781e50d",
   "metadata": {},
   "source": [
    "#### Network Assortativity"
   ]
  },
  {
   "cell_type": "code",
   "execution_count": 45,
   "id": "df9675bb",
   "metadata": {},
   "outputs": [
    {
     "name": "stdout",
     "output_type": "stream",
     "text": [
      "Degree assortativity coefficient:  -0.4364568058126873\n",
      "Degree assortativity coefficient (weight):  -0.032291639691037585\n"
     ]
    }
   ],
   "source": [
    "### 12) Izvršiti asortativnu analizu po stepenu čvora i dati odgovor da li je izraženo asortativno mešanje. \n",
    "# U slučaju da je mreža usmerena, analizu izvršiti i po ulaznom i po izlaznom stepenu čvora. \n",
    "# Priložiti i vizuelizaciju. \n",
    "\n",
    "## asortativnost na osnovu netežinskog stepena čvora\n",
    "print(\"Degree assortativity coefficient: \", nx.degree_assortativity_coefficient(G))\n",
    "## asortativnost na osnovu težinskog stepena čvora\n",
    "print(\"Degree assortativity coefficient (weight): \", nx.degree_assortativity_coefficient(G, weight='weight'))\n",
    "\n",
    "# Assortativity measures the similarity of connections in the graph with respect to the node degree.\n",
    "## Asortativna mreža => čvorovi sličnog stepena se vezuju međusobno\n",
    "\n",
    "# Positive values of r indicate a correlation between nodes of similar degree, \n",
    "# while negative values indicate relationships between nodes of different degree. \n",
    "# In general, r lies between −1 and 1. \n",
    "# When r = 1, the network is said to have perfect assortative mixing patterns,\n",
    "# when r = 0 the network is non-assortative,\n",
    "# while at r = −1 the network is completely disassortative.\n",
    "\n",
    "# ANSWER:\n",
    "# Mreža je disasortativna."
   ]
  },
  {
   "cell_type": "markdown",
   "id": "40645906",
   "metadata": {},
   "source": [
    "#### Rich Club Phenomenon"
   ]
  },
  {
   "cell_type": "code",
   "execution_count": 46,
   "id": "f8b8d20c",
   "metadata": {},
   "outputs": [
    {
     "name": "stdout",
     "output_type": "stream",
     "text": [
      "{0: 0.02469418593400819, 1: 0.03467903601059393, 2: 0.04140339976740111, 3: 0.04613359138463072, 4: 0.04924658197159589, 5: 0.053134584793566746, 6: 0.05648779462897056, 7: 0.058620629292124374, 8: 0.06075707721950496, 9: 0.06262207674042398, 10: 0.06501243963431087, 11: 0.06789870622490139, 12: 0.07020243075703, 13: 0.07260867857693638, 14: 0.07519723644979368, 15: 0.07692437257874347, 16: 0.0797373019540358, 17: 0.08198552880677039, 18: 0.0852089967754211, 19: 0.087603618071464, 20: 0.09027056247308576, 21: 0.09285844967793627, 22: 0.09546452656502746, 23: 0.0981734422811796, 24: 0.10170648225027239, 25: 0.10488681670624632, 26: 0.10787615719894816, 27: 0.10982359071820495, 28: 0.11300058811127509, 29: 0.11683127175050272, 30: 0.11978476996972001, 31: 0.12284166552862781, 32: 0.12560078972494484, 33: 0.12872378359104023, 34: 0.1307654544767947, 35: 0.13301430333873082, 36: 0.13592872038965448, 37: 0.1386115927041194, 38: 0.14223363501187147, 39: 0.1454485211378213, 40: 0.14804680024548353, 41: 0.1508969584738527, 42: 0.15382085563348588, 43: 0.1586945104594082, 44: 0.16227628280147638, 45: 0.16619963527071935, 46: 0.16894068857772743, 47: 0.17088507599456504, 48: 0.17461961230236084, 49: 0.17920684009459706, 50: 0.1832133070096237, 51: 0.18588231151177942, 52: 0.18888239787893768, 53: 0.19013032145960035, 54: 0.19318120449134457, 55: 0.19683036773428234, 56: 0.20112762986135752, 57: 0.20498526625094957, 58: 0.20781879708198003, 59: 0.21070373738686068, 60: 0.2139851038697402, 61: 0.2172897280628586, 62: 0.22066852151979954, 63: 0.22287070520188004, 64: 0.2280173751761714, 65: 0.23034368976828015, 66: 0.2333478606097874, 67: 0.23709148465219232, 68: 0.2413249671676638, 69: 0.2441884612613529, 70: 0.24679121965902007, 71: 0.2504966687521266, 72: 0.2538989004105283, 73: 0.25699221532223016, 74: 0.2621036621036621, 75: 0.2673560960579275, 76: 0.270221972326798, 77: 0.27190282402269084, 78: 0.2810580204778157, 79: 0.2824047317807178, 80: 0.28600860144347284, 81: 0.28966858439348514, 82: 0.2915298967273362, 83: 0.2981462540468804, 84: 0.3044922754952258, 85: 0.30797953011503226, 86: 0.31205438567401755, 87: 0.3146576324985884, 88: 0.3172584283551188, 89: 0.32162695535393404, 90: 0.32705122360495453, 91: 0.33099305486981995, 92: 0.3356350342399011, 93: 0.3403209979894739, 94: 0.34217096618023374, 95: 0.34892033822874946, 96: 0.3550524814394909, 97: 0.35691478378856706, 98: 0.36005397202724015, 99: 0.3658693578234733, 100: 0.3691720764715252, 101: 0.3751125560788251, 102: 0.37991310744520446, 103: 0.3855433711341492, 104: 0.38912984777398996, 105: 0.3927204541368061, 106: 0.397913698618164, 107: 0.40175023064367327, 108: 0.4032572563193004, 109: 0.4077804430391248, 110: 0.4107555065066446, 111: 0.41298214352006535, 112: 0.41534952770323746, 113: 0.4177431170979558, 114: 0.4232730890719937, 115: 0.42983707225276085, 116: 0.4331079861180766, 117: 0.43399994968933164, 118: 0.4356627140441303, 119: 0.439025641025641, 120: 0.44405058790930146, 121: 0.4571678033672696, 122: 0.46440133100219955, 123: 0.46622492490957923, 124: 0.4680454566241368, 125: 0.4746750965929048, 126: 0.4774917046684529, 127: 0.4826328711727325, 128: 0.48662419604827983, 129: 0.4875448544450296, 130: 0.49041436669224486, 131: 0.49342380937490227, 132: 0.49844028520499106, 133: 0.501624807757894, 134: 0.5057676865929848, 135: 0.5131151602815223, 136: 0.5163376123930236, 137: 0.5205387205387205, 138: 0.527007750630661, 139: 0.5280932161548336, 140: 0.5348518408958088, 141: 0.5370846964740095, 142: 0.5392408958044879, 143: 0.5416359072789015, 144: 0.542833852082407, 145: 0.546204249321518, 146: 0.5473921878527884, 147: 0.5497151872331065, 148: 0.5509335404483431, 149: 0.5567488235568188, 150: 0.5602231651736602, 151: 0.56272722232343, 152: 0.5639159927157636, 153: 0.569457064970468, 154: 0.569457064970468, 155: 0.5718071402281929, 156: 0.5752073915851175, 157: 0.5834966345744228, 158: 0.5834966345744228, 159: 0.5859642792711528, 160: 0.5883662508662508, 161: 0.5920809101514872, 162: 0.5980488766259362, 163: 0.6004698016894792, 164: 0.6041380698768279, 165: 0.60545349275349, 166: 0.6079718205413422, 167: 0.612986890502688, 168: 0.614180164819551, 169: 0.6166569520223978, 170: 0.6192596876807404, 171: 0.62173858077817, 172: 0.6258290219265829, 173: 0.6284600699968184, 174: 0.6296640300415468, 175: 0.6296640300415468, 176: 0.6310530592590363, 177: 0.6335357829739853, 178: 0.6371471665589312, 179: 0.6396976599710085, 180: 0.655774647887324, 181: 0.6622440900350639, 182: 0.6680617044825677, 183: 0.6750053150024803, 184: 0.6750053150024803, 185: 0.6794309410805888, 186: 0.682296268503165, 187: 0.6836951894423159, 188: 0.6893214724383072, 189: 0.6923308270676691, 190: 0.6966770984403227, 191: 0.6997108526633683, 192: 0.7102879671807987, 193: 0.7180019958169863, 194: 0.7194761649558203, 195: 0.7212322143942533, 196: 0.7261588985726917, 197: 0.7306096256684492, 198: 0.7322619030551534, 199: 0.7367523858089896, 200: 0.7434969699676895, 201: 0.7451306235496669, 202: 0.7466656631040193, 203: 0.7500114150038811, 204: 0.7513965197961464, 205: 0.7563063133160082, 206: 0.7563063133160082, 207: 0.7563063133160082, 208: 0.7578986902023379, 209: 0.7578986902023379, 210: 0.7594813206181349, 211: 0.7594813206181349, 212: 0.7609273619243552, 213: 0.7624890586456593, 214: 0.7624890586456593, 215: 0.765902652588205, 216: 0.76746632996633, 217: 0.7691330891330891, 218: 0.7691330891330891, 219: 0.7706753990994679, 220: 0.7735433436019742, 221: 0.774849661008479, 222: 0.7779575328614763, 223: 0.7808466745094027, 224: 0.7827168115792904, 225: 0.7855630747874371, 226: 0.7886502905904869, 227: 0.7904479299138053, 228: 0.8002563398333791, 229: 0.805139106436936, 230: 0.8101614434947768, 231: 0.815057758170314, 232: 0.8185932601880878, 233: 0.8215780806698014, 234: 0.8242716495881053, 235: 0.8260236578707917, 236: 0.8280051281007712, 237: 0.8312927693956633, 238: 0.8348679402860424, 239: 0.836464506367419, 240: 0.8381065188882778, 241: 0.8413157612771884, 242: 0.8413157612771884, 243: 0.8413157612771884, 244: 0.8465674382007737, 245: 0.8514158305462654, 246: 0.8542697670214449, 247: 0.857695831424645, 248: 0.8593796840770206, 249: 0.8593796840770206, 250: 0.8593796840770206, 251: 0.861322003204012, 252: 0.8647789860189239, 253: 0.8647789860189239, 254: 0.8679871137095811, 255: 0.8711527293844367, 256: 0.8790817733002532, 257: 0.8827656329435689, 258: 0.8847414234511009, 259: 0.8847414234511009, 260: 0.8863103065934349, 261: 0.8887929681368701, 262: 0.8887929681368701, 263: 0.8904874835309617, 264: 0.8941472153150986, 265: 0.8975472107662253, 266: 0.8994123274566079, 267: 0.8994123274566079, 268: 0.8994123274566079, 269: 0.9026244243466681, 270: 0.9026244243466681, 271: 0.9077883387714569, 272: 0.9077883387714569, 273: 0.9090909090909091, 274: 0.9090909090909091, 275: 0.9090909090909091, 276: 0.9090909090909091, 277: 0.9090909090909091, 278: 0.9124894784198764, 279: 0.9136614898657541, 280: 0.9149425287356322, 281: 0.916008316008316, 282: 0.9192833227762194, 283: 0.9192833227762194, 284: 0.9221507352941176, 285: 0.9221507352941176, 286: 0.9221507352941176, 287: 0.9234830940250116, 288: 0.9234830940250116, 289: 0.9234830940250116, 290: 0.9257167952820127, 291: 0.9270853095554291, 292: 0.9270853095554291, 293: 0.9297991967871486, 294: 0.9307876667962172, 295: 0.9307876667962172, 296: 0.9329515157499754, 297: 0.9329515157499754, 298: 0.9329515157499754, 299: 0.9329515157499754, 300: 0.9329515157499754, 301: 0.935898293743727, 302: 0.9391218583137775, 303: 0.9391218583137775, 304: 0.9427126917712692, 305: 0.9427126917712692, 306: 0.9427126917712692, 307: 0.9427126917712692, 308: 0.9427126917712692, 309: 0.9442705952673957, 310: 0.9453958798709358, 311: 0.9465779875563184, 312: 0.947818247385503, 313: 0.947818247385503, 314: 0.9500018341220058, 315: 0.9507917714962262, 316: 0.9507917714962262, 317: 0.9519331243469175, 318: 0.9548889310803114, 319: 0.9548889310803114, 320: 0.9553742434689343, 321: 0.9578761061946902, 322: 0.9591666666666666, 323: 0.9601217168481743, 324: 0.9601217168481743, 325: 0.9601217168481743, 326: 0.9618228093564416, 327: 0.9636363636363636, 328: 0.9636363636363636, 329: 0.9636363636363636, 330: 0.9636363636363636, 331: 0.9646741386467413, 332: 0.9646741386467413, 333: 0.9650203175401114, 334: 0.9668458781362007, 335: 0.9668458781362007, 336: 0.9683981743099326, 337: 0.9683981743099326, 338: 0.9701036407121977, 339: 0.9701036407121977, 340: 0.9701036407121977, 341: 0.9716542541187091, 342: 0.9716542541187091, 343: 0.9716542541187091, 344: 0.9724310776942355, 345: 0.9739142436510858, 346: 0.9757047042821632, 347: 0.9757047042821632, 348: 0.9767463888231115, 349: 0.9767463888231115, 350: 0.9767463888231115, 351: 0.9771879483500717, 352: 0.9771879483500717, 353: 0.9783934058430473, 354: 0.979114329343382, 355: 0.979502487562189, 356: 0.9804020100502513, 357: 0.9804020100502513, 358: 0.9804020100502513, 359: 0.9809654332267398, 360: 0.9813874788494078, 361: 0.9823370972754584, 362: 0.983097854526426, 363: 0.983716627015596, 364: 0.9844025425992201, 365: 0.9852748691099477, 366: 0.9858363185450537, 367: 0.9858363185450537, 368: 0.9866332497911445, 369: 0.9868287740628167, 370: 0.9873136875640005, 371: 0.9883173496076721, 372: 0.9883173496076721, 373: 0.9883173496076721, 374: 0.9889541715628672, 375: 0.9889541715628672, 376: 0.9889541715628672, 377: 0.9889541715628672, 378: 0.9889541715628672, 379: 0.9894274174388216, 380: 0.989551432174383, 381: 0.9900431060652055, 382: 0.9902394106813996, 383: 0.9909373060211049, 384: 0.9917770384784382, 385: 0.9917770384784382, 386: 0.9922554434076049, 387: 0.9922554434076049, 388: 0.9928094504365691, 389: 0.9932467532467533, 390: 0.99376026272578, 391: 0.99376026272578, 392: 0.99376026272578, 393: 0.99376026272578, 394: 0.9941532124111355, 395: 0.9946901465250706, 396: 0.9946901465250706, 397: 0.9946901465250706, 398: 0.9946901465250706, 399: 0.9946901465250706, 400: 0.9949000407996736, 401: 0.9949088407292742, 402: 0.9949088407292742, 403: 0.9949088407292742, 404: 0.9954054994778977, 405: 0.9954916877993801, 406: 0.9954916877993801, 407: 0.9954916877993801, 408: 0.9954916877993801, 409: 0.9958654120330767, 410: 0.9958654120330767, 411: 0.9962484669215785, 412: 0.9962484669215785, 413: 0.9962484669215785, 414: 0.9967141292442497, 415: 0.9967141292442497, 416: 0.9967141292442497, 417: 0.9967141292442497, 418: 0.9967141292442497, 419: 0.9967141292442497, 420: 0.996969696969697, 421: 0.996969696969697, 422: 0.997156965434685, 423: 0.997156965434685, 424: 0.997156965434685, 425: 0.997156965434685, 426: 0.9978529253891573, 427: 0.9979037267080745, 428: 0.997877358490566, 429: 0.997877358490566, 430: 0.9979301011065997, 431: 0.9979301011065997, 432: 0.9979301011065997, 433: 0.9982851543361098, 434: 0.9982851543361098, 435: 0.9982851543361098, 436: 0.9982851543361098, 437: 0.9982851543361098, 438: 0.9982851543361098, 439: 0.9982851543361098, 440: 0.9982851543361098, 441: 0.9982851543361098, 442: 0.9982851543361098, 443: 0.9982851543361098, 444: 0.9982851543361098, 445: 0.9982851543361098, 446: 0.9983457402812241, 447: 0.9984080435693339, 448: 0.9986418809948222, 449: 0.9986418809948222, 450: 0.9986418809948222, 451: 0.9987100103199175, 452: 0.9986929243638899, 453: 0.9986929243638899, 454: 0.9986929243638899, 455: 0.9986577181208054, 456: 0.9987302738980591, 457: 0.9987302738980591, 458: 0.998804927376356, 459: 0.998804927376356, 460: 0.998804927376356, 461: 0.9988817444786133, 462: 0.9989463601532567, 463: 0.999028749028749, 464: 0.999028749028749, 465: 0.999028749028749, 466: 0.9990150694376047, 467: 0.9991009889121966, 468: 0.9991894630192503, 469: 0.9993744135126681, 470: 0.9993744135126681, 471: 0.9993744135126681, 472: 0.9993744135126681, 473: 0.9993652808632181, 474: 0.9993652808632181, 475: 0.9993652808632181, 476: 0.9994632889652211, 477: 0.9994553376906318, 478: 0.9994553376906318, 479: 0.9994553376906318, 480: 0.9994553376906318, 481: 0.9994472084024323, 482: 0.9994472084024323, 483: 0.9994472084024323, 484: 0.9994472084024323, 485: 0.9994472084024323, 486: 0.9994472084024323, 487: 0.9994472084024323, 488: 0.9996530187369882, 489: 0.9996530187369882, 490: 0.9996476805637111, 491: 0.9996422182468694, 492: 0.9996366279069767, 493: 0.999630905511811, 494: 0.9996250468691413, 495: 0.9996250468691413, 496: 0.9996250468691413, 497: 0.9996250468691413, 498: 0.9996250468691413, 499: 0.9996250468691413, 500: 0.9996250468691413, 501: 0.9996250468691413, 502: 0.9996250468691413, 503: 0.9996250468691413, 504: 0.9996250468691413, 505: 0.9996190476190476, 506: 0.9996190476190476, 507: 0.9996190476190476, 508: 0.9996190476190476, 509: 0.9996190476190476, 510: 0.9996129032258064, 511: 0.9996129032258064, 512: 0.9996129032258064, 513: 0.9996066089693155, 514: 0.9996066089693155, 515: 0.9998667199786752, 516: 0.9998645170031161, 517: 0.9998645170031161, 518: 0.999862258953168, 519: 1.0, 520: 1.0, 521: 1.0, 522: 1.0, 523: 1.0, 524: 1.0, 525: 1.0, 526: 1.0, 527: 1.0, 528: 1.0, 529: 1.0, 530: 1.0, 531: 1.0, 532: 1.0, 533: 1.0, 534: 1.0, 535: 1.0, 536: 1.0, 537: 1.0, 538: 1.0, 539: 1.0, 540: 1.0, 541: 1.0, 542: 1.0, 543: 1.0, 544: 1.0, 545: 1.0, 546: 1.0, 547: 1.0, 548: 1.0, 549: 1.0, 550: 1.0, 551: 1.0, 552: 1.0, 553: 1.0, 554: 1.0, 555: 1.0, 556: 1.0, 557: 1.0, 558: 1.0, 559: 1.0, 560: 1.0, 561: 1.0, 562: 1.0, 563: 1.0, 564: 1.0, 565: 1.0, 566: 1.0, 567: 1.0, 568: 1.0, 569: 1.0, 570: 1.0, 571: 1.0, 572: 1.0, 573: 1.0, 574: 1.0, 575: 1.0, 576: 1.0, 577: 1.0, 578: 1.0, 579: 1.0, 580: 1.0, 581: 1.0, 582: 1.0, 583: 1.0, 584: 1.0, 585: 1.0, 586: 1.0, 587: 1.0, 588: 1.0, 589: 1.0, 590: 1.0, 591: 1.0, 592: 1.0, 593: 1.0, 594: 1.0, 595: 1.0, 596: 1.0, 597: 1.0, 598: 1.0, 599: 1.0, 600: 1.0, 601: 1.0, 602: 1.0, 603: 1.0, 604: 1.0, 605: 1.0, 606: 1.0, 607: 1.0, 608: 1.0, 609: 1.0, 610: 1.0, 611: 1.0, 612: 1.0, 613: 1.0, 614: 1.0, 615: 1.0, 616: 1.0, 617: 1.0, 618: 1.0, 619: 1.0, 620: 1.0, 621: 1.0, 622: 1.0, 623: 1.0, 624: 1.0, 625: 1.0, 626: 1.0, 627: 1.0, 628: 1.0, 629: 1.0, 630: 1.0, 631: 1.0, 632: 1.0, 633: 1.0, 634: 1.0, 635: 1.0, 636: 1.0, 637: 1.0, 638: 1.0, 639: 1.0, 640: 1.0, 641: 1.0, 642: 1.0, 643: 1.0, 644: 1.0, 645: 1.0, 646: 1.0, 647: 1.0, 648: 1.0, 649: 1.0, 650: 1.0, 651: 1.0, 652: 1.0, 653: 1.0, 654: 1.0, 655: 1.0, 656: 1.0, 657: 1.0, 658: 1.0, 659: 1.0, 660: 1.0, 661: 1.0, 662: 1.0, 663: 1.0, 664: 1.0, 665: 1.0, 666: 1.0, 667: 1.0, 668: 1.0, 669: 1.0, 670: 1.0, 671: 1.0, 672: 1.0, 673: 1.0, 674: 1.0, 675: 1.0, 676: 1.0, 677: 1.0, 678: 1.0, 679: 1.0, 680: 1.0, 681: 1.0, 682: 1.0, 683: 1.0, 684: 1.0, 685: 1.0, 686: 1.0, 687: 1.0, 688: 1.0, 689: 1.0, 690: 1.0, 691: 1.0, 692: 1.0, 693: 1.0, 694: 1.0, 695: 1.0, 696: 1.0, 697: 1.0, 698: 1.0, 699: 1.0, 700: 1.0, 701: 1.0, 702: 1.0, 703: 1.0, 704: 1.0, 705: 1.0, 706: 1.0, 707: 1.0, 708: 1.0, 709: 1.0, 710: 1.0, 711: 1.0, 712: 1.0, 713: 1.0, 714: 1.0, 715: 1.0, 716: 1.0, 717: 1.0, 718: 1.0, 719: 1.0, 720: 1.0, 721: 1.0, 722: 1.0, 723: 1.0, 724: 1.0, 725: 1.0, 726: 1.0, 727: 1.0, 728: 1.0, 729: 1.0, 730: 1.0, 731: 1.0, 732: 1.0, 733: 1.0, 734: 1.0, 735: 1.0, 736: 1.0, 737: 1.0, 738: 1.0, 739: 1.0, 740: 1.0, 741: 1.0, 742: 1.0, 743: 1.0, 744: 1.0, 745: 1.0, 746: 1.0, 747: 1.0, 748: 1.0, 749: 1.0, 750: 1.0, 751: 1.0, 752: 1.0, 753: 1.0, 754: 1.0, 755: 1.0, 756: 1.0, 757: 1.0, 758: 1.0, 759: 1.0, 760: 1.0, 761: 1.0, 762: 1.0, 763: 1.0, 764: 1.0, 765: 1.0, 766: 1.0, 767: 1.0, 768: 1.0, 769: 1.0, 770: 1.0, 771: 1.0, 772: 1.0, 773: 1.0, 774: 1.0, 775: 1.0, 776: 1.0, 777: 1.0, 778: 1.0, 779: 1.0, 780: 1.0, 781: 1.0, 782: 1.0, 783: 1.0, 784: 1.0, 785: 1.0, 786: 1.0, 787: 1.0, 788: 1.0, 789: 1.0, 790: 1.0, 791: 1.0, 792: 1.0, 793: 1.0, 794: 1.0, 795: 1.0, 796: 1.0, 797: 1.0, 798: 1.0, 799: 1.0, 800: 1.0, 801: 1.0, 802: 1.0, 803: 1.0, 804: 1.0, 805: 1.0, 806: 1.0, 807: 1.0, 808: 1.0, 809: 1.0, 810: 1.0, 811: 1.0, 812: 1.0, 813: 1.0, 814: 1.0, 815: 1.0, 816: 1.0, 817: 1.0, 818: 1.0, 819: 1.0, 820: 1.0, 821: 1.0, 822: 1.0, 823: 1.0, 824: 1.0, 825: 1.0, 826: 1.0, 827: 1.0, 828: 1.0, 829: 1.0, 830: 1.0, 831: 1.0, 832: 1.0, 833: 1.0, 834: 1.0, 835: 1.0, 836: 1.0, 837: 1.0, 838: 1.0, 839: 1.0, 840: 1.0, 841: 1.0, 842: 1.0, 843: 1.0, 844: 1.0, 845: 1.0, 846: 1.0, 847: 1.0, 848: 1.0, 849: 1.0, 850: 1.0, 851: 1.0, 852: 1.0, 853: 1.0, 854: 1.0, 855: 1.0, 856: 1.0, 857: 1.0, 858: 1.0, 859: 1.0, 860: 1.0, 861: 1.0, 862: 1.0, 863: 1.0, 864: 1.0, 865: 1.0, 866: 1.0, 867: 1.0, 868: 1.0, 869: 1.0, 870: 1.0, 871: 1.0, 872: 1.0, 873: 1.0, 874: 1.0, 875: 1.0, 876: 1.0, 877: 1.0, 878: 1.0, 879: 1.0, 880: 1.0, 881: 1.0, 882: 1.0, 883: 1.0, 884: 1.0, 885: 1.0, 886: 1.0, 887: 1.0, 888: 1.0, 889: 1.0, 890: 1.0, 891: 1.0, 892: 1.0, 893: 1.0, 894: 1.0, 895: 1.0, 896: 1.0, 897: 1.0, 898: 1.0, 899: 1.0, 900: 1.0, 901: 1.0, 902: 1.0, 903: 1.0, 904: 1.0, 905: 1.0, 906: 1.0, 907: 1.0, 908: 1.0, 909: 1.0, 910: 1.0, 911: 1.0, 912: 1.0, 913: 1.0, 914: 1.0, 915: 1.0, 916: 1.0, 917: 1.0, 918: 1.0, 919: 1.0, 920: 1.0, 921: 1.0, 922: 1.0, 923: 1.0, 924: 1.0, 925: 1.0, 926: 1.0, 927: 1.0, 928: 1.0, 929: 1.0, 930: 1.0, 931: 1.0, 932: 1.0, 933: 1.0, 934: 1.0, 935: 1.0, 936: 1.0, 937: 1.0, 938: 1.0, 939: 1.0, 940: 1.0, 941: 1.0, 942: 1.0, 943: 1.0, 944: 1.0, 945: 1.0, 946: 1.0, 947: 1.0, 948: 1.0, 949: 1.0, 950: 1.0, 951: 1.0, 952: 1.0, 953: 1.0, 954: 1.0, 955: 1.0, 956: 1.0, 957: 1.0, 958: 1.0, 959: 1.0, 960: 1.0, 961: 1.0, 962: 1.0, 963: 1.0, 964: 1.0, 965: 1.0, 966: 1.0, 967: 1.0, 968: 1.0, 969: 1.0, 970: 1.0, 971: 1.0, 972: 1.0, 973: 1.0, 974: 1.0, 975: 1.0, 976: 1.0, 977: 1.0, 978: 1.0, 979: 1.0, 980: 1.0, 981: 1.0, 982: 1.0, 983: 1.0, 984: 1.0, 985: 1.0, 986: 1.0, 987: 1.0, 988: 1.0, 989: 1.0, 990: 1.0, 991: 1.0, 992: 1.0, 993: 1.0, 994: 1.0, 995: 1.0, 996: 1.0, 997: 1.0, 998: 1.0, 999: 1.0, 1000: 1.0, 1001: 1.0, 1002: 1.0, 1003: 1.0, 1004: 1.0, 1005: 1.0, 1006: 1.0, 1007: 1.0, 1008: 1.0, 1009: 1.0, 1010: 1.0, 1011: 1.0, 1012: 1.0, 1013: 1.0, 1014: 1.0, 1015: 1.0, 1016: 1.0, 1017: 1.0, 1018: 1.0, 1019: 1.0, 1020: 1.0, 1021: 1.0, 1022: 1.0, 1023: 1.0, 1024: 1.0, 1025: 1.0, 1026: 1.0, 1027: 1.0, 1028: 1.0, 1029: 1.0, 1030: 1.0, 1031: 1.0, 1032: 1.0, 1033: 1.0, 1034: 1.0, 1035: 1.0, 1036: 1.0, 1037: 1.0, 1038: 1.0, 1039: 1.0, 1040: 1.0, 1041: 1.0, 1042: 1.0, 1043: 1.0, 1044: 1.0, 1045: 1.0, 1046: 1.0, 1047: 1.0, 1048: 1.0, 1049: 1.0, 1050: 1.0, 1051: 1.0, 1052: 1.0, 1053: 1.0, 1054: 1.0, 1055: 1.0, 1056: 1.0, 1057: 1.0, 1058: 1.0, 1059: 1.0, 1060: 1.0, 1061: 1.0, 1062: 1.0, 1063: 1.0, 1064: 1.0, 1065: 1.0, 1066: 1.0, 1067: 1.0, 1068: 1.0, 1069: 1.0, 1070: 1.0, 1071: 1.0, 1072: 1.0, 1073: 1.0, 1074: 1.0, 1075: 1.0, 1076: 1.0, 1077: 1.0, 1078: 1.0, 1079: 1.0, 1080: 1.0, 1081: 1.0, 1082: 1.0, 1083: 1.0, 1084: 1.0, 1085: 1.0, 1086: 1.0, 1087: 1.0, 1088: 1.0, 1089: 1.0, 1090: 1.0, 1091: 1.0, 1092: 1.0, 1093: 1.0, 1094: 1.0, 1095: 1.0, 1096: 1.0, 1097: 1.0, 1098: 1.0, 1099: 1.0, 1100: 1.0, 1101: 1.0, 1102: 1.0, 1103: 1.0, 1104: 1.0, 1105: 1.0, 1106: 1.0, 1107: 1.0, 1108: 1.0, 1109: 1.0, 1110: 1.0, 1111: 1.0, 1112: 1.0, 1113: 1.0, 1114: 1.0, 1115: 1.0, 1116: 1.0, 1117: 1.0, 1118: 1.0, 1119: 1.0, 1120: 1.0, 1121: 1.0, 1122: 1.0, 1123: 1.0, 1124: 1.0, 1125: 1.0, 1126: 1.0, 1127: 1.0, 1128: 1.0, 1129: 1.0, 1130: 1.0, 1131: 1.0, 1132: 1.0, 1133: 1.0, 1134: 1.0, 1135: 1.0, 1136: 1.0, 1137: 1.0, 1138: 1.0, 1139: 1.0, 1140: 1.0, 1141: 1.0, 1142: 1.0, 1143: 1.0, 1144: 1.0, 1145: 1.0, 1146: 1.0, 1147: 1.0, 1148: 1.0, 1149: 1.0, 1150: 1.0, 1151: 1.0, 1152: 1.0, 1153: 1.0, 1154: 1.0, 1155: 1.0, 1156: 1.0, 1157: 1.0, 1158: 1.0, 1159: 1.0, 1160: 1.0, 1161: 1.0, 1162: 1.0, 1163: 1.0, 1164: 1.0, 1165: 1.0, 1166: 1.0, 1167: 1.0, 1168: 1.0, 1169: 1.0, 1170: 1.0, 1171: 1.0, 1172: 1.0, 1173: 1.0, 1174: 1.0, 1175: 1.0, 1176: 1.0, 1177: 1.0, 1178: 1.0, 1179: 1.0, 1180: 1.0, 1181: 1.0, 1182: 1.0, 1183: 1.0, 1184: 1.0, 1185: 1.0, 1186: 1.0, 1187: 1.0, 1188: 1.0, 1189: 1.0, 1190: 1.0, 1191: 1.0, 1192: 1.0, 1193: 1.0, 1194: 1.0, 1195: 1.0, 1196: 1.0, 1197: 1.0, 1198: 1.0, 1199: 1.0, 1200: 1.0, 1201: 1.0, 1202: 1.0, 1203: 1.0, 1204: 1.0, 1205: 1.0, 1206: 1.0, 1207: 1.0, 1208: 1.0, 1209: 1.0, 1210: 1.0, 1211: 1.0, 1212: 1.0, 1213: 1.0, 1214: 1.0, 1215: 1.0, 1216: 1.0, 1217: 1.0, 1218: 1.0, 1219: 1.0, 1220: 1.0, 1221: 1.0, 1222: 1.0, 1223: 1.0, 1224: 1.0, 1225: 1.0, 1226: 1.0, 1227: 1.0, 1228: 1.0, 1229: 1.0, 1230: 1.0, 1231: 1.0, 1232: 1.0, 1233: 1.0, 1234: 1.0, 1235: 1.0, 1236: 1.0, 1237: 1.0, 1238: 1.0, 1239: 1.0, 1240: 1.0, 1241: 1.0, 1242: 1.0, 1243: 1.0, 1244: 1.0, 1245: 1.0, 1246: 1.0, 1247: 1.0, 1248: 1.0, 1249: 1.0, 1250: 1.0, 1251: 1.0, 1252: 1.0, 1253: 1.0, 1254: 1.0, 1255: 1.0, 1256: 1.0, 1257: 1.0, 1258: 1.0, 1259: 1.0, 1260: 1.0, 1261: 1.0, 1262: 1.0, 1263: 1.0, 1264: 1.0, 1265: 1.0, 1266: 1.0, 1267: 1.0, 1268: 1.0, 1269: 1.0, 1270: 1.0, 1271: 1.0, 1272: 1.0, 1273: 1.0, 1274: 1.0, 1275: 1.0, 1276: 1.0, 1277: 1.0, 1278: 1.0, 1279: 1.0, 1280: 1.0, 1281: 1.0, 1282: 1.0, 1283: 1.0, 1284: 1.0, 1285: 1.0, 1286: 1.0, 1287: 1.0, 1288: 1.0, 1289: 1.0, 1290: 1.0, 1291: 1.0, 1292: 1.0, 1293: 1.0, 1294: 1.0, 1295: 1.0, 1296: 1.0, 1297: 1.0, 1298: 1.0, 1299: 1.0, 1300: 1.0, 1301: 1.0, 1302: 1.0, 1303: 1.0, 1304: 1.0, 1305: 1.0, 1306: 1.0, 1307: 1.0, 1308: 1.0, 1309: 1.0, 1310: 1.0, 1311: 1.0, 1312: 1.0, 1313: 1.0, 1314: 1.0, 1315: 1.0, 1316: 1.0, 1317: 1.0, 1318: 1.0, 1319: 1.0, 1320: 1.0, 1321: 1.0, 1322: 1.0, 1323: 1.0, 1324: 1.0, 1325: 1.0, 1326: 1.0, 1327: 1.0, 1328: 1.0, 1329: 1.0, 1330: 1.0, 1331: 1.0, 1332: 1.0, 1333: 1.0, 1334: 1.0, 1335: 1.0, 1336: 1.0, 1337: 1.0, 1338: 1.0, 1339: 1.0, 1340: 1.0, 1341: 1.0, 1342: 1.0, 1343: 1.0, 1344: 1.0, 1345: 1.0, 1346: 1.0, 1347: 1.0, 1348: 1.0, 1349: 1.0, 1350: 1.0, 1351: 1.0, 1352: 1.0, 1353: 1.0, 1354: 1.0, 1355: 1.0, 1356: 1.0, 1357: 1.0, 1358: 1.0, 1359: 1.0, 1360: 1.0, 1361: 1.0, 1362: 1.0, 1363: 1.0, 1364: 1.0, 1365: 1.0, 1366: 1.0, 1367: 1.0, 1368: 1.0, 1369: 1.0, 1370: 1.0, 1371: 1.0, 1372: 1.0, 1373: 1.0, 1374: 1.0, 1375: 1.0, 1376: 1.0, 1377: 1.0, 1378: 1.0, 1379: 1.0, 1380: 1.0, 1381: 1.0, 1382: 1.0, 1383: 1.0, 1384: 1.0, 1385: 1.0, 1386: 1.0, 1387: 1.0, 1388: 1.0, 1389: 1.0, 1390: 1.0, 1391: 1.0, 1392: 1.0, 1393: 1.0, 1394: 1.0, 1395: 1.0, 1396: 1.0, 1397: 1.0, 1398: 1.0, 1399: 1.0, 1400: 1.0, 1401: 1.0, 1402: 1.0, 1403: 1.0, 1404: 1.0, 1405: 1.0, 1406: 1.0, 1407: 1.0, 1408: 1.0, 1409: 1.0, 1410: 1.0, 1411: 1.0, 1412: 1.0, 1413: 1.0, 1414: 1.0, 1415: 1.0, 1416: 1.0, 1417: 1.0, 1418: 1.0, 1419: 1.0, 1420: 1.0, 1421: 1.0, 1422: 1.0, 1423: 1.0, 1424: 1.0, 1425: 1.0, 1426: 1.0, 1427: 1.0, 1428: 1.0, 1429: 1.0, 1430: 1.0, 1431: 1.0, 1432: 1.0, 1433: 1.0, 1434: 1.0, 1435: 1.0, 1436: 1.0, 1437: 1.0, 1438: 1.0, 1439: 1.0, 1440: 1.0, 1441: 1.0, 1442: 1.0, 1443: 1.0, 1444: 1.0, 1445: 1.0, 1446: 1.0, 1447: 1.0, 1448: 1.0, 1449: 1.0, 1450: 1.0, 1451: 1.0, 1452: 1.0, 1453: 1.0, 1454: 1.0, 1455: 1.0, 1456: 1.0, 1457: 1.0, 1458: 1.0, 1459: 1.0, 1460: 1.0, 1461: 1.0, 1462: 1.0, 1463: 1.0, 1464: 1.0, 1465: 1.0, 1466: 1.0, 1467: 1.0, 1468: 1.0, 1469: 1.0, 1470: 1.0, 1471: 1.0, 1472: 1.0, 1473: 1.0, 1474: 1.0, 1475: 1.0, 1476: 1.0, 1477: 1.0, 1478: 1.0, 1479: 1.0, 1480: 1.0, 1481: 1.0, 1482: 1.0, 1483: 1.0, 1484: 1.0, 1485: 1.0, 1486: 1.0, 1487: 1.0, 1488: 1.0, 1489: 1.0, 1490: 1.0, 1491: 1.0, 1492: 1.0, 1493: 1.0, 1494: 1.0, 1495: 1.0, 1496: 1.0, 1497: 1.0, 1498: 1.0, 1499: 1.0, 1500: 1.0, 1501: 1.0, 1502: 1.0, 1503: 1.0, 1504: 1.0, 1505: 1.0, 1506: 1.0, 1507: 1.0, 1508: 1.0, 1509: 1.0, 1510: 1.0, 1511: 1.0, 1512: 1.0, 1513: 1.0, 1514: 1.0, 1515: 1.0, 1516: 1.0, 1517: 1.0, 1518: 1.0, 1519: 1.0, 1520: 1.0, 1521: 1.0, 1522: 1.0, 1523: 1.0, 1524: 1.0, 1525: 1.0, 1526: 1.0, 1527: 1.0, 1528: 1.0, 1529: 1.0, 1530: 1.0, 1531: 1.0, 1532: 1.0, 1533: 1.0, 1534: 1.0, 1535: 1.0, 1536: 1.0, 1537: 1.0, 1538: 1.0, 1539: 1.0, 1540: 1.0, 1541: 1.0, 1542: 1.0, 1543: 1.0, 1544: 1.0, 1545: 1.0, 1546: 1.0, 1547: 1.0, 1548: 1.0, 1549: 1.0, 1550: 1.0, 1551: 1.0, 1552: 1.0, 1553: 1.0, 1554: 1.0, 1555: 1.0, 1556: 1.0, 1557: 1.0, 1558: 1.0, 1559: 1.0, 1560: 1.0, 1561: 1.0, 1562: 1.0, 1563: 1.0, 1564: 1.0, 1565: 1.0, 1566: 1.0, 1567: 1.0, 1568: 1.0, 1569: 1.0, 1570: 1.0, 1571: 1.0, 1572: 1.0, 1573: 1.0, 1574: 1.0, 1575: 1.0, 1576: 1.0, 1577: 1.0, 1578: 1.0, 1579: 1.0, 1580: 1.0, 1581: 1.0, 1582: 1.0, 1583: 1.0, 1584: 1.0, 1585: 1.0, 1586: 1.0, 1587: 1.0, 1588: 1.0, 1589: 1.0, 1590: 1.0, 1591: 1.0, 1592: 1.0, 1593: 1.0, 1594: 1.0, 1595: 1.0, 1596: 1.0, 1597: 1.0, 1598: 1.0, 1599: 1.0, 1600: 1.0, 1601: 1.0, 1602: 1.0, 1603: 1.0, 1604: 1.0, 1605: 1.0, 1606: 1.0, 1607: 1.0, 1608: 1.0, 1609: 1.0, 1610: 1.0, 1611: 1.0, 1612: 1.0, 1613: 1.0, 1614: 1.0, 1615: 1.0, 1616: 1.0, 1617: 1.0, 1618: 1.0, 1619: 1.0, 1620: 1.0, 1621: 1.0, 1622: 1.0, 1623: 1.0, 1624: 1.0, 1625: 1.0, 1626: 1.0, 1627: 1.0, 1628: 1.0, 1629: 1.0, 1630: 1.0, 1631: 1.0, 1632: 1.0, 1633: 1.0, 1634: 1.0, 1635: 1.0, 1636: 1.0, 1637: 1.0, 1638: 1.0, 1639: 1.0, 1640: 1.0, 1641: 1.0, 1642: 1.0, 1643: 1.0, 1644: 1.0, 1645: 1.0, 1646: 1.0, 1647: 1.0, 1648: 1.0, 1649: 1.0, 1650: 1.0, 1651: 1.0, 1652: 1.0, 1653: 1.0, 1654: 1.0, 1655: 1.0, 1656: 1.0, 1657: 1.0, 1658: 1.0, 1659: 1.0, 1660: 1.0, 1661: 1.0, 1662: 1.0, 1663: 1.0, 1664: 1.0, 1665: 1.0, 1666: 1.0, 1667: 1.0, 1668: 1.0, 1669: 1.0, 1670: 1.0, 1671: 1.0, 1672: 1.0, 1673: 1.0, 1674: 1.0, 1675: 1.0, 1676: 1.0, 1677: 1.0, 1678: 1.0, 1679: 1.0, 1680: 1.0, 1681: 1.0, 1682: 1.0, 1683: 1.0, 1684: 1.0, 1685: 1.0, 1686: 1.0, 1687: 1.0, 1688: 1.0, 1689: 1.0, 1690: 1.0, 1691: 1.0, 1692: 1.0, 1693: 1.0, 1694: 1.0, 1695: 1.0, 1696: 1.0, 1697: 1.0, 1698: 1.0, 1699: 1.0, 1700: 1.0, 1701: 1.0, 1702: 1.0, 1703: 1.0, 1704: 1.0, 1705: 1.0, 1706: 1.0, 1707: 1.0, 1708: 1.0, 1709: 1.0, 1710: 1.0, 1711: 1.0, 1712: 1.0, 1713: 1.0, 1714: 1.0, 1715: 1.0, 1716: 1.0, 1717: 1.0, 1718: 1.0, 1719: 1.0, 1720: 1.0, 1721: 1.0, 1722: 1.0, 1723: 1.0, 1724: 1.0, 1725: 1.0, 1726: 1.0, 1727: 1.0, 1728: 1.0, 1729: 1.0, 1730: 1.0, 1731: 1.0, 1732: 1.0, 1733: 1.0, 1734: 1.0, 1735: 1.0, 1736: 1.0, 1737: 1.0, 1738: 1.0, 1739: 1.0, 1740: 1.0, 1741: 1.0, 1742: 1.0, 1743: 1.0, 1744: 1.0, 1745: 1.0, 1746: 1.0, 1747: 1.0, 1748: 1.0, 1749: 1.0, 1750: 1.0, 1751: 1.0, 1752: 1.0, 1753: 1.0, 1754: 1.0, 1755: 1.0, 1756: 1.0, 1757: 1.0, 1758: 1.0, 1759: 1.0, 1760: 1.0, 1761: 1.0, 1762: 1.0, 1763: 1.0, 1764: 1.0, 1765: 1.0, 1766: 1.0, 1767: 1.0, 1768: 1.0, 1769: 1.0, 1770: 1.0, 1771: 1.0, 1772: 1.0, 1773: 1.0, 1774: 1.0, 1775: 1.0, 1776: 1.0, 1777: 1.0, 1778: 1.0, 1779: 1.0, 1780: 1.0, 1781: 1.0, 1782: 1.0, 1783: 1.0, 1784: 1.0, 1785: 1.0, 1786: 1.0, 1787: 1.0, 1788: 1.0, 1789: 1.0, 1790: 1.0, 1791: 1.0, 1792: 1.0, 1793: 1.0, 1794: 1.0, 1795: 1.0, 1796: 1.0, 1797: 1.0, 1798: 1.0, 1799: 1.0, 1800: 1.0, 1801: 1.0, 1802: 1.0, 1803: 1.0, 1804: 1.0, 1805: 1.0, 1806: 1.0, 1807: 1.0, 1808: 1.0, 1809: 1.0, 1810: 1.0, 1811: 1.0, 1812: 1.0, 1813: 1.0, 1814: 1.0, 1815: 1.0, 1816: 1.0, 1817: 1.0, 1818: 1.0, 1819: 1.0, 1820: 1.0, 1821: 1.0, 1822: 1.0, 1823: 1.0, 1824: 1.0, 1825: 1.0, 1826: 1.0, 1827: 1.0, 1828: 1.0, 1829: 1.0, 1830: 1.0, 1831: 1.0, 1832: 1.0, 1833: 1.0, 1834: 1.0, 1835: 1.0, 1836: 1.0, 1837: 1.0, 1838: 1.0, 1839: 1.0, 1840: 1.0, 1841: 1.0, 1842: 1.0, 1843: 1.0, 1844: 1.0, 1845: 1.0, 1846: 1.0, 1847: 1.0, 1848: 1.0, 1849: 1.0, 1850: 1.0, 1851: 1.0, 1852: 1.0, 1853: 1.0, 1854: 1.0, 1855: 1.0, 1856: 1.0, 1857: 1.0, 1858: 1.0, 1859: 1.0, 1860: 1.0, 1861: 1.0, 1862: 1.0, 1863: 1.0, 1864: 1.0, 1865: 1.0, 1866: 1.0, 1867: 1.0, 1868: 1.0, 1869: 1.0, 1870: 1.0, 1871: 1.0, 1872: 1.0, 1873: 1.0, 1874: 1.0, 1875: 1.0, 1876: 1.0, 1877: 1.0, 1878: 1.0, 1879: 1.0, 1880: 1.0, 1881: 1.0, 1882: 1.0, 1883: 1.0, 1884: 1.0, 1885: 1.0, 1886: 1.0, 1887: 1.0, 1888: 1.0, 1889: 1.0, 1890: 1.0, 1891: 1.0, 1892: 1.0, 1893: 1.0, 1894: 1.0, 1895: 1.0, 1896: 1.0, 1897: 1.0, 1898: 1.0, 1899: 1.0, 1900: 1.0, 1901: 1.0, 1902: 1.0, 1903: 1.0, 1904: 1.0, 1905: 1.0, 1906: 1.0, 1907: 1.0, 1908: 1.0, 1909: 1.0, 1910: 1.0, 1911: 1.0, 1912: 1.0, 1913: 1.0, 1914: 1.0, 1915: 1.0, 1916: 1.0, 1917: 1.0, 1918: 1.0, 1919: 1.0, 1920: 1.0, 1921: 1.0, 1922: 1.0, 1923: 1.0, 1924: 1.0, 1925: 1.0, 1926: 1.0, 1927: 1.0, 1928: 1.0, 1929: 1.0, 1930: 1.0, 1931: 1.0, 1932: 1.0, 1933: 1.0, 1934: 1.0, 1935: 1.0, 1936: 1.0, 1937: 1.0, 1938: 1.0, 1939: 1.0, 1940: 1.0, 1941: 1.0, 1942: 1.0, 1943: 1.0, 1944: 1.0, 1945: 1.0, 1946: 1.0, 1947: 1.0, 1948: 1.0, 1949: 1.0, 1950: 1.0, 1951: 1.0, 1952: 1.0, 1953: 1.0, 1954: 1.0, 1955: 1.0, 1956: 1.0, 1957: 1.0, 1958: 1.0, 1959: 1.0, 1960: 1.0, 1961: 1.0, 1962: 1.0, 1963: 1.0, 1964: 1.0, 1965: 1.0, 1966: 1.0, 1967: 1.0, 1968: 1.0, 1969: 1.0, 1970: 1.0, 1971: 1.0, 1972: 1.0, 1973: 1.0, 1974: 1.0, 1975: 1.0, 1976: 1.0, 1977: 1.0, 1978: 1.0, 1979: 1.0, 1980: 1.0, 1981: 1.0, 1982: 1.0, 1983: 1.0, 1984: 1.0, 1985: 1.0, 1986: 1.0, 1987: 1.0, 1988: 1.0, 1989: 1.0, 1990: 1.0, 1991: 1.0, 1992: 1.0, 1993: 1.0, 1994: 1.0, 1995: 1.0, 1996: 1.0, 1997: 1.0, 1998: 1.0, 1999: 1.0, 2000: 1.0, 2001: 1.0, 2002: 1.0, 2003: 1.0, 2004: 1.0, 2005: 1.0, 2006: 1.0, 2007: 1.0, 2008: 1.0, 2009: 1.0, 2010: 1.0, 2011: 1.0, 2012: 1.0, 2013: 1.0, 2014: 1.0, 2015: 1.0, 2016: 1.0, 2017: 1.0, 2018: 1.0, 2019: 1.0, 2020: 1.0, 2021: 1.0, 2022: 1.0, 2023: 1.0, 2024: 1.0, 2025: 1.0, 2026: 1.0, 2027: 1.0, 2028: 1.0, 2029: 1.0, 2030: 1.0, 2031: 1.0, 2032: 1.0, 2033: 1.0, 2034: 1.0, 2035: 1.0, 2036: 1.0, 2037: 1.0, 2038: 1.0, 2039: 1.0, 2040: 1.0, 2041: 1.0, 2042: 1.0, 2043: 1.0, 2044: 1.0, 2045: 1.0, 2046: 1.0, 2047: 1.0, 2048: 1.0, 2049: 1.0, 2050: 1.0, 2051: 1.0, 2052: 1.0, 2053: 1.0, 2054: 1.0, 2055: 1.0, 2056: 1.0, 2057: 1.0, 2058: 1.0, 2059: 1.0, 2060: 1.0, 2061: 1.0, 2062: 1.0, 2063: 1.0, 2064: 1.0, 2065: 1.0, 2066: 1.0, 2067: 1.0, 2068: 1.0, 2069: 1.0, 2070: 1.0, 2071: 1.0, 2072: 1.0, 2073: 1.0, 2074: 1.0, 2075: 1.0, 2076: 1.0, 2077: 1.0, 2078: 1.0, 2079: 1.0, 2080: 1.0, 2081: 1.0, 2082: 1.0, 2083: 1.0, 2084: 1.0, 2085: 1.0, 2086: 1.0, 2087: 1.0, 2088: 1.0, 2089: 1.0, 2090: 1.0, 2091: 1.0, 2092: 1.0, 2093: 1.0, 2094: 1.0, 2095: 1.0, 2096: 1.0, 2097: 1.0, 2098: 1.0, 2099: 1.0, 2100: 1.0, 2101: 1.0, 2102: 1.0, 2103: 1.0, 2104: 1.0, 2105: 1.0, 2106: 1.0, 2107: 1.0, 2108: 1.0, 2109: 1.0, 2110: 1.0, 2111: 1.0, 2112: 1.0, 2113: 1.0, 2114: 1.0, 2115: 1.0, 2116: 1.0, 2117: 1.0, 2118: 1.0, 2119: 1.0, 2120: 1.0, 2121: 1.0, 2122: 1.0, 2123: 1.0, 2124: 1.0, 2125: 1.0, 2126: 1.0, 2127: 1.0, 2128: 1.0, 2129: 1.0, 2130: 1.0, 2131: 1.0, 2132: 1.0, 2133: 1.0, 2134: 1.0, 2135: 1.0, 2136: 1.0, 2137: 1.0, 2138: 1.0, 2139: 1.0, 2140: 1.0, 2141: 1.0, 2142: 1.0, 2143: 1.0, 2144: 1.0, 2145: 1.0, 2146: 1.0, 2147: 1.0, 2148: 1.0, 2149: 1.0, 2150: 1.0, 2151: 1.0, 2152: 1.0, 2153: 1.0, 2154: 1.0, 2155: 1.0, 2156: 1.0, 2157: 1.0, 2158: 1.0, 2159: 1.0, 2160: 1.0, 2161: 1.0, 2162: 1.0, 2163: 1.0, 2164: 1.0, 2165: 1.0, 2166: 1.0, 2167: 1.0, 2168: 1.0, 2169: 1.0, 2170: 1.0, 2171: 1.0, 2172: 1.0, 2173: 1.0, 2174: 1.0, 2175: 1.0, 2176: 1.0, 2177: 1.0, 2178: 1.0, 2179: 1.0, 2180: 1.0, 2181: 1.0, 2182: 1.0, 2183: 1.0, 2184: 1.0, 2185: 1.0, 2186: 1.0, 2187: 1.0, 2188: 1.0, 2189: 1.0, 2190: 1.0, 2191: 1.0, 2192: 1.0, 2193: 1.0, 2194: 1.0, 2195: 1.0, 2196: 1.0, 2197: 1.0, 2198: 1.0, 2199: 1.0, 2200: 1.0, 2201: 1.0, 2202: 1.0, 2203: 1.0, 2204: 1.0, 2205: 1.0, 2206: 1.0, 2207: 1.0, 2208: 1.0, 2209: 1.0, 2210: 1.0, 2211: 1.0, 2212: 1.0, 2213: 1.0, 2214: 1.0, 2215: 1.0, 2216: 1.0, 2217: 1.0, 2218: 1.0, 2219: 1.0, 2220: 1.0}\n"
     ]
    },
    {
     "data": {
      "image/png": "[encoded data removed]",
      "text/plain": [
       "<Figure size 432x288 with 1 Axes>"
      ]
     },
     "metadata": {
      "needs_background": "light"
     },
     "output_type": "display_data"
    }
   ],
   "source": [
    "### 13) Da li mreža ispoljava fenomen kluba bogatih (eng. rich club phenomenon)? \n",
    "\n",
    "# Rich-club can be viewed as a more specific notation of assortativity, where we are only concerned with the connectivity of nodes beyond a certain richness metric.\n",
    "# The rich-club coefficient is a metric on graphs and networks, designed to measure the extent to which well-connected nodes also connect to each other. \n",
    "\n",
    "#nx.rich_club_coefficient(G) # forever\n",
    "rcc = nx.rich_club_coefficient(G, normalized=False)\n",
    "print(rcc)\n",
    "\n",
    "plt.plot(rcc.values())\n",
    "plt.show()\n",
    "\n",
    "rcc = None\n",
    "# ANSWER: Ne"
   ]
  },
  {
   "cell_type": "markdown",
   "id": "8d2a07a0",
   "metadata": {},
   "source": [
    "#### Distribution Degree "
   ]
  },
  {
   "cell_type": "code",
   "execution_count": 47,
   "id": "497255d7",
   "metadata": {},
   "outputs": [
    {
     "data": {
      "image/png": "[encoded data removed]",
      "text/plain": [
       "<Figure size 432x288 with 1 Axes>"
      ]
     },
     "metadata": {
      "needs_background": "light"
     },
     "output_type": "display_data"
    },
    {
     "data": {
      "image/png": "[encoded data removed]",
      "text/plain": [
       "<Figure size 432x288 with 1 Axes>"
      ]
     },
     "metadata": {
      "needs_background": "light"
     },
     "output_type": "display_data"
    }
   ],
   "source": [
    "### 14) Kakva je distribucija čvorova po stepenu i da li prati power law raspodelu?\n",
    "\n",
    "import numpy as np\n",
    "import matplotlib.pyplot as plt\n",
    "\n",
    "from collections import Counter\n",
    "from operator import itemgetter\n",
    "\n",
    "def plot_deg_frequency(G, weighted = False, xscale = \"log\", yscale = \"log\"):\n",
    "\n",
    "    if weighted:\n",
    "        degrees = G.degree(weight=\"weight\")\n",
    "    else:\n",
    "        degrees = G.degree()\n",
    "        \n",
    "    _, deg_list = zip(*degrees)\n",
    "    deg_counts = Counter(deg_list)        \n",
    "    #print(deg_counts)\n",
    "    x, y = zip(*deg_counts.items())                                                      \n",
    "\n",
    "    plt.figure(1)   \n",
    "\n",
    "    # prep axes   \n",
    "    if weighted:\n",
    "        plt.xlabel('weighted degree')  \n",
    "    else:\n",
    "        plt.xlabel('degree')                                                                                                             \n",
    "    plt.xscale(xscale)                                                                                                                \n",
    "    plt.xlim(1, max(x))  \n",
    "\n",
    "    plt.ylabel('frequency')                                                                                                          \n",
    "    plt.yscale(yscale)                                                                                                                \n",
    "    plt.ylim(1, max(y))                                                                                                             \n",
    "                                                                                                                                                                                                    \n",
    "    plt.scatter(x, y, marker='.')                                                                                                    \n",
    "    plt.show()\n",
    "    \n",
    "\n",
    "plot_deg_frequency(G) # Raspodele stepena čvora\n",
    "plot_deg_frequency(G, weighted = True) # Raspodela težinskog stepena čvora"
   ]
  },
  {
   "cell_type": "code",
   "execution_count": 48,
   "id": "b78a1cbf",
   "metadata": {},
   "outputs": [
    {
     "name": "stdout",
     "output_type": "stream",
     "text": [
      "Erdos-Renyi Graph:\n"
     ]
    },
    {
     "data": {
      "image/png": "[encoded data removed]",
      "text/plain": [
       "<Figure size 432x288 with 1 Axes>"
      ]
     },
     "metadata": {
      "needs_background": "light"
     },
     "output_type": "display_data"
    },
    {
     "data": {
      "image/png": "[encoded data removed]",
      "text/plain": [
       "<Figure size 432x288 with 1 Axes>"
      ]
     },
     "metadata": {
      "needs_background": "light"
     },
     "output_type": "display_data"
    },
    {
     "name": "stdout",
     "output_type": "stream",
     "text": [
      "Our Graph G:\n"
     ]
    },
    {
     "data": {
      "image/png": "[encoded data removed]",
      "text/plain": [
       "<Figure size 432x288 with 1 Axes>"
      ]
     },
     "metadata": {
      "needs_background": "light"
     },
     "output_type": "display_data"
    },
    {
     "data": {
      "image/png": "[encoded data removed]",
      "text/plain": [
       "<Figure size 432x288 with 1 Axes>"
      ]
     },
     "metadata": {
      "needs_background": "light"
     },
     "output_type": "display_data"
    }
   ],
   "source": [
    "print(\"Erdos-Renyi Graph:\")\n",
    "plot_deg_frequency(er_network, xscale = 'linear', yscale = 'linear')\n",
    "plot_deg_frequency(er_network, xscale = 'log', yscale = 'log')\n",
    "\n",
    "print(\"Our Graph G:\")\n",
    "plot_deg_frequency(G, xscale = 'linear', yscale = 'linear')\n",
    "plot_deg_frequency(G, xscale = 'log', yscale = 'log')"
   ]
  },
  {
   "cell_type": "markdown",
   "id": "a93cd2c8",
   "metadata": {},
   "source": [
    "#### Fitting to the Power-Law Distribution"
   ]
  },
  {
   "cell_type": "code",
   "execution_count": 49,
   "id": "26fcb48a",
   "metadata": {},
   "outputs": [
    {
     "name": "stdout",
     "output_type": "stream",
     "text": [
      "3683660\n"
     ]
    }
   ],
   "source": [
    "sum_of_weights = 0\n",
    "\n",
    "for n in Gdom.edges.data():\n",
    "    sum_of_weights += n[2]['weight']\n",
    "    \n",
    "print(sum_of_weights)"
   ]
  },
  {
   "cell_type": "code",
   "execution_count": 50,
   "id": "3012b0f4",
   "metadata": {},
   "outputs": [
    {
     "data": {
      "image/png": "[encoded data removed]",
      "text/plain": [
       "<Figure size 432x288 with 1 Axes>"
      ]
     },
     "metadata": {
      "needs_background": "light"
     },
     "output_type": "display_data"
    }
   ],
   "source": [
    "degree_sequence = sorted([d for n, d in Gdom.degree()], reverse=True)\n",
    "degreeCount = Counter(degree_sequence)\n",
    "deg, cnt = zip(*degreeCount.items())\n",
    "\n",
    "max_deg = max(deg) # hoćemo po jedan bin za svaki stepen čvora\n",
    "\n",
    "# izračunavanje histograma\n",
    "values, base = np.histogram(deg, bins = max_deg)\n",
    "\n",
    "# kumulativna suma (inkluzivna prefiksna suma)\n",
    "cumulative = np.cumsum(values)\n",
    "\n",
    "# plotovanje komplementarne kumulativne raspodele stepena čvora P(X>x)\n",
    "plt.plot(base[:-1], [float(x)/sum_of_weights for x in sum_of_weights - cumulative], c='blue')\n",
    "\n",
    "plt.show()"
   ]
  },
  {
   "cell_type": "code",
   "execution_count": 51,
   "id": "a41ce0f7",
   "metadata": {},
   "outputs": [
    {
     "name": "stdout",
     "output_type": "stream",
     "text": [
      "Collecting powerlaw\n",
      "  Downloading powerlaw-1.5-py3-none-any.whl (24 kB)\n",
      "Requirement already satisfied: matplotlib in c:\\users\\dlali\\anaconda3\\lib\\site-packages (from powerlaw) (3.5.1)\n",
      "Collecting mpmath\n",
      "  Downloading mpmath-1.2.1-py3-none-any.whl (532 kB)\n",
      "Requirement already satisfied: numpy in c:\\users\\dlali\\anaconda3\\lib\\site-packages (from powerlaw) (1.22.3)\n",
      "Requirement already satisfied: scipy in c:\\users\\dlali\\anaconda3\\lib\\site-packages (from powerlaw) (1.7.3)\n",
      "Requirement already satisfied: python-dateutil>=2.7 in c:\\users\\dlali\\anaconda3\\lib\\site-packages (from matplotlib->powerlaw) (2.8.2)\n",
      "Requirement already satisfied: cycler>=0.10 in c:\\users\\dlali\\anaconda3\\lib\\site-packages (from matplotlib->powerlaw) (0.11.0)\n",
      "Requirement already satisfied: pillow>=6.2.0 in c:\\users\\dlali\\anaconda3\\lib\\site-packages (from matplotlib->powerlaw) (9.0.1)\n",
      "Requirement already satisfied: fonttools>=4.22.0 in c:\\users\\dlali\\anaconda3\\lib\\site-packages (from matplotlib->powerlaw) (4.25.0)\n",
      "Requirement already satisfied: kiwisolver>=1.0.1 in c:\\users\\dlali\\anaconda3\\lib\\site-packages (from matplotlib->powerlaw) (1.4.2)\n",
      "Requirement already satisfied: packaging>=20.0 in c:\\users\\dlali\\anaconda3\\lib\\site-packages (from matplotlib->powerlaw) (21.3)\n",
      "Requirement already satisfied: pyparsing>=2.2.1 in c:\\users\\dlali\\anaconda3\\lib\\site-packages (from matplotlib->powerlaw) (3.0.4)\n",
      "Requirement already satisfied: six>=1.5 in c:\\users\\dlali\\anaconda3\\lib\\site-packages (from python-dateutil>=2.7->matplotlib->powerlaw) (1.16.0)\n",
      "Installing collected packages: mpmath, powerlaw\n",
      "Successfully installed mpmath-1.2.1 powerlaw-1.5\n"
     ]
    }
   ],
   "source": [
    "!pip install powerlaw\n",
    "import powerlaw"
   ]
  },
  {
   "cell_type": "code",
   "execution_count": 52,
   "id": "b9870c3d",
   "metadata": {},
   "outputs": [
    {
     "name": "stdout",
     "output_type": "stream",
     "text": [
      "Calculating best minimal value for power law fit\n",
      "xmin progress: 00%\r",
      "xmin progress: 00%\r",
      "xmin progress: 00%\r",
      "xmin progress: 00%\r",
      "xmin progress: 00%\r",
      "xmin progress: 01%\r",
      "xmin progress: 01%\r",
      "xmin progress: 01%\r",
      "xmin progress: 01%\r",
      "xmin progress: 01%\r",
      "xmin progress: 02%\r",
      "xmin progress: 02%\r",
      "xmin progress: 02%\r",
      "xmin progress: 02%\r",
      "xmin progress: 02%\r",
      "xmin progress: 03%\r",
      "xmin progress: 03%\r",
      "xmin progress: 03%\r",
      "xmin progress: 03%\r",
      "xmin progress: 03%\r",
      "xmin progress: 04%\r",
      "xmin progress: 04%\r",
      "xmin progress: 04%\r",
      "xmin progress: 04%\r",
      "xmin progress: 05%\r",
      "xmin progress: 05%\r",
      "xmin progress: 05%\r",
      "xmin progress: 05%\r",
      "xmin progress: 05%\r",
      "xmin progress: 06%\r",
      "xmin progress: 06%\r",
      "xmin progress: 06%\r",
      "xmin progress: 06%\r",
      "xmin progress: 06%\r",
      "xmin progress: 07%\r",
      "xmin progress: 07%\r",
      "xmin progress: 07%\r",
      "xmin progress: 07%\r",
      "xmin progress: 07%\r",
      "xmin progress: 08%\r",
      "xmin progress: 08%\r",
      "xmin progress: 08%\r",
      "xmin progress: 08%\r",
      "xmin progress: 08%\r",
      "xmin progress: 09%\r",
      "xmin progress: 09%\r",
      "xmin progress: 09%\r",
      "xmin progress: 09%\r",
      "xmin progress: 10%\r",
      "xmin progress: 10%\r",
      "xmin progress: 10%\r",
      "xmin progress: 10%\r",
      "xmin progress: 10%\r",
      "xmin progress: 11%\r",
      "xmin progress: 11%\r",
      "xmin progress: 11%\r",
      "xmin progress: 11%\r",
      "xmin progress: 11%\r",
      "xmin progress: 12%\r",
      "xmin progress: 12%\r",
      "xmin progress: 12%\r",
      "xmin progress: 12%\r",
      "xmin progress: 12%\r",
      "xmin progress: 13%\r",
      "xmin progress: 13%\r",
      "xmin progress: 13%\r",
      "xmin progress: 13%\r",
      "xmin progress: 14%\r",
      "xmin progress: 14%\r",
      "xmin progress: 14%\r",
      "xmin progress: 14%\r",
      "xmin progress: 14%\r",
      "xmin progress: 15%\r",
      "xmin progress: 15%\r",
      "xmin progress: 15%\r",
      "xmin progress: 15%\r",
      "xmin progress: 15%\r",
      "xmin progress: 16%\r",
      "xmin progress: 16%\r",
      "xmin progress: 16%\r",
      "xmin progress: 16%\r",
      "xmin progress: 16%\r",
      "xmin progress: 17%\r",
      "xmin progress: 17%\r",
      "xmin progress: 17%\r",
      "xmin progress: 17%\r",
      "xmin progress: 17%\r",
      "xmin progress: 18%\r",
      "xmin progress: 18%\r",
      "xmin progress: 18%\r",
      "xmin progress: 18%\r",
      "xmin progress: 19%\r",
      "xmin progress: 19%\r",
      "xmin progress: 19%\r",
      "xmin progress: 19%\r",
      "xmin progress: 19%\r",
      "xmin progress: 20%\r",
      "xmin progress: 20%\r",
      "xmin progress: 20%\r",
      "xmin progress: 20%\r",
      "xmin progress: 20%\r",
      "xmin progress: 21%\r",
      "xmin progress: 21%\r",
      "xmin progress: 21%\r",
      "xmin progress: 21%\r",
      "xmin progress: 21%\r",
      "xmin progress: 22%\r",
      "xmin progress: 22%\r",
      "xmin progress: 22%\r",
      "xmin progress: 22%\r",
      "xmin progress: 23%\r",
      "xmin progress: 23%\r",
      "xmin progress: 23%\r",
      "xmin progress: 23%\r",
      "xmin progress: 23%\r",
      "xmin progress: 24%\r",
      "xmin progress: 24%\r",
      "xmin progress: 24%\r",
      "xmin progress: 24%\r",
      "xmin progress: 24%\r",
      "xmin progress: 25%\r",
      "xmin progress: 25%\r",
      "xmin progress: 25%\r",
      "xmin progress: 25%\r",
      "xmin progress: 25%\r",
      "xmin progress: 26%\r",
      "xmin progress: 26%\r",
      "xmin progress: 26%\r",
      "xmin progress: 26%\r",
      "xmin progress: 26%\r",
      "xmin progress: 27%\r",
      "xmin progress: 27%\r",
      "xmin progress: 27%\r",
      "xmin progress: 27%\r",
      "xmin progress: 28%\r",
      "xmin progress: 28%\r",
      "xmin progress: 28%\r",
      "xmin progress: 28%\r",
      "xmin progress: 28%\r",
      "xmin progress: 29%\r",
      "xmin progress: 29%\r",
      "xmin progress: 29%\r",
      "xmin progress: 29%\r",
      "xmin progress: 29%\r",
      "xmin progress: 30%\r",
      "xmin progress: 30%\r",
      "xmin progress: 30%\r",
      "xmin progress: 30%\r",
      "xmin progress: 30%\r",
      "xmin progress: 31%\r",
      "xmin progress: 31%\r",
      "xmin progress: 31%\r",
      "xmin progress: 31%\r",
      "xmin progress: 32%\r",
      "xmin progress: 32%\r",
      "xmin progress: 32%\r",
      "xmin progress: 32%\r",
      "xmin progress: 32%\r",
      "xmin progress: 33%\r",
      "xmin progress: 33%\r",
      "xmin progress: 33%\r",
      "xmin progress: 33%\r",
      "xmin progress: 33%\r",
      "xmin progress: 34%\r",
      "xmin progress: 34%\r",
      "xmin progress: 34%\r",
      "xmin progress: 34%\r",
      "xmin progress: 34%\r",
      "xmin progress: 35%\r",
      "xmin progress: 35%\r",
      "xmin progress: 35%\r",
      "xmin progress: 35%\r",
      "xmin progress: 35%\r",
      "xmin progress: 36%\r",
      "xmin progress: 36%\r",
      "xmin progress: 36%\r",
      "xmin progress: 36%\r",
      "xmin progress: 37%\r",
      "xmin progress: 37%\r",
      "xmin progress: 37%\r",
      "xmin progress: 37%\r",
      "xmin progress: 37%\r",
      "xmin progress: 38%\r",
      "xmin progress: 38%\r",
      "xmin progress: 38%\r",
      "xmin progress: 38%\r",
      "xmin progress: 38%\r",
      "xmin progress: 39%\r",
      "xmin progress: 39%\r",
      "xmin progress: 39%\r",
      "xmin progress: 39%\r",
      "xmin progress: 39%\r",
      "xmin progress: 40%\r",
      "xmin progress: 40%\r",
      "xmin progress: 40%\r",
      "xmin progress: 40%\r",
      "xmin progress: 41%\r",
      "xmin progress: 41%\r",
      "xmin progress: 41%\r",
      "xmin progress: 41%\r",
      "xmin progress: 41%\r",
      "xmin progress: 42%\r",
      "xmin progress: 42%\r",
      "xmin progress: 42%\r",
      "xmin progress: 42%\r",
      "xmin progress: 42%\r",
      "xmin progress: 43%\r",
      "xmin progress: 43%\r",
      "xmin progress: 43%\r",
      "xmin progress: 43%\r",
      "xmin progress: 43%\r",
      "xmin progress: 44%\r",
      "xmin progress: 44%\r",
      "xmin progress: 44%\r",
      "xmin progress: 44%\r",
      "xmin progress: 44%\r",
      "xmin progress: 45%\r",
      "xmin progress: 45%\r",
      "xmin progress: 45%\r",
      "xmin progress: 45%\r",
      "xmin progress: 46%\r",
      "xmin progress: 46%\r",
      "xmin progress: 46%\r",
      "xmin progress: 46%\r",
      "xmin progress: 46%\r",
      "xmin progress: 47%\r",
      "xmin progress: 47%\r",
      "xmin progress: 47%\r",
      "xmin progress: 47%\r",
      "xmin progress: 47%\r",
      "xmin progress: 48%\r",
      "xmin progress: 48%\r",
      "xmin progress: 48%\r",
      "xmin progress: 48%\r",
      "xmin progress: 48%\r",
      "xmin progress: 49%\r",
      "xmin progress: 49%\r",
      "xmin progress: 49%\r",
      "xmin progress: 49%\r",
      "xmin progress: 50%\r",
      "xmin progress: 50%\r",
      "xmin progress: 50%\r",
      "xmin progress: 50%\r",
      "xmin progress: 50%\r",
      "xmin progress: 51%\r",
      "xmin progress: 51%\r",
      "xmin progress: 51%\r",
      "xmin progress: 51%\r",
      "xmin progress: 51%\r",
      "xmin progress: 52%\r",
      "xmin progress: 52%\r",
      "xmin progress: 52%\r",
      "xmin progress: 52%\r",
      "xmin progress: 52%\r",
      "xmin progress: 53%\r",
      "xmin progress: 53%\r",
      "xmin progress: 53%\r",
      "xmin progress: 53%\r",
      "xmin progress: 53%\r",
      "xmin progress: 54%\r",
      "xmin progress: 54%\r",
      "xmin progress: 54%\r",
      "xmin progress: 54%\r",
      "xmin progress: 55%\r",
      "xmin progress: 55%\r",
      "xmin progress: 55%\r",
      "xmin progress: 55%\r",
      "xmin progress: 55%\r",
      "xmin progress: 56%\r",
      "xmin progress: 56%\r",
      "xmin progress: 56%\r",
      "xmin progress: 56%\r",
      "xmin progress: 56%\r",
      "xmin progress: 57%\r",
      "xmin progress: 57%\r",
      "xmin progress: 57%\r",
      "xmin progress: 57%\r",
      "xmin progress: 57%\r",
      "xmin progress: 58%\r",
      "xmin progress: 58%\r",
      "xmin progress: 58%\r",
      "xmin progress: 58%\r",
      "xmin progress: 58%\r",
      "xmin progress: 59%\r",
      "xmin progress: 59%\r",
      "xmin progress: 59%\r",
      "xmin progress: 59%\r",
      "xmin progress: 60%\r",
      "xmin progress: 60%\r",
      "xmin progress: 60%\r",
      "xmin progress: 60%\r",
      "xmin progress: 60%\r",
      "xmin progress: 61%\r",
      "xmin progress: 61%\r",
      "xmin progress: 61%\r",
      "xmin progress: 61%\r",
      "xmin progress: 61%\r",
      "xmin progress: 62%\r",
      "xmin progress: 62%\r",
      "xmin progress: 62%\r",
      "xmin progress: 62%\r",
      "xmin progress: 62%\r",
      "xmin progress: 63%\r",
      "xmin progress: 63%\r",
      "xmin progress: 63%\r",
      "xmin progress: 63%\r",
      "xmin progress: 64%\r",
      "xmin progress: 64%\r",
      "xmin progress: 64%\r",
      "xmin progress: 64%\r",
      "xmin progress: 64%\r",
      "xmin progress: 65%\r",
      "xmin progress: 65%\r",
      "xmin progress: 65%\r",
      "xmin progress: 65%\r",
      "xmin progress: 65%\r",
      "xmin progress: 66%\r",
      "xmin progress: 66%\r",
      "xmin progress: 66%\r",
      "xmin progress: 66%\r",
      "xmin progress: 66%\r",
      "xmin progress: 67%\r",
      "xmin progress: 67%\r",
      "xmin progress: 67%\r",
      "xmin progress: 67%\r",
      "xmin progress: 67%\r",
      "xmin progress: 68%\r",
      "xmin progress: 68%\r",
      "xmin progress: 68%\r",
      "xmin progress: 68%\r",
      "xmin progress: 69%\r",
      "xmin progress: 69%\r",
      "xmin progress: 69%\r",
      "xmin progress: 69%\r",
      "xmin progress: 69%\r",
      "xmin progress: 70%\r",
      "xmin progress: 70%\r",
      "xmin progress: 70%\r",
      "xmin progress: 70%\r",
      "xmin progress: 70%\r",
      "xmin progress: 71%\r",
      "xmin progress: 71%\r",
      "xmin progress: 71%\r",
      "xmin progress: 71%\r",
      "xmin progress: 71%\r",
      "xmin progress: 72%\r",
      "xmin progress: 72%\r",
      "xmin progress: 72%\r",
      "xmin progress: 72%\r",
      "xmin progress: 73%\r",
      "xmin progress: 73%\r",
      "xmin progress: 73%\r",
      "xmin progress: 73%\r",
      "xmin progress: 73%\r",
      "xmin progress: 74%\r",
      "xmin progress: 74%\r",
      "xmin progress: 74%\r",
      "xmin progress: 74%\r",
      "xmin progress: 74%\r",
      "xmin progress: 75%\r",
      "xmin progress: 75%\r",
      "xmin progress: 75%\r",
      "xmin progress: 75%\r",
      "xmin progress: 75%\r",
      "xmin progress: 76%\r",
      "xmin progress: 76%\r",
      "xmin progress: 76%\r",
      "xmin progress: 76%\r",
      "xmin progress: 76%\r",
      "xmin progress: 77%\r",
      "xmin progress: 77%\r",
      "xmin progress: 77%\r",
      "xmin progress: 77%\r",
      "xmin progress: 78%\r",
      "xmin progress: 78%\r",
      "xmin progress: 78%\r",
      "xmin progress: 78%\r",
      "xmin progress: 78%\r",
      "xmin progress: 79%\r",
      "xmin progress: 79%\r",
      "xmin progress: 79%\r",
      "xmin progress: 79%\r",
      "xmin progress: 79%\r",
      "xmin progress: 80%\r",
      "xmin progress: 80%\r",
      "xmin progress: 80%\r",
      "xmin progress: 80%\r",
      "xmin progress: 80%\r",
      "xmin progress: 81%\r",
      "xmin progress: 81%\r",
      "xmin progress: 81%\r",
      "xmin progress: 81%\r",
      "xmin progress: 82%\r",
      "xmin progress: 82%\r",
      "xmin progress: 82%\r",
      "xmin progress: 82%\r",
      "xmin progress: 82%\r",
      "xmin progress: 83%\r",
      "xmin progress: 83%\r",
      "xmin progress: 83%\r",
      "xmin progress: 83%\r",
      "xmin progress: 83%\r",
      "xmin progress: 84%\r",
      "xmin progress: 84%\r",
      "xmin progress: 84%\r",
      "xmin progress: 84%\r",
      "xmin progress: 84%\r",
      "xmin progress: 85%\r",
      "xmin progress: 85%\r",
      "xmin progress: 85%\r",
      "xmin progress: 85%\r",
      "xmin progress: 85%\r",
      "xmin progress: 86%\r",
      "xmin progress: 86%\r",
      "xmin progress: 86%\r",
      "xmin progress: 86%\r",
      "xmin progress: 87%\r",
      "xmin progress: 87%\r",
      "xmin progress: 87%\r",
      "xmin progress: 87%\r",
      "xmin progress: 87%\r",
      "xmin progress: 88%\r",
      "xmin progress: 88%\r",
      "xmin progress: 88%\r",
      "xmin progress: 88%\r",
      "xmin progress: 88%\r",
      "xmin progress: 89%\r",
      "xmin progress: 89%\r",
      "xmin progress: 89%\r",
      "xmin progress: 89%\r",
      "xmin progress: 89%\r",
      "xmin progress: 90%\r",
      "xmin progress: 90%\r",
      "xmin progress: 90%\r",
      "xmin progress: 90%\r",
      "xmin progress: 91%\r",
      "xmin progress: 91%\r",
      "xmin progress: 91%\r",
      "xmin progress: 91%\r",
      "xmin progress: 91%\r",
      "xmin progress: 92%\r",
      "xmin progress: 92%\r",
      "xmin progress: 92%\r",
      "xmin progress: 92%\r",
      "xmin progress: 92%\r",
      "xmin progress: 93%\r",
      "xmin progress: 93%\r",
      "xmin progress: 93%\r",
      "xmin progress: 93%\r",
      "xmin progress: 93%\r",
      "xmin progress: 94%\r",
      "xmin progress: 94%\r",
      "xmin progress: 94%\r",
      "xmin progress: 94%\r",
      "xmin progress: 94%\r",
      "xmin progress: 95%\r",
      "xmin progress: 95%\r",
      "xmin progress: 95%\r",
      "xmin progress: 95%\r",
      "xmin progress: 96%\r",
      "xmin progress: 96%\r",
      "xmin progress: 96%\r",
      "xmin progress: 96%\r",
      "xmin progress: 96%\r",
      "xmin progress: 97%\r",
      "xmin progress: 97%\r",
      "xmin progress: 97%\r",
      "xmin progress: 97%\r",
      "xmin progress: 97%\r",
      "xmin progress: 98%\r",
      "xmin progress: 98%\r",
      "xmin progress: 98%\r",
      "xmin progress: 98%\r",
      "xmin progress: 98%\r",
      "xmin progress: 99%\r",
      "xmin progress: 99%\r",
      "xmin progress: 99%\r",
      "xmin progress: 99%\r",
      "{'power_law': <class 'powerlaw.Power_Law'>, 'lognormal': <class 'powerlaw.Lognormal'>, 'exponential': <class 'powerlaw.Exponential'>, 'truncated_power_law': <class 'powerlaw.Truncated_Power_Law'>, 'stretched_exponential': <class 'powerlaw.Stretched_Exponential'>, 'lognormal_positive': <class 'powerlaw.Lognormal_Positive'>}\n"
     ]
    }
   ],
   "source": [
    "results = powerlaw.Fit(degree_sequence)\n",
    "\n",
    "print(results.supported_distributions)"
   ]
  },
  {
   "cell_type": "code",
   "execution_count": 53,
   "id": "a275d4e2",
   "metadata": {},
   "outputs": [
    {
     "name": "stdout",
     "output_type": "stream",
     "text": [
      "2.2464827254754156\n",
      "156.0\n",
      "0.05602523213855549\n",
      "Loglikelihood ratio: 22.597196374035335\n",
      "Statistical significance: 0.07297667095794498\n"
     ]
    },
    {
     "name": "stderr",
     "output_type": "stream",
     "text": [
      "Assuming nested distributions\n"
     ]
    },
    {
     "name": "stdout",
     "output_type": "stream",
     "text": [
      "Loglikelihood ratio: -15.610393791125452\n",
      "Statistical significance: 2.3028685403048144e-08\n",
      "Loglikelihood ratio: -38.20759016516083\n",
      "Statistical significance: 2.1843097673389458e-05\n"
     ]
    }
   ],
   "source": [
    "print(results.power_law.alpha)\n",
    "print(results.power_law.xmin)\n",
    "print(results.power_law.sigma)\n",
    "R, p = results.distribution_compare('power_law', 'exponential')\n",
    "print(f\"Loglikelihood ratio: {R}\")\n",
    "print(f\"Statistical significance: {p}\")\n",
    "R, p = results.distribution_compare('power_law', 'truncated_power_law')\n",
    "print(f\"Loglikelihood ratio: {R}\")\n",
    "print(f\"Statistical significance: {p}\")\n",
    "R, p = results.distribution_compare('exponential', 'truncated_power_law')\n",
    "print(f\"Loglikelihood ratio: {R}\")\n",
    "print(f\"Statistical significance: {p}\")"
   ]
  },
  {
   "cell_type": "markdown",
   "id": "987d633f",
   "metadata": {},
   "source": [
    "#### Hubs and authorities"
   ]
  },
  {
   "cell_type": "code",
   "execution_count": 54,
   "id": "3b2421d7",
   "metadata": {},
   "outputs": [],
   "source": [
    "### 15) Odrediti najvažnije habove i autoritete u mreži. \n",
    "# Kako su oni raspoređeni i ugrađeni u mrežu, da li su na periferiji ili u jezgru mreže?\n",
    "\n",
    "# Hubs and authorities are a natural generalization of eigenvector centrality.\n",
    "# A high hub actor points to many good authories and \n",
    "# a high authority actor receives from many good hubs. \n",
    "\n",
    "# Mreza je neusmerena -> nema habove i autoritete."
   ]
  },
  {
   "cell_type": "code",
   "execution_count": 55,
   "id": "8a83a6bf",
   "metadata": {},
   "outputs": [],
   "source": [
    "DiG = nx.DiGraph()\n",
    "\n",
    "DiG.add_nodes_from([1, 2])\n",
    "DiG.add_edge(1, 2)\n",
    "DiG.add_edge(1, 2)\n",
    "DiG.add_edge(2, 1)\n",
    "DiG.edges[1, 2]['weight'] = 2;\n",
    "DiG.edges[2, 1]['weight'] = 1;\n",
    "\n",
    "nx.write_gml(DiG, \"models/test.gml\")"
   ]
  },
  {
   "cell_type": "markdown",
   "id": "5cfe3ffb",
   "metadata": {},
   "source": [
    "# Mere centralnosti"
   ]
  },
  {
   "cell_type": "code",
   "execution_count": 56,
   "id": "b11844bf",
   "metadata": {},
   "outputs": [],
   "source": [
    "import networkx as nx\n",
    "\n",
    "G = nx.Graph(nx.read_gml(\"models/our_model.gml\"))"
   ]
  },
  {
   "cell_type": "code",
   "execution_count": 57,
   "id": "da152dfd",
   "metadata": {},
   "outputs": [
    {
     "name": "stdout",
     "output_type": "stream",
     "text": [
      "[3525, 3, 3, 3, 2, 2, 2, 2, 2, 2, 2, 2, 2, 2, 2, 2, 2, 2, 2, 2, 1, 1, 1, 1, 1, 1, 1, 1, 1, 1, 1, 1, 1, 1, 1, 1, 1, 1, 1, 1, 1, 1, 1, 1, 1, 1, 1, 1, 1, 1, 1, 1, 1, 1, 1, 1, 1, 1, 1, 1, 1, 1, 1, 1, 1, 1, 1, 1, 1, 1, 1, 1, 1, 1, 1, 1, 1, 1, 1, 1, 1, 1, 1, 1, 1, 1, 1, 1, 1, 1, 1, 1, 1, 1, 1, 1, 1, 1, 1, 1, 1, 1, 1, 1, 1, 1, 1, 1, 1, 1, 1, 1, 1, 1, 1, 1, 1, 1, 1, 1, 1, 1, 1, 1, 1, 1, 1, 1, 1, 1, 1, 1, 1, 1, 1, 1, 1, 1, 1, 1, 1, 1, 1, 1, 1, 1, 1, 1, 1, 1, 1, 1, 1, 1, 1, 1, 1, 1, 1, 1, 1, 1, 1, 1, 1, 1, 1, 1, 1, 1, 1, 1, 1, 1, 1, 1, 1, 1, 1, 1, 1, 1, 1, 1, 1, 1, 1, 1, 1, 1, 1, 1, 1, 1, 1, 1, 1, 1, 1, 1, 1, 1, 1, 1, 1, 1, 1, 1, 1, 1, 1, 1, 1, 1, 1, 1, 1, 1, 1, 1, 1, 1, 1, 1, 1, 1, 1, 1, 1, 1, 1, 1, 1, 1, 1, 1, 1, 1, 1, 1, 1, 1, 1, 1, 1, 1, 1, 1, 1, 1, 1, 1, 1, 1, 1, 1, 1, 1, 1, 1, 1, 1, 1, 1, 1, 1, 1, 1, 1, 1, 1, 1, 1, 1, 1, 1, 1, 1, 1, 1, 1, 1, 1, 1, 1, 1, 1, 1, 1, 1, 1, 1, 1, 1, 1, 1, 1, 1, 1, 1, 1, 1, 1, 1, 1, 1, 1, 1, 1, 1, 1, 1, 1, 1, 1, 1, 1, 1, 1, 1, 1, 1, 1, 1, 1, 1, 1, 1, 1, 1, 1, 1, 1, 1, 1, 1, 1, 1, 1, 1, 1, 1, 1, 1, 1, 1, 1, 1, 1, 1, 1, 1, 1, 1, 1, 1, 1, 1, 1, 1, 1, 1, 1, 1, 1, 1, 1, 1, 1, 1, 1, 1, 1, 1, 1, 1, 1, 1, 1, 1, 1, 1, 1, 1, 1, 1, 1, 1, 1, 1, 1, 1, 1, 1, 1, 1, 1, 1, 1, 1, 1, 1, 1, 1, 1, 1, 1, 1, 1, 1, 1, 1, 1, 1, 1, 1, 1, 1, 1, 1, 1, 1, 1, 1, 1, 1, 1, 1, 1, 1, 1, 1, 1, 1, 1, 1, 1, 1, 1, 1, 1, 1, 1, 1, 1, 1, 1, 1, 1, 1, 1, 1, 1, 1, 1, 1, 1, 1, 1, 1, 1, 1, 1, 1, 1, 1, 1, 1, 1, 1, 1, 1, 1, 1, 1, 1, 1, 1, 1, 1, 1, 1, 1, 1, 1, 1, 1, 1, 1, 1, 1, 1, 1, 1, 1, 1, 1, 1, 1, 1, 1, 1, 1, 1, 1, 1, 1, 1, 1, 1, 1, 1, 1, 1, 1, 1, 1, 1, 1, 1, 1, 1, 1, 1, 1, 1, 1, 1, 1, 1, 1, 1, 1, 1, 1, 1, 1, 1, 1, 1, 1, 1, 1, 1, 1, 1, 1, 1, 1, 1, 1, 1, 1, 1, 1, 1, 1, 1, 1, 1, 1, 1, 1, 1, 1, 1, 1, 1, 1, 1, 1, 1, 1, 1, 1, 1, 1, 1, 1, 1, 1, 1, 1, 1, 1, 1, 1, 1, 1, 1, 1, 1, 1, 1, 1, 1, 1, 1, 1, 1, 1, 1, 1, 1, 1, 1, 1, 1, 1, 1, 1, 1, 1, 1, 1, 1, 1, 1, 1, 1, 1, 1, 1, 1, 1, 1, 1, 1, 1, 1, 1, 1, 1, 1, 1, 1, 1, 1, 1, 1, 1, 1, 1, 1, 1, 1, 1, 1, 1, 1, 1, 1, 1, 1, 1, 1, 1, 1, 1, 1, 1, 1, 1, 1, 1, 1, 1, 1, 1, 1, 1, 1, 1, 1, 1, 1, 1, 1, 1, 1, 1, 1, 1, 1, 1, 1, 1, 1, 1, 1, 1, 1, 1, 1, 1, 1, 1, 1, 1, 1, 1, 1, 1, 1, 1, 1, 1, 1, 1, 1, 1, 1, 1, 1, 1, 1, 1, 1, 1, 1, 1, 1, 1, 1, 1, 1, 1, 1, 1, 1, 1, 1, 1, 1, 1, 1, 1, 1, 1, 1, 1, 1, 1, 1, 1, 1, 1, 1, 1, 1, 1, 1, 1, 1, 1, 1, 1, 1, 1, 1, 1, 1, 1, 1, 1, 1, 1, 1, 1, 1, 1, 1, 1, 1, 1, 1, 1, 1, 1, 1, 1, 1, 1, 1, 1, 1, 1, 1, 1, 1, 1, 1, 1, 1, 1, 1, 1, 1, 1, 1, 1, 1, 1, 1, 1, 1, 1, 1, 1, 1, 1, 1, 1, 1, 1, 1, 1, 1, 1, 1, 1, 1, 1, 1, 1, 1, 1, 1, 1, 1, 1, 1, 1, 1, 1, 1, 1, 1, 1, 1, 1, 1, 1, 1, 1, 1, 1, 1, 1, 1, 1, 1, 1, 1, 1, 1, 1, 1, 1, 1, 1, 1, 1, 1, 1, 1, 1, 1, 1, 1, 1, 1, 1, 1, 1, 1, 1, 1, 1, 1, 1, 1, 1, 1, 1, 1, 1, 1, 1, 1, 1, 1, 1, 1, 1, 1, 1, 1, 1, 1, 1, 1, 1, 1, 1, 1, 1, 1, 1, 1, 1, 1, 1, 1, 1, 1, 1, 1, 1, 1, 1, 1, 1, 1, 1, 1, 1, 1, 1, 1, 1, 1, 1, 1, 1, 1, 1, 1, 1, 1, 1, 1, 1, 1, 1, 1, 1, 1, 1, 1, 1, 1, 1, 1, 1, 1, 1, 1, 1, 1, 1, 1, 1, 1, 1, 1, 1, 1, 1, 1, 1, 1, 1, 1, 1, 1, 1, 1, 1, 1, 1, 1, 1, 1, 1, 1, 1, 1, 1, 1, 1, 1, 1, 1, 1, 1, 1, 1, 1, 1, 1, 1, 1, 1, 1, 1, 1, 1, 1, 1, 1, 1, 1, 1, 1, 1, 1, 1, 1, 1, 1, 1, 1, 1, 1, 1, 1, 1, 1, 1, 1, 1, 1, 1, 1, 1, 1, 1, 1, 1, 1, 1, 1, 1, 1, 1, 1, 1, 1, 1, 1, 1, 1, 1, 1, 1, 1, 1, 1, 1, 1, 1, 1, 1, 1, 1, 1, 1, 1, 1, 1, 1, 1, 1, 1, 1, 1, 1, 1, 1, 1, 1, 1, 1, 1, 1, 1, 1, 1, 1, 1, 1, 1, 1, 1, 1, 1, 1, 1, 1, 1, 1, 1, 1, 1, 1, 1, 1, 1, 1, 1, 1, 1, 1, 1, 1, 1, 1, 1, 1, 1, 1, 1, 1, 1, 1, 1, 1, 1, 1, 1, 1, 1, 1, 1, 1, 1, 1, 1, 1, 1, 1, 1, 1, 1, 1, 1, 1, 1, 1, 1, 1, 1, 1, 1, 1, 1, 1, 1, 1, 1, 1, 1, 1, 1, 1, 1, 1, 1, 1, 1, 1, 1, 1, 1, 1, 1, 1, 1, 1, 1, 1, 1, 1, 1, 1, 1, 1, 1, 1, 1, 1, 1, 1, 1, 1, 1, 1, 1, 1, 1, 1, 1, 1, 1, 1, 1, 1, 1, 1, 1, 1, 1, 1, 1, 1, 1, 1, 1, 1, 1, 1, 1, 1, 1, 1, 1, 1, 1, 1, 1, 1, 1, 1, 1, 1, 1, 1, 1, 1, 1, 1, 1, 1, 1, 1, 1, 1, 1, 1, 1, 1, 1, 1, 1, 1, 1, 1, 1, 1, 1, 1, 1, 1, 1, 1, 1, 1, 1, 1, 1, 1, 1, 1, 1, 1, 1, 1, 1, 1, 1, 1, 1, 1, 1, 1, 1, 1, 1, 1, 1, 1, 1, 1, 1, 1, 1, 1, 1, 1, 1, 1, 1, 1, 1, 1, 1, 1, 1, 1, 1, 1, 1, 1, 1, 1, 1, 1, 1, 1, 1, 1, 1, 1, 1, 1, 1, 1, 1, 1, 1, 1, 1, 1, 1, 1, 1, 1, 1, 1, 1, 1, 1, 1, 1, 1, 1, 1, 1, 1, 1, 1, 1, 1, 1, 1, 1, 1, 1, 1, 1, 1, 1, 1, 1, 1, 1, 1, 1, 1, 1, 1, 1, 1, 1, 1, 1, 1, 1, 1, 1, 1, 1, 1, 1, 1, 1, 1, 1, 1, 1, 1, 1, 1, 1, 1, 1, 1, 1, 1, 1, 1, 1, 1, 1, 1, 1, 1, 1, 1, 1, 1, 1, 1, 1, 1, 1, 1, 1, 1, 1, 1, 1, 1, 1, 1, 1, 1, 1, 1, 1, 1, 1, 1, 1, 1, 1, 1, 1, 1, 1, 1, 1, 1, 1, 1, 1, 1, 1, 1, 1, 1, 1, 1, 1, 1, 1, 1, 1, 1, 1, 1, 1, 1, 1, 1, 1, 1, 1, 1, 1, 1, 1, 1, 1, 1, 1, 1, 1, 1, 1, 1, 1, 1, 1, 1]\n"
     ]
    }
   ],
   "source": [
    "component_size_list = [len(c) for c in sorted(nx.connected_components(G), key=len, reverse=True)]\n",
    "print(component_size_list)"
   ]
  },
  {
   "cell_type": "code",
   "execution_count": 58,
   "id": "cb5c4e8f",
   "metadata": {},
   "outputs": [
    {
     "name": "stdout",
     "output_type": "stream",
     "text": [
      "Dominantna komponenta ima 3525 čvorova i 156941 grana\n"
     ]
    }
   ],
   "source": [
    "largest_cc = max(nx.connected_components(G), key=len)\n",
    "S = [G.subgraph(c).copy() for c in nx.connected_components(G)]\n",
    "Gdom = G.subgraph(largest_cc).copy()\n",
    "print(f\"Dominantna komponenta ima {len(Gdom.nodes())} čvorova i {len(Gdom.edges())} grana\")\n",
    "nx.write_gml(Gdom, \"models/gdom_model.gml\")"
   ]
  },
  {
   "cell_type": "code",
   "execution_count": 59,
   "id": "e5b8c3b9",
   "metadata": {},
   "outputs": [],
   "source": [
    "def measure_centrality(measure_name, graph):\n",
    "    if measure_name == 'DC':\n",
    "        cm_dict = nx.degree_centrality(graph)\n",
    "    if measure_name == 'CC':\n",
    "        cm_dict = nx.closeness_centrality(graph)\n",
    "    if measure_name == 'BC':\n",
    "        cm_dict = nx.betweenness_centrality(graph)\n",
    "    if measure_name == 'EC':\n",
    "        cm_dict = nx.eigenvector_centrality(graph, weight='weight')\n",
    "\n",
    "    df_cm = pd.DataFrame.from_dict(cm_dict, orient='index', columns=[measure_name])\n",
    "    df_cm = pd.DataFrame({measure_name:df_cm[measure_name]})\n",
    "    df_cm.sort_values(by=measure_name, ascending=False, inplace = True)\n",
    "\n",
    "    print(df_cm.head(10))"
   ]
  },
  {
   "cell_type": "code",
   "execution_count": 60,
   "id": "8cf384fd",
   "metadata": {},
   "outputs": [
    {
     "name": "stdout",
     "output_type": "stream",
     "text": [
      "                DC\n",
      "t5_6      0.892168\n",
      "t5_2qh16  0.630250\n",
      "t5_2cneq  0.627696\n",
      "t5_2qh0u  0.616345\n",
      "t5_2qh33  0.602440\n",
      "t5_mouw   0.597616\n",
      "t5_2qh13  0.593360\n",
      "t5_2qh0f  0.584847\n",
      "t5_2qh61  0.580306\n",
      "t5_2fwo   0.580023\n",
      "                CC\n",
      "t5_6      0.901971\n",
      "t5_2qh16  0.728250\n",
      "t5_2cneq  0.726149\n",
      "t5_2qh0u  0.720213\n",
      "t5_2qh33  0.712495\n",
      "t5_mouw   0.710198\n",
      "t5_2qh13  0.708342\n",
      "t5_2qh0f  0.703955\n",
      "t5_2qh61  0.701433\n",
      "t5_2fwo   0.700875\n",
      "                BC\n",
      "t5_6      0.368649\n",
      "t5_2qh16  0.049345\n",
      "t5_2fwo   0.043684\n",
      "t5_2cneq  0.043102\n",
      "t5_2qgzg  0.041273\n",
      "t5_2qh0f  0.037738\n",
      "t5_2qh0u  0.037659\n",
      "t5_2qh13  0.033641\n",
      "t5_2qh33  0.032297\n",
      "t5_mouw   0.031969\n",
      "                EC\n",
      "t5_6      0.374684\n",
      "t5_2cneq  0.312669\n",
      "t5_2qh0u  0.291857\n",
      "t5_2qh33  0.279569\n",
      "t5_mouw   0.273050\n",
      "t5_2qh16  0.263952\n",
      "t5_2qh13  0.258876\n",
      "t5_2qh61  0.257432\n",
      "t5_2qh0f  0.247071\n",
      "t5_2fwo   0.220668\n"
     ]
    }
   ],
   "source": [
    "measure_centrality('DC', Gdom)\n",
    "measure_centrality('CC', Gdom)\n",
    "measure_centrality('BC', Gdom)\n",
    "measure_centrality('EC', Gdom)"
   ]
  },
  {
   "cell_type": "code",
   "execution_count": 61,
   "id": "0a4d052b",
   "metadata": {},
   "outputs": [
    {
     "name": "stdout",
     "output_type": "stream",
     "text": [
      "          degree\n",
      "t5_6      393802\n",
      "t5_2cneq  322330\n",
      "t5_2qh0u  305745\n",
      "t5_2qh33  292942\n",
      "t5_mouw   288340\n",
      "t5_2qh16  277894\n",
      "t5_2qh61  272238\n",
      "t5_2qh13  270770\n",
      "t5_2qh0f  259155\n",
      "t5_2fwo   230749\n"
     ]
    }
   ],
   "source": [
    "degrees = sorted(Gdom.degree(weight='weight'), key=lambda x:x[1], reverse = True)\n",
    "df_degree = pd.DataFrame.from_dict(dict(degrees), orient='index', columns=['degree'])\n",
    "print(df_degree.head(10))"
   ]
  },
  {
   "cell_type": "code",
   "execution_count": 62,
   "id": "fd71bdf0",
   "metadata": {},
   "outputs": [
    {
     "name": "stdout",
     "output_type": "stream",
     "text": [
      "(183421.41895347144+0j)\n",
      "(5.451925983920506e-06+0j)\n"
     ]
    }
   ],
   "source": [
    "lambda_max =  max(nx.adjacency_spectrum(Gdom))\n",
    "print(lambda_max)\n",
    "print(1/lambda_max)"
   ]
  },
  {
   "cell_type": "code",
   "execution_count": 63,
   "id": "c001322c",
   "metadata": {},
   "outputs": [
    {
     "name": "stdout",
     "output_type": "stream",
     "text": [
      "                KC\n",
      "t5_6      0.274325\n",
      "t5_2cneq  0.230428\n",
      "t5_2qh0u  0.216072\n",
      "t5_2qh33  0.207436\n",
      "t5_mouw   0.202965\n",
      "t5_2qh16  0.196517\n",
      "t5_2qh13  0.192849\n",
      "t5_2qh61  0.192007\n",
      "t5_2qh0f  0.184599\n",
      "t5_2fwo   0.165974\n",
      "                KC\n",
      "t5_6      0.111426\n",
      "t5_2cneq  0.095260\n",
      "t5_2qh0u  0.090282\n",
      "t5_2qh33  0.087154\n",
      "t5_mouw   0.085626\n",
      "t5_2qh16  0.083247\n",
      "t5_2qh13  0.081838\n",
      "t5_2qh61  0.081670\n",
      "t5_2qh0f  0.078885\n",
      "t5_2fwo   0.072089\n",
      "                KC\n",
      "t5_6      0.060535\n",
      "t5_2cneq  0.052969\n",
      "t5_2qh0u  0.050783\n",
      "t5_2qh33  0.049345\n",
      "t5_mouw   0.048686\n",
      "t5_2qh16  0.047573\n",
      "t5_2qh13  0.046887\n",
      "t5_2qh61  0.046872\n",
      "t5_2qh0f  0.045545\n",
      "t5_2fwo   0.042399\n",
      "                KC\n",
      "t5_6      0.037699\n",
      "t5_2cneq  0.034030\n",
      "t5_2qh0u  0.033040\n",
      "t5_2qh33  0.032355\n",
      "t5_mouw   0.032063\n",
      "t5_2qh16  0.031524\n",
      "t5_2qh61  0.031201\n",
      "t5_2qh13  0.031179\n",
      "t5_2qh0f  0.030547\n",
      "t5_2fwo   0.029041\n",
      "                KC\n",
      "t5_6      0.024935\n",
      "t5_2cneq  0.023486\n",
      "t5_2qh0u  0.023123\n",
      "t5_2qh33  0.022858\n",
      "t5_mouw   0.022753\n",
      "t5_2qh16  0.022541\n",
      "t5_2qh61  0.022420\n",
      "t5_2qh13  0.022400\n",
      "t5_2qh0f  0.022158\n",
      "t5_2fwo   0.021572\n"
     ]
    }
   ],
   "source": [
    "alpha_values = [0.000005, 0.000004, 0.000003, 0.000002, 0.000001]\n",
    "\n",
    "for a in alpha_values:\n",
    "    KC_dict = nx.katz_centrality(Gdom, alpha=a, beta=1.0, max_iter=1000, tol=1e-06, nstart=None, normalized=True, weight='weight')\n",
    "    df_katzc = pd.DataFrame.from_dict(KC_dict, orient='index', columns=['KC'])\n",
    "    df_katzc.sort_values(by='KC', ascending=False, inplace = True)\n",
    "    print(df_katzc.head(10))"
   ]
  },
  {
   "cell_type": "code",
   "execution_count": 64,
   "id": "35dded1e",
   "metadata": {},
   "outputs": [
    {
     "name": "stdout",
     "output_type": "stream",
     "text": [
      "                KC\n",
      "t5_6      0.374052\n",
      "t5_2cneq  0.262997\n",
      "t5_2qh0u  0.245159\n",
      "t5_2qh33  0.235036\n",
      "t5_mouw   0.229735\n",
      "t5_2qh16  0.222666\n",
      "t5_2qh13  0.218098\n",
      "t5_2qh61  0.216845\n",
      "t5_2qh0f  0.208969\n",
      "t5_2fwo   0.187175\n",
      "                KC\n",
      "t5_6      0.271547\n",
      "t5_2cneq  0.133354\n",
      "t5_2qh0u  0.124117\n",
      "t5_2qh33  0.119297\n",
      "t5_mouw   0.116842\n",
      "t5_2qh16  0.113930\n",
      "t5_2qh13  0.111350\n",
      "t5_2qh61  0.110682\n",
      "t5_2qh0f  0.107631\n",
      "t5_2fwo   0.097215\n",
      "                KC\n",
      "t5_6      0.215890\n",
      "t5_2cneq  0.074746\n",
      "t5_2qh0u  0.069679\n",
      "t5_2qh33  0.067239\n",
      "t5_mouw   0.066027\n",
      "t5_2qh16  0.064785\n",
      "t5_2qh13  0.063274\n",
      "t5_2qh61  0.062897\n",
      "t5_2qh0f  0.061708\n",
      "t5_2qgzg  0.056561\n",
      "                KC\n",
      "t5_6      0.188717\n",
      "t5_2cneq  0.045537\n",
      "t5_2qh0u  0.042762\n",
      "t5_2qh33  0.041523\n",
      "t5_mouw   0.040923\n",
      "t5_2qh16  0.040411\n",
      "t5_2qh13  0.039541\n",
      "t5_2qh61  0.039329\n",
      "t5_2qh0f  0.038907\n",
      "t5_2qgzg  0.036403\n",
      "                KC\n",
      "t5_6      0.174179\n",
      "t5_2cneq  0.028214\n",
      "t5_2qh0u  0.026992\n",
      "t5_2qh33  0.026484\n",
      "t5_mouw   0.026243\n",
      "t5_2qh16  0.026083\n",
      "t5_2qh13  0.025684\n",
      "t5_2qh61  0.025588\n",
      "t5_2qh0f  0.025490\n",
      "t5_2qgzg  0.024508\n"
     ]
    }
   ],
   "source": [
    "nodes_list = list(Gdom.nodes)\n",
    "beta_values = [1] * len(nodes_list)\n",
    "\n",
    "vip_subreddit = unique_subreddits[unique_subreddits['subreddit'] == 'reddit.com']\n",
    "vip_index = nodes_list.index(vip_subreddit['subreddit_id'].item())\n",
    "beta_values[vip_index] = 10\n",
    "\n",
    "beta_dict = dict(zip(nodes_list, beta_values))\n",
    "\n",
    "for a in alpha_values:\n",
    "    KC_dict = nx.katz_centrality(Gdom, alpha=a, beta=beta_dict, max_iter=1000, tol=1e-06, nstart=None, normalized=True, weight='weight')\n",
    "    df_katzc = pd.DataFrame.from_dict(KC_dict, orient='index', columns=['KC'])\n",
    "    df_katzc.sort_values(by='KC', ascending=False, inplace = True)\n",
    "    print(df_katzc.head(10))"
   ]
  },
  {
   "cell_type": "markdown",
   "id": "92c8d3c2",
   "metadata": {},
   "source": [
    "# Komune"
   ]
  },
  {
   "cell_type": "code",
   "execution_count": null,
   "id": "659b820d",
   "metadata": {},
   "outputs": [],
   "source": [
    "!pip install sklearn\n",
    "from scipy import linalg\n",
    "import matplotlib.pyplot as plt\n",
    "import numpy as np\n",
    "from sklearn.cluster import SpectralClustering"
   ]
  },
  {
   "cell_type": "code",
   "execution_count": null,
   "id": "8e54817e",
   "metadata": {},
   "outputs": [],
   "source": [
    "def plot_scatterplot(x_data, y_data, x_label, y_label, title):\n",
    "    fig, ax = plt.subplots()\n",
    "    ax.scatter(x_data, y_data) \n",
    "    ax.set_ylabel(y_label, fontsize=15)\n",
    "    ax.set_xlabel(x_label, fontsize=15)\n",
    "    ax.set_title(title)\n",
    "    plt.show() "
   ]
  },
  {
   "cell_type": "code",
   "execution_count": null,
   "id": "82c28afa",
   "metadata": {},
   "outputs": [],
   "source": [
    "L_dom = nx.laplacian_matrix(Gdom).toarray()\n",
    "\n",
    "eigenvalues = linalg.eigvals(L_dom) # TODO: change to .eigenvalsh because we know the matrix is symmetric\n",
    "eigenvalues.sort()\n",
    "enumerator = np.array(range(1, len(eigenvalues)+1))\n",
    "df_eig = pd.DataFrame(list(zip(enumerator, eigenvalues)))\n",
    "\n",
    "# write eigenvalue table\n",
    "df_eig30 = df_eig[:60]\n",
    "df_eig30.columns = ['k', 'lambda_k']\n",
    "df_eig30 = df_eig30.astype({'k': 'int32', 'lambda_k':'float'})\n",
    "print(df_eig30)\n",
    "\n",
    "plot_scatterplot(enumerator, eigenvalues, r'$k$', r'$\\lambda_k$', 'Ceo spektar graf laplasijana dominantne komponente')\n",
    "\n",
    "df_eig_30 = df_eig[:30]\n",
    "plot_scatterplot(df_eig_30.iloc[:,0], df_eig_30.iloc[:,1], r'$k$', r'$\\lambda_k$', 'Prvih 30 sopstvenih vrednosti graf laplasijana dom. komponente')"
   ]
  },
  {
   "cell_type": "code",
   "execution_count": null,
   "id": "a6183b0a",
   "metadata": {},
   "outputs": [],
   "source": [
    "points_of_interest = [2, 3, 5, 8, 12, 14, 17]\n",
    "\n",
    "for k in points_of_interest:\n",
    "    \n",
    "    clustering = SpectralClustering(n_clusters=k,\n",
    "    assign_labels=\"discretize\", affinity=\"precomputed\").fit(nx.adjacency_matrix(Gdom))\n",
    "\n",
    "    colors = clustering.labels_\n",
    "    c_string = []\n",
    "    for c in colors:\n",
    "        c_string.append(str(c))\n",
    "\n",
    "    G = nx.Graph()\n",
    "    for c, label in zip(c_string, Gdom.nodes()):\n",
    "        G.add_node(label, color=c)\n",
    "\n",
    "    for edge in Gdom.edges(data=True):\n",
    "        #print(edge)\n",
    "        G.add_edge(edge[0], edge[1], weight=edge[2]['weight'])\n",
    "\n",
    "    # nx.write_pajek(G, \"etf/spectral3.net\")\n",
    "    nx.write_gml(G, f\"models/spectral{k}.gml\")\n",
    "    \n",
    "    csizes = np.zeros(shape=k, dtype=int)\n",
    "    for c in colors:\n",
    "        csizes[int(c)] += 1\n",
    "    \n",
    "    print(f\"Podela na {k}: velicine komponenata su {csizes}\")"
   ]
  },
  {
   "cell_type": "code",
   "execution_count": null,
   "id": "78895d7e",
   "metadata": {},
   "outputs": [],
   "source": [
    "k = 2\n",
    "Gcom = nx.Graph(nx.read_gml(f\"models/spectral{k}.gml\"))"
   ]
  },
  {
   "cell_type": "code",
   "execution_count": null,
   "id": "b5c11cd5",
   "metadata": {},
   "outputs": [],
   "source": [
    "com_ids = [None] * k\n",
    "\n",
    "for i in range(k):\n",
    "    com_ids[i] = []\n",
    "\n",
    "for n, prop in Gcom.nodes(data=True):\n",
    "    com_ids[int(prop['color'])].append(n)\n",
    "    \n",
    "for l in com_ids:\n",
    "    print(\"\\n\")\n",
    "    print(l)"
   ]
  },
  {
   "cell_type": "code",
   "execution_count": null,
   "id": "2cf50239",
   "metadata": {},
   "outputs": [],
   "source": [
    "color_subred = unique_subreddits[unique_subreddits['subreddit_id'].isin(com_ids[1])]\n",
    "print(color_subred)"
   ]
  },
  {
   "cell_type": "code",
   "execution_count": null,
   "id": "965a92f2",
   "metadata": {},
   "outputs": [],
   "source": [
    "DiG = nx.DiGraph()\n",
    "\n",
    "DiG.add_nodes_from([1, 2])\n",
    "DiG.add_edge(1, 2)\n",
    "DiG.add_edge(1, 2)\n",
    "DiG.add_edge(2, 1)\n",
    "DiG.edges[1, 2]['weight'] = 2;\n",
    "\n",
    "nx.write_gml(DiG, \"models/test.gml\")"
   ]
  },
  {
   "cell_type": "code",
   "execution_count": null,
   "id": "5abd0b3e",
   "metadata": {},
   "outputs": [],
   "source": []
  }
 ],
 "metadata": {
  "kernelspec": {
   "display_name": "Python 3 (ipykernel)",
   "language": "python",
   "name": "python3"
  },
  "language_info": {
   "codemirror_mode": {
    "name": "ipython",
    "version": 3
   },
   "file_extension": ".py",
   "mimetype": "text/x-python",
   "name": "python",
   "nbconvert_exporter": "python",
   "pygments_lexer": "ipython3",
   "version": "3.9.12"
  }
 },
 "nbformat": 4,
 "nbformat_minor": 5
}
